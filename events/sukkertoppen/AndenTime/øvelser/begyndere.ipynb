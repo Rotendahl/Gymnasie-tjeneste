{
 "cells": [
  {
   "cell_type": "markdown",
   "metadata": {},
   "source": [
    "# Python opgaver for begyndere\n",
    "## Her er lidt at gå i gang med for de helt nye til Python\n",
    "#### Sig endelig til hvis I har brug for hjælp! I skal løse opgaverne i rækkefølge.\n",
    "Prøv at indsætte de rigtige værdier og variabler dér hvor de mangler!"
   ]
  },
  {
   "cell_type": "markdown",
   "metadata": {
    "collapsed": true
   },
   "source": [
    "Lav først en liste med alle de ulige tal fra 0 til 10."
   ]
  },
  {
   "cell_type": "code",
   "execution_count": null,
   "metadata": {
    "collapsed": false
   },
   "outputs": [],
   "source": [
    "liste = []\n",
    "for i in range(_start, _slut, _skridt):\n",
    "    liste.append(_et_tal)"
   ]
  },
  {
   "cell_type": "markdown",
   "metadata": {},
   "source": [
    "Find elementet i midten af listen."
   ]
  },
  {
   "cell_type": "code",
   "execution_count": null,
   "metadata": {
    "collapsed": true
   },
   "outputs": [],
   "source": [
    "midten = a[_den_plads_du_vil_have_i_listen]"
   ]
  },
  {
   "cell_type": "markdown",
   "metadata": {},
   "source": [
    "Beregn gennemsnittet af listen."
   ]
  },
  {
   "cell_type": "code",
   "execution_count": null,
   "metadata": {
    "collapsed": true
   },
   "outputs": [],
   "source": [
    "gennemsnit = _summen / _langden # der findes funktioner der hedder sum() og len() "
   ]
  },
  {
   "cell_type": "markdown",
   "metadata": {},
   "source": [
    "Skriv til skærmen at det var en success, hvis gennemsnittet af listen er lig med det miderste element."
   ]
  },
  {
   "cell_type": "code",
   "execution_count": null,
   "metadata": {
    "collapsed": false
   },
   "outputs": [],
   "source": [
    "if (_forste == _andet):\n",
    "    print(besked)"
   ]
  },
  {
   "cell_type": "markdown",
   "metadata": {
    "collapsed": true
   },
   "source": [
    "Lad os nu prøve noget lidt sværere! Kan du huske, hvordan vi lavede en algoritme, som fandt ud af, om et givent element var i en sorteret liste? Prøv at skrive en funktion i Python der gør det samme - først lineært."
   ]
  },
  {
   "cell_type": "code",
   "execution_count": null,
   "metadata": {
    "collapsed": true
   },
   "outputs": [],
   "source": [
    "def sog(element, liste):\n",
    "    for i in range(_start, _slut):\n",
    "        if _noget == _noget_andet:\n",
    "            return True\n",
    "    return False"
   ]
  },
  {
   "cell_type": "markdown",
   "metadata": {},
   "source": [
    "Mon den virker? Test den!"
   ]
  },
  {
   "cell_type": "code",
   "execution_count": null,
   "metadata": {
    "collapsed": true
   },
   "outputs": [],
   "source": [
    "A = [1, 2, 3, 4, 5, 7, 8, 9, 10]\n",
    "x = 5\n",
    "y = 6\n",
    "\n",
    "if (x_er_i_A):\n",
    "    #skriv ups\n",
    "else:\n",
    "    #skriv hurra\n",
    "\n",
    "if (y_er_i_A):\n",
    "    #skriv hurra\n",
    "else:\n",
    "    #skriv ups"
   ]
  },
  {
   "cell_type": "markdown",
   "metadata": {},
   "source": [
    "Skriv nu den samme søgefunktion, men så den kører med logaritmisk køretid. Altså, hvor vi skærer halvdelen af listen væk ved hver iteration."
   ]
  },
  {
   "cell_type": "code",
   "execution_count": null,
   "metadata": {
    "collapsed": true
   },
   "outputs": [],
   "source": [
    "def sog_smart(element, liste):\n",
    "    while(1):\n",
    "        if _liste_tom:\n",
    "            return False\n",
    "        \n",
    "        midt = _midt_af_liste # brug // operatoren til at runde ned samtidigt med at du dividerer!\n",
    "        x = _miderste_element\n",
    "\n",
    "        if _element_er_i_midten_af_listen:\n",
    "            return True\n",
    "        elif _x_mindre_end_element:\n",
    "            # halver listen fra midten af og op (brug liste[start:slut])\n",
    "        else:\n",
    "            # halver listen fra midten af og ned (brug liste[start:slut])"
   ]
  },
  {
   "cell_type": "markdown",
   "metadata": {},
   "source": [
    "Test på samme måde som før om din søgefunktion virker!"
   ]
  },
  {
   "cell_type": "code",
   "execution_count": null,
   "metadata": {
    "collapsed": true
   },
   "outputs": [],
   "source": [
    "A = [1, 2, 3, 4, 5, 7, 8, 9, 10]\n",
    "x = 5\n",
    "y = 6"
   ]
  },
  {
   "cell_type": "markdown",
   "metadata": {},
   "source": [
    "Alright, sejt at du er noget så langt! Prøv at skrive koden for insertion sort - altså den sorteringsmetode vi f.eks. bruger, når vi sorterer en hånd af spillekort. Spørg hvis du er i tvivl."
   ]
  },
  {
   "cell_type": "code",
   "execution_count": null,
   "metadata": {
    "collapsed": true
   },
   "outputs": [],
   "source": [
    "def insertion_sort(liste):\n",
    "    for r in range(start, slut):\n",
    "        for j in range(start, slut, skridt):\n",
    "            if aktuelt_element > forrige_element:\n",
    "                break\n",
    "            liste[j - 1], liste[j] = liste[j], liste[j - 1] # ellers bytter vi de to\n",
    "            \n",
    "    return liste"
   ]
  },
  {
   "cell_type": "markdown",
   "metadata": {},
   "source": [
    "Check at din sorteringsfunktion virker! Skriv selv koden - genbrug evt. fra tidligere tests."
   ]
  },
  {
   "cell_type": "code",
   "execution_count": null,
   "metadata": {
    "collapsed": true
   },
   "outputs": [],
   "source": []
  },
  {
   "cell_type": "markdown",
   "metadata": {},
   "source": [
    "Sorteringsmetoder er sjove! Skriv koden for Bubble Sort. Det er den, hvor vi går igennem listen n gange og bytter hver gang, at det er nødvendigt. Spørg hvis du er i tvivl!"
   ]
  },
  {
   "cell_type": "code",
   "execution_count": null,
   "metadata": {
    "collapsed": true
   },
   "outputs": [],
   "source": [
    "def bubble_sort(liste):\n",
    "    for i in range(max_antal_gennemlob):\n",
    "        swapped = False\n",
    "\n",
    "        for j in range(max_antal_elementer_som_skal_byttes):\n",
    "            if aktuelt_element > naste_element:\n",
    "                # byt rundt pa de to!\n",
    "                swapped = True\n",
    "\n",
    "        if not swapped: # vi er fardige hvis der ikke er mere som skal byttes\n",
    "            break\n",
    "    return liste\n"
   ]
  },
  {
   "cell_type": "markdown",
   "metadata": {},
   "source": [
    "Igen er det vigtigt, at se om det du har lavet virker!"
   ]
  },
  {
   "cell_type": "code",
   "execution_count": null,
   "metadata": {
    "collapsed": true
   },
   "outputs": [],
   "source": []
  },
  {
   "cell_type": "markdown",
   "metadata": {},
   "source": [
    "Lad os lave noget rekursionssjov. Skriv en rekursiv funktion (en funktion der kalder sig selv), der udregner det n'te fibbonachi tal. Hvis du er i tvivl om hvad Fibbonacci-tal er så kig her: https://da.wikipedia.org/wiki/Fibonacci-tal\n",
    "Hvis det er svært, så spørg os!"
   ]
  },
  {
   "cell_type": "code",
   "execution_count": null,
   "metadata": {
    "collapsed": true
   },
   "outputs": [],
   "source": [
    "def fib(n):\n",
    "    # hvis n er 0, så returner 0\n",
    "    # hvis n er 1, så returner 1\n",
    "    # ellers sa returner summen af de to foregående fibbonacci-tal "
   ]
  },
  {
   "cell_type": "markdown",
   "metadata": {},
   "source": [
    "Find nu summen af de første 5 ulige fibbonacci tal (og tjek at det din funktion giver stemmer overens med det rigtige resultat!)."
   ]
  },
  {
   "cell_type": "code",
   "execution_count": null,
   "metadata": {
    "collapsed": true
   },
   "outputs": [],
   "source": [
    "fundet = # antal af fundne lige fibbonacci-tal (hvad er det tal til at starte med?)\n",
    "summen = # summen af de fundne lige fibbonacci-tal (hvad er det tal til at starte med?)\n",
    "aktuelt_tal = # tal vi ser på om er et lige fibbonacci-tal eller ej (hvilket tal starter vi med?)\n",
    "\n",
    "while (fundet < 5):\n",
    "    fib_af_tal = # udregn fibbonacci-tallet for dette aktuelle tal\n",
    "    \n",
    "    if er_fib_af_tal ulige:\n",
    "        # opdater fundet\n",
    "        # opdater summen\n",
    "    \n",
    "    # ga videre til naste tal\n",
    "\n",
    "print(summen)"
   ]
  },
  {
   "cell_type": "markdown",
   "metadata": {},
   "source": [
    "Til sidst vil vi finde summen af cifrene for et udregnet faktorielt tal. Lav først en funktion som udregner et tals fakultet. Se https://en.wikipedia.org/wiki/Factorial hvis du ikke ved, hvad det vil sige.\n",
    "\n",
    "Vi gør det selvfølgelig rekursivt, for det er sejt!"
   ]
  },
  {
   "cell_type": "code",
   "execution_count": null,
   "metadata": {
    "collapsed": true
   },
   "outputs": [],
   "source": [
    "def fakultet(n):\n",
    "    if n == 0:\n",
    "        # returner 1\n",
    "    else:\n",
    "        # returner det reducerede problem"
   ]
  },
  {
   "cell_type": "markdown",
   "metadata": {},
   "source": [
    "Fedt man! Lad os finde summen af cifrene for et eller andet fakultet. Test selvfølgelig om det du har lavet virker!"
   ]
  },
  {
   "cell_type": "code",
   "execution_count": null,
   "metadata": {
    "collapsed": true
   },
   "outputs": [],
   "source": [
    "def sum_af_fakultet(n):\n",
    "    fakultet = # udregn fakultet\n",
    "    summen = # hvad er summen til at starte med?\n",
    "    while (fakultet): # mens der er cifre tilbage i tallet (som ikke alle er 0)\n",
    "        cifre = # find det sidste cifre i tallet (maske % operatoren kan hjalpe?)\n",
    "        # lag dette cifre til summen\n",
    "        # fjern det sidste cifre fra vores tal (tank matematisk over hvad det vil sige)\n",
    "        "
   ]
  },
  {
   "cell_type": "markdown",
   "metadata": {},
   "source": [
    "Wooo! Godt gået hvis du er nået til vejs ende! Hiv fat i os hvis der er mere tid, så skal vi nok vise dig noget mere udfordrende :)"
   ]
  }
 ],
 "metadata": {
  "kernelspec": {
   "display_name": "Python 2",
   "language": "python",
   "name": "python2"
  },
  "language_info": {
   "codemirror_mode": {
    "name": "ipython",
    "version": 2
   },
   "file_extension": ".py",
   "mimetype": "text/x-python",
   "name": "python",
   "nbconvert_exporter": "python",
   "pygments_lexer": "ipython2",
   "version": "2.7.12"
  }
 },
 "nbformat": 4,
 "nbformat_minor": 0
}
