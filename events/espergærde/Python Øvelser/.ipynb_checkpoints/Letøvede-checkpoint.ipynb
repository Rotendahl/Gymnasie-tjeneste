{
 "cells": [
  {
   "cell_type": "markdown",
   "metadata": {},
   "source": [
    "# Python opgaver for begyndere\n",
    "## Her er lidt at gå i gang med for de helt nye til Python\n",
    "#### Sig endelig til hvis I har brug for hjælp! I skal løse opgaverne i rækkefølge.\n",
    "Prøv at indsætte de rigtige værdier og variabler dér hvor de mangler!"
   ]
  },
  {
   "cell_type": "markdown",
   "metadata": {
    "collapsed": true
   },
   "source": [
    "Lav først en liste med alle de ulige tal fra 0 til 10."
   ]
  },
  {
   "cell_type": "code",
   "execution_count": null,
   "metadata": {
    "collapsed": false
   },
   "outputs": [],
   "source": [
    "liste = []\n",
    "for i in range(_start, _slut, _skridt):\n",
    "     # Sæt i bag i listen"
   ]
  },
  {
   "cell_type": "markdown",
   "metadata": {},
   "source": [
    "Find elementet i midten af listen."
   ]
  },
  {
   "cell_type": "code",
   "execution_count": null,
   "metadata": {
    "collapsed": true
   },
   "outputs": [],
   "source": [
    "midten = liste[_den_plads_du_vil_have_i_listen] \n",
    "# Kan du gøre det på en generel måde? "
   ]
  },
  {
   "cell_type": "markdown",
   "metadata": {},
   "source": [
    "Beregn gennemsnittet af listen."
   ]
  },
  {
   "cell_type": "code",
   "execution_count": null,
   "metadata": {
    "collapsed": true
   },
   "outputs": [],
   "source": [
    "gennemsnit = _summen / _langden # der findes funktioner der hedder sum() og len() "
   ]
  },
  {
   "cell_type": "markdown",
   "metadata": {},
   "source": [
    "Skriv til skærmen at det var en success, hvis gennemsnittet af listen er lig med det miderste element."
   ]
  },
  {
   "cell_type": "code",
   "execution_count": null,
   "metadata": {
    "collapsed": false
   },
   "outputs": [],
   "source": [
    "# lav en if sætning der tjekker på det"
   ]
  },
  {
   "cell_type": "markdown",
   "metadata": {
    "collapsed": true
   },
   "source": [
    "Lad os nu prøve noget lidt sværere! Kan du huske, hvordan vi lavede en algoritme, som fandt ud af, om et givent element var i en sorteret liste? Prøv at skrive en funktion i Python der gør det samme - først lineært."
   ]
  },
  {
   "cell_type": "code",
   "execution_count": null,
   "metadata": {
    "collapsed": true
   },
   "outputs": [],
   "source": [
    "def sog(element, liste):\n",
    "    # Lav en for løkke med en if statement"
   ]
  },
  {
   "cell_type": "markdown",
   "metadata": {},
   "source": [
    "Mon den virker? Test den!"
   ]
  },
  {
   "cell_type": "code",
   "execution_count": null,
   "metadata": {
    "collapsed": true
   },
   "outputs": [],
   "source": [
    "A = [1, 2, 3, 4, 5, 7, 8, 9, 10]\n",
    "x = 5\n",
    "y = 6\n",
    "\n",
    "if (_x_er_i_A): # Hint du kan bruger funktionen sog() du lige har lavet\n",
    "    #skriv ups\n",
    "else:\n",
    "    #skriv hurra\n",
    "\n",
    "if (:y_er_i_A):\n",
    "    #skriv hurra\n",
    "else:\n",
    "    #skriv ups"
   ]
  },
  {
   "cell_type": "markdown",
   "metadata": {},
   "source": [
    "Lad os prøve at lave minumumsfunktionen. \n",
    "Givet en liste skal vi finde det mindste tal i listen.\n"
   ]
  },
  {
   "cell_type": "code",
   "execution_count": null,
   "metadata": {
    "collapsed": true
   },
   "outputs": [],
   "source": [
    "def mini(liste):\n",
    "     # Gæt på det at det første element er det mindste\n",
    "        \n",
    "    # Laver en løkke med en if sætning der tjekke om gættet var rigtig    \n",
    "\n",
    "    \n",
    "    # retuner det mindste element \n",
    "            \n",
    "            \n",
    "# Vi tester den            \n",
    "testListe = [5,6,1,2,4,2,5,6]\n",
    "if mini(testListe) = 1:\n",
    "    print(\"Det virkede!\")\n",
    "else: \n",
    "    print(\"Det virkede ikke!\")"
   ]
  },
  {
   "cell_type": "markdown",
   "metadata": {},
   "source": [
    "Lad os lave noget rekursionssjov. Skriv en rekursiv funktion (en funktion der kalder sig selv), der udregner det n'te fibbonachi tal. Hvis du er i tvivl om hvad Fibbonacci-tal er så kig her: https://da.wikipedia.org/wiki/Fibonacci-tal\n",
    "Hvis det er svært, så spørg os!"
   ]
  },
  {
   "cell_type": "code",
   "execution_count": null,
   "metadata": {
    "collapsed": true
   },
   "outputs": [],
   "source": [
    "def fib(n):\n",
    "    # hvis n er 0, så returner 0\n",
    "    # hvis n er 1, så returner 1\n",
    "    # ellers sa returner summen af de to foregående fibbonacci-tal "
   ]
  },
  {
   "cell_type": "markdown",
   "metadata": {},
   "source": [
    "Lad os prøve at lave fakultets funktionen, den er defineret til som $$fib(n)= 1 \\cdot 2 \\cdot \\dots \\cdot n$$"
   ]
  },
  {
   "cell_type": "code",
   "execution_count": null,
   "metadata": {
    "collapsed": true
   },
   "outputs": [],
   "source": [
    "def fakultet(n):\n",
    "   "
   ]
  },
  {
   "cell_type": "markdown",
   "metadata": {},
   "source": [
    "Fedt man! Lad os finde summen af cifrene for et eller andet fakultet. Test selvfølgelig om det du har lavet virker!"
   ]
  },
  {
   "cell_type": "markdown",
   "metadata": {},
   "source": [
    "Godt gået, du er nået til vejs ende! \n",
    "Sig lige til, så finder vi på noget mere"
   ]
  }
 ],
 "metadata": {
  "kernelspec": {
   "display_name": "Python 2",
   "language": "python",
   "name": "python2"
  },
  "language_info": {
   "codemirror_mode": {
    "name": "ipython",
    "version": 2
   },
   "file_extension": ".py",
   "mimetype": "text/x-python",
   "name": "python",
   "nbconvert_exporter": "python",
   "pygments_lexer": "ipython2",
   "version": "2.7.12"
  }
 },
 "nbformat": 4,
 "nbformat_minor": 0
}
