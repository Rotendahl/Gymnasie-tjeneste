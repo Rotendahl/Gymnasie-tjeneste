{
 "cells": [
  {
   "cell_type": "markdown",
   "metadata": {},
   "source": [
    "# Espergærde Gymnasium\n",
    "## Machine Learning\n",
    "#### K-means Algortimen"
   ]
  },
  {
   "cell_type": "markdown",
   "metadata": {},
   "source": [
    "Vi skal have lavet en funktion der kan sotere ukendt data i to grupper\n",
    "\n",
    "For at gøre dette nemmere deler vi det op i følgende underproblemer.\n",
    "* **Læs data** : En funktion der flytter data ind i nogle variabler. \n",
    "* **Vektor sum-funktion**   : Givet to vektorer retunerer den en ny vektor med den parvise sum.  \n",
    "* **Vektor Dist-funktion**     : Givet to vektorer giver den afstanden mellem dem\n",
    "* **Make centriod **  : En funktioner der kan lave en vilkårlig vektor i $d$ dimensioner\n",
    "    * **Lav hyperplans funktion** : Laver et tilfældigt hyperplan i 10 diminsioner \n",
    "    * **New Centriod **. : Givet en gruppe af vektorer retunerer den gennemsnitet af alle \n",
    "    vektorer"
   ]
  },
  {
   "cell_type": "markdown",
   "metadata": {},
   "source": [
    "# Har du trykket \"file>make a copy\"?"
   ]
  },
  {
   "cell_type": "markdown",
   "metadata": {},
   "source": [
    "### Læs Data"
   ]
  },
  {
   "cell_type": "code",
   "execution_count": 5,
   "metadata": {
    "collapsed": false
   },
   "outputs": [
    {
     "name": "stdout",
     "output_type": "stream",
     "text": [
      "Vores data ligger nu i dataX og dataY\n"
     ]
    }
   ],
   "source": [
    "# Her skal du ikke gøre noget, men læs koden igennem\n",
    "import data\n",
    "from random import randint\n",
    "# Vi henter dataen. \n",
    "dataX = data.getXs()\n",
    "dataY = data.getYs()\n",
    "print \"Vores data ligger nu i dataX og dataY\""
   ]
  },
  {
   "cell_type": "markdown",
   "metadata": {},
   "source": [
    "$dataX$ er nu en liste af vektorer, der alle er i $784$ dimensioner. \n",
    "\n",
    "**Prøv at printe en an af dem** "
   ]
  },
  {
   "cell_type": "code",
   "execution_count": 8,
   "metadata": {
    "collapsed": false,
    "scrolled": true
   },
   "outputs": [
    {
     "name": "stdout",
     "output_type": "stream",
     "text": [
      "[0, 0, 0, 0, 0, 0, 0, 0, 0, 0, 0, 0, 0, 0, 0, 0, 0, 0, 0, 0, 0, 0, 0, 0, 0, 0, 0, 0, 0, 0, 0, 0, 0, 0, 0, 0, 0, 0, 0, 0, 0, 0, 0, 0, 0, 0, 0, 0, 0, 0, 0, 0, 0, 0, 0, 0, 0, 0, 0, 0, 0, 0, 0, 0, 0, 0, 0, 0, 0, 0, 0, 0, 0, 0, 0, 0, 0, 0, 0, 0, 0, 0, 0, 0, 0, 0, 0, 0, 0, 0, 0, 0, 0, 0, 0, 0, 0, 0, 0, 0, 0, 0, 0, 0, 0, 0, 0, 0, 0, 0, 0, 0, 0, 0, 0, 0, 0, 0, 0, 0, 0, 0, 0, 0, 0, 0, 0, 0, 38, 254, 109, 0, 0, 0, 0, 0, 0, 0, 0, 0, 0, 0, 0, 0, 0, 0, 0, 0, 0, 0, 0, 0, 0, 0, 0, 0, 87, 252, 82, 0, 0, 0, 0, 0, 0, 0, 0, 0, 0, 0, 0, 0, 0, 0, 0, 0, 0, 0, 0, 0, 0, 0, 0, 0, 135, 241, 0, 0, 0, 0, 0, 0, 0, 0, 0, 0, 0, 0, 0, 0, 0, 0, 0, 0, 0, 0, 0, 0, 0, 0, 0, 45, 244, 150, 0, 0, 0, 0, 0, 0, 0, 0, 0, 0, 0, 0, 0, 0, 0, 0, 0, 0, 0, 0, 0, 0, 0, 0, 0, 84, 254, 63, 0, 0, 0, 0, 0, 0, 0, 0, 0, 0, 0, 0, 0, 0, 0, 0, 0, 0, 0, 0, 0, 0, 0, 0, 0, 202, 223, 11, 0, 0, 0, 0, 0, 0, 0, 0, 0, 0, 0, 0, 0, 0, 0, 0, 0, 0, 0, 0, 0, 0, 0, 0, 32, 254, 216, 0, 0, 0, 0, 0, 0, 0, 0, 0, 0, 0, 0, 0, 0, 0, 0, 0, 0, 0, 0, 0, 0, 0, 0, 0, 95, 254, 195, 0, 0, 0, 0, 0, 0, 0, 0, 0, 0, 0, 0, 0, 0, 0, 0, 0, 0, 0, 0, 0, 0, 0, 0, 0, 140, 254, 77, 0, 0, 0, 0, 0, 0, 0, 0, 0, 0, 0, 0, 0, 0, 0, 0, 0, 0, 0, 0, 0, 0, 0, 0, 57, 237, 205, 8, 0, 0, 0, 0, 0, 0, 0, 0, 0, 0, 0, 0, 0, 0, 0, 0, 0, 0, 0, 0, 0, 0, 0, 0, 124, 255, 165, 0, 0, 0, 0, 0, 0, 0, 0, 0, 0, 0, 0, 0, 0, 0, 0, 0, 0, 0, 0, 0, 0, 0, 0, 0, 171, 254, 81, 0, 0, 0, 0, 0, 0, 0, 0, 0, 0, 0, 0, 0, 0, 0, 0, 0, 0, 0, 0, 0, 0, 0, 0, 24, 232, 215, 0, 0, 0, 0, 0, 0, 0, 0, 0, 0, 0, 0, 0, 0, 0, 0, 0, 0, 0, 0, 0, 0, 0, 0, 0, 120, 254, 159, 0, 0, 0, 0, 0, 0, 0, 0, 0, 0, 0, 0, 0, 0, 0, 0, 0, 0, 0, 0, 0, 0, 0, 0, 0, 151, 254, 142, 0, 0, 0, 0, 0, 0, 0, 0, 0, 0, 0, 0, 0, 0, 0, 0, 0, 0, 0, 0, 0, 0, 0, 0, 0, 228, 254, 66, 0, 0, 0, 0, 0, 0, 0, 0, 0, 0, 0, 0, 0, 0, 0, 0, 0, 0, 0, 0, 0, 0, 0, 0, 61, 251, 254, 66, 0, 0, 0, 0, 0, 0, 0, 0, 0, 0, 0, 0, 0, 0, 0, 0, 0, 0, 0, 0, 0, 0, 0, 0, 141, 254, 205, 3, 0, 0, 0, 0, 0, 0, 0, 0, 0, 0, 0, 0, 0, 0, 0, 0, 0, 0, 0, 0, 0, 0, 0, 10, 215, 254, 121, 0, 0, 0, 0, 0, 0, 0, 0, 0, 0, 0, 0, 0, 0, 0, 0, 0, 0, 0, 0, 0, 0, 0, 0, 5, 198, 176, 10, 0, 0, 0, 0, 0, 0, 0, 0, 0, 0, 0, 0, 0, 0, 0, 0, 0, 0, 0, 0, 0, 0, 0, 0, 0, 0, 0, 0, 0, 0, 0, 0, 0, 0, 0, 0, 0, 0, 0, 0, 0, 0, 0, 0, 0, 0, 0, 0, 0, 0, 0, 0, 0, 0, 0, 0, 0, 0, 0, 0, 0, 0, 0, 0, 0, 0, 0, 0, 0, 0, 0, 0, 0, 0, 0, 0, 0, 0, 0, 0, 0, 0, 0, 0, 0, 0, 0, 0, 0, 0, 0, 0, 0, 0, 0, 0, 0, 0, 0, 0, 0, 0, 0, 0, 0, 0, 0, 0, 0, 0, 0, 0, 0, 0, 0, 0, 0, 0, 0, 0, 0, 0, 0, 0, 0, 0]\n"
     ]
    }
   ],
   "source": [
    "print dataX[0] # Kør den her kode for at se en vektor"
   ]
  },
  {
   "cell_type": "markdown",
   "metadata": {},
   "source": [
    "---\n",
    "## Vektor funktioner\n",
    "Her laver vi de funktioner vi skal bruge i vores kode til at håndtere vektorer. "
   ]
  },
  {
   "cell_type": "markdown",
   "metadata": {},
   "source": [
    "### Sum funktion\n",
    "Vi skal lave en funktion der givet to vektorer, ligger hvert element parvis sammen. \n",
    "\n",
    "Hvis $a$ og $b$ er vektorer ønsker vi at regne $a + b = [a_1+b_1,a_2+b_2, \\dots, a_n + b_n] $ \n",
    "\n",
    "Eksempel givet de to vektorer.\n",
    "$a = [1, 2]$ og \n",
    "$b = [3, 4]$\n",
    "\n",
    "Skal funktionen give\n",
    "\n",
    "$sumVec(a,b) = [4, 6]$\n",
    "\n",
    "** Den brugte vi også til perceptron **"
   ]
  },
  {
   "cell_type": "code",
   "execution_count": null,
   "metadata": {
    "collapsed": true
   },
   "outputs": [],
   "source": [
    "def sumVec(vec1, vec2):\n",
    "    newList = []\n",
    "    for index in range(_start, _slut): # Hint: du kan få længden af en liste med len(listeNavn)\n",
    "        newElem = _summen_af_to_elementer\n",
    "        newList.append(_Hvad_hedder_det_nye_element) \n",
    "    return newList"
   ]
  },
  {
   "cell_type": "code",
   "execution_count": null,
   "metadata": {
    "collapsed": false
   },
   "outputs": [],
   "source": [
    "# Lad os teste om den virker\n",
    "a = [1,2,3]\n",
    "b = [4,5,6]\n",
    "print \"Listen skulle være [5, 7, 9] og det var \" + str(sumVec(a,b)) "
   ]
  },
  {
   "cell_type": "markdown",
   "metadata": {},
   "source": [
    "### Vektor gange funktion\n",
    "Vi skal bruge en funktion der givet to vektorer kan fortælle os afstanden mellem dem. \n",
    "Man regner afstanden $d$ mellem de to vektorer $u$ og $v$ med denne formel: \n",
    "$$\n",
    "    d = \\sum_{i=0}^{i=d} (u_i - v_i)^2\n",
    "$$\n",
    "Altså hvis vi har vektorene $u = [1, 2, 3]$ og $v = [7, 4, 2]$ er afstanden:\n",
    "$$\n",
    "    (1 - 7)^2 + (2 - 4)^2 + (3 - 2)^2 = 41 \n",
    "$$"
   ]
  },
  {
   "cell_type": "code",
   "execution_count": null,
   "metadata": {
    "collapsed": true
   },
   "outputs": [],
   "source": [
    "def dist(u, v):\n",
    "    d = _noget # Hint: Hvad ville være en god ide at starte med?\n",
    "    for i in range(_antallet_af_dimensioner): # Husk at man kan bruge funktionen len()\n",
    "        d += _et_regne_stykke_i_anden # Her skal vi have hvert led af formlen, \n",
    "    return d"
   ]
  },
  {
   "cell_type": "code",
   "execution_count": null,
   "metadata": {
    "collapsed": false
   },
   "outputs": [],
   "source": [
    "# Lad os teste om den virker\n",
    "u = [1,2,3]\n",
    "v = [7,4,2]\n",
    "print \"Afstanden skulle være 41 og den var \" + str(dist(u,v))"
   ]
  },
  {
   "cell_type": "markdown",
   "metadata": {},
   "source": [
    "---\n",
    "### Lav centriod\n",
    "Vi skal lave vores centroid vektor, den skal have $784$ dimensioner. "
   ]
  },
  {
   "cell_type": "code",
   "execution_count": null,
   "metadata": {
    "collapsed": false
   },
   "outputs": [],
   "source": [
    "def makeCentriod():\n",
    "    centriod = []\n",
    "    # Lav en for løkke der går fra 0 til 784. Kig på dist hvis du er i tvivl. \n",
    "    _en_for_løkke\n",
    "        # Inde i forløkken skal vi lave et tilfældet tal mellem 0 og 255 (Brug randint(0,255))\n",
    "        newNum = _tilfældigt_tal\n",
    "        centriod.append(newNum)\n",
    "    \n",
    "    return centriod"
   ]
  },
  {
   "cell_type": "code",
   "execution_count": null,
   "metadata": {
    "collapsed": false
   },
   "outputs": [],
   "source": [
    "# Test af makeCentroid\n",
    "print \"Du har lavet en tilfældig vektor i \" + str(len(makeCentriod())) + \" dimensioner\""
   ]
  },
  {
   "cell_type": "markdown",
   "metadata": {},
   "source": [
    "### Gennemsnits funktion\n",
    "Givet en gruppe af vektorer på formen $[u_1, u_2, \\dots, u_n]$ skal vi retunere den vektor $\\mathbf{m}$ der er gennemsnitet af dem alle. Formlen er: \n",
    "$$\n",
    "    \\mathbf{m} = \\frac{1.0}{n} \\cdot \\sum u  \n",
    "$$\n",
    "Eksempel: Vi har gruppen af vektorer \n",
    "$$\\left[\n",
    "    \\left(\n",
    "\\begin{array}{c}\n",
    "1\\\\\n",
    "2\\\\\n",
    "\\end{array}\n",
    "\\right),\n",
    "    \\left(\n",
    "\\begin{array}{c}\n",
    "3\\\\\n",
    "4\\\\\n",
    "\\end{array}\n",
    "\\right),\n",
    "    \\left(\n",
    "\\begin{array}{c}\n",
    "5\\\\\n",
    "6\\\\\n",
    "\\end{array}\n",
    "\\right),\n",
    "\\right]\n",
    "$$\n",
    "---\n",
    "Så regner vi\n",
    "$$\n",
    "    \\frac{1.0}{3} \\cdot     \n",
    "    \\left(\n",
    "        \\begin{array}{c}\n",
    "            1 + 3 + 5\\\\\n",
    "            2 + 4 + 6 \\\\\n",
    "        \\end{array}\n",
    "    \\right)  \n",
    "    =\n",
    "    \\frac{1.0}{3} \\cdot \n",
    "    \\left(\n",
    "        \\begin{array}{c}\n",
    "            9 \\\\\n",
    "            12 \\\\\n",
    "        \\end{array}\n",
    "    \\right)  \n",
    "    =\n",
    "    \\left(\n",
    "        \\begin{array}{c}\n",
    "            9 \\cdot 1/3 \\\\\n",
    "            12 \\cdot 1/3 \\\\\n",
    "        \\end{array}\n",
    "    \\right)  \n",
    "       =\n",
    "    \\left(\n",
    "        \\begin{array}{c}\n",
    "            3 \\\\\n",
    "            4 \\\\\n",
    "        \\end{array}\n",
    "    \\right)  \n",
    "$$\n"
   ]
  },
  {
   "cell_type": "code",
   "execution_count": null,
   "metadata": {
    "collapsed": false
   },
   "outputs": [],
   "source": [
    "def getMean(group):\n",
    "    # Lad os først lave en tom vektor med nuller der skal holde vores svar\n",
    "    mean = [] # Tom liste\n",
    "    for i in range(len(group[0])):\n",
    "        mean.append(0) # Indsætter nuller\n",
    "        \n",
    "    # Vi vil regne højre side af udtrykket først\n",
    "    for x in group: # x bliver alle vektorer i gruppen\n",
    "        mean = _mean_lagt_sammen_med_x # Hint: du har lavet en funktion til det her\n",
    "    \n",
    "    \n",
    "    # Vi finder faktoren 1.0/n\n",
    "    factor = 1.0 / _længden_af_gruppen # Hint: brug len\n",
    "    \n",
    "    \n",
    "    # Vi vil gange factor med alle elementer i gruppen. \n",
    "    for i in range(len(mean)):\n",
    "        mean[i] = _det_i`te_element_i_mean_ganget_med_factor\n",
    "        \n",
    "    return mean"
   ]
  },
  {
   "cell_type": "code",
   "execution_count": null,
   "metadata": {
    "collapsed": true
   },
   "outputs": [],
   "source": [
    "# Vi tester den:\n",
    "a = [[1,2], [3, 4], [5,6]]\n",
    "print \"Den skulle have været [3,4] den var: \" + str(getMean(a))"
   ]
  },
  {
   "cell_type": "markdown",
   "metadata": {},
   "source": [
    "### K means\n",
    "Vi skal nu have lavet den selve vores funktion der skal lave 2 centroids. \n",
    "Den bliver givet en samling af vektorer $xs$, de trin den skal udføre er: \n",
    "1. Lave to tilfældige centriods\n",
    "2. Lave to tomme grupper. \n",
    "3. Lave en løkker der kører indtil centriods ikke ændrer sig mere\n",
    "    4. I Løkken skal den dele $xs$ op i to grupper efter om de er tættetst på centriod1 eller centriod0\n",
    "    5. Når grupperne er opdelt skal den tage gennemsnitet og gemme det som de nye centriods\n",
    "    7. Hvis de nye centriods var lig med de gamle skal den stoppe løkken.\n",
    "    8. Ellers skal den gå til trin 2\n",
    "9. Retuner centriods\n",
    "\n"
   ]
  },
  {
   "cell_type": "code",
   "execution_count": null,
   "metadata": {
    "collapsed": true
   },
   "outputs": [],
   "source": [
    "def kmeans(xs):\n",
    "    # Trin 1\n",
    "    centriods = []\n",
    "    \n",
    "    centriods.append(_en_tilfældig_vektor) # Hint du har lavet en funktion til det\n",
    "    centriods.append(_en_anden_tilfældig_vektor) # Hint du har lavet en funktion til det\n",
    "    \n",
    "    \n",
    "    while True:\n",
    "        # Trin 2 \n",
    "        groups = []\n",
    "        # Indsæt to tomme lister med .append\n",
    "        _indsæt_tom_liste_i_group\n",
    "        _indsæt_endnu_en_tom_liste_i_group\n",
    "        \n",
    "        # Trin 3.A\n",
    "        for i in range(len(xs)):\n",
    "            if dist(centriods[0], xs[i]) <  _noget: # er den tættetst på centriod0 eller 1\n",
    "                groups[0].append(xs[i])\n",
    "            else:\n",
    "                groups[1].append(xs[i])\n",
    "\n",
    "        # Trin 3. B\n",
    "        new0 = _gennemsnit_af_gruppe_0\n",
    "        new1 = _gennemsnit_af_gruppe_1\n",
    "        \n",
    "        # Skal vi stoppe\n",
    "        if(new0 == centriods[0] and new1 == centriods[1]):\n",
    "            return centriods\n",
    "        \n",
    "        # Går tilbage til trin 2\n",
    "        centriods[0] = new0\n",
    "        centriods[1] = new1\n"
   ]
  },
  {
   "cell_type": "markdown",
   "metadata": {},
   "source": [
    "Lad os teste den her: "
   ]
  },
  {
   "cell_type": "code",
   "execution_count": 9,
   "metadata": {
    "collapsed": false
   },
   "outputs": [
    {
     "ename": "NameError",
     "evalue": "name 'kmeans' is not defined",
     "output_type": "error",
     "traceback": [
      "\u001b[0;31m---------------------------------------------------------------------------\u001b[0m",
      "\u001b[0;31mNameError\u001b[0m                                 Traceback (most recent call last)",
      "\u001b[0;32m<ipython-input-9-374eb1490c3b>\u001b[0m in \u001b[0;36m<module>\u001b[0;34m()\u001b[0m\n\u001b[1;32m      1\u001b[0m \u001b[0;31m# Tryk play og se din succesrate\u001b[0m\u001b[0;34m\u001b[0m\u001b[0;34m\u001b[0m\u001b[0m\n\u001b[0;32m----> 2\u001b[0;31m \u001b[0mdata\u001b[0m\u001b[0;34m.\u001b[0m\u001b[0mcalcError\u001b[0m\u001b[0;34m(\u001b[0m\u001b[0mkmeans\u001b[0m\u001b[0;34m(\u001b[0m\u001b[0mdataX\u001b[0m\u001b[0;34m)\u001b[0m\u001b[0;34m)\u001b[0m\u001b[0;34m\u001b[0m\u001b[0m\n\u001b[0m",
      "\u001b[0;31mNameError\u001b[0m: name 'kmeans' is not defined"
     ]
    }
   ],
   "source": [
    "# Tryk play og se din succesrate\n",
    "data.calcError(kmeans(dataX))"
   ]
  },
  {
   "cell_type": "code",
   "execution_count": null,
   "metadata": {
    "collapsed": true
   },
   "outputs": [],
   "source": []
  }
 ],
 "metadata": {
  "kernelspec": {
   "display_name": "Python 2",
   "language": "python",
   "name": "python2"
  },
  "language_info": {
   "codemirror_mode": {
    "name": "ipython",
    "version": 2
   },
   "file_extension": ".py",
   "mimetype": "text/x-python",
   "name": "python",
   "nbconvert_exporter": "python",
   "pygments_lexer": "ipython2",
   "version": "2.7.12"
  }
 },
 "nbformat": 4,
 "nbformat_minor": 0
}
