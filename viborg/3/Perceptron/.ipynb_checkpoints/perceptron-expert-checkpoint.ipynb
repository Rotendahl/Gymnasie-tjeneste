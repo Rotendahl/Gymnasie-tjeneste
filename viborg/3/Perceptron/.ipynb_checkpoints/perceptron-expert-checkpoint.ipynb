{
 "cells": [
  {
   "cell_type": "markdown",
   "metadata": {},
   "source": [
    "# Husk at lave en kopi af dokumentet ved at gå til \"File>Make a Copy\"\n",
    "## Machine Learning\n",
    "#### Perceptron Algortimen"
   ]
  },
  {
   "cell_type": "markdown",
   "metadata": {},
   "source": [
    "Vi skal have lavet en funktion, der givet en vektor markerer den med enten $1$ eller $-1$.\n",
    "\n",
    "For at gøre dette nemmere deler vi det op i følgende underproblemer.\n",
    "* **Læs data** : En funktion der flytter data ind i nogle variabler, så vi kan tilgå det. \n",
    "* **Prikprodukts-funktion** : Givet to vektorer returnerer den prikproduktet.  \n",
    "* **Sum af to vektorer**   : Givet to vektorer returnerer den en ny vektor med den parvise sum. \n",
    "* **Vektor gange konstant** : Givet en vektor og en konstant returnerer den konstanten ganget med vektoren.\n",
    "* **Lav Hyperplan** : Laver et tilfældigt hyperplan i 10 dimensioner. \n",
    "* **Opdaterings-funktion**. : Givet en hjerne-vektor, en patient-vektor, og en markering skal den returnere en opdateret hjerne-vektor.\n",
    "* **Hypotese-funktion**     : Givet en hjerne-vektor og en patient-vektor retunerer den en markering.\n",
    "* **Find hjerne-vektoren**  : Finder og træner en hjerne-vektor"
   ]
  },
  {
   "cell_type": "markdown",
   "metadata": {},
   "source": [
    "---\n",
    "### Læs Data"
   ]
  },
  {
   "cell_type": "code",
   "execution_count": 1,
   "metadata": {},
   "outputs": [],
   "source": [
    "# Her skal du ikke gøre noget, men læs koden igennem alligevel.\n",
    "import data\n",
    "from random import randint\n",
    "# Vi henter dataen. \n",
    "dataX = data.getXs()\n",
    "dataY = data.getYs()\n",
    "print \"Vores data ligger nu i dataX og dataY\""
   ]
  },
  {
   "cell_type": "markdown",
   "metadata": {},
   "source": [
    "$dataX$ er nu en liste af vektorer, f.eks. giver $dataX[0]$ vektoren $[1,5, 1, 1, 1, 2, 1, 3, 1, 1]$. \n",
    "\n",
    "$dataY$ er en liste af markeringer, f.eks. så er $dataY[0]=1$, hvilket betyder at den første person i datasættet har en godartet svulst. "
   ]
  },
  {
   "cell_type": "markdown",
   "metadata": {},
   "source": [
    "---\n",
    "## Vektor funktioner\n",
    "De tre første funktioner omhandler håndtering af vektorer, hvilket vi skal bruge for at kunne få perceptron algoritmen til at køre senere. \n",
    "\n",
    "### Prikprodukts-funktion\n",
    "Vi starter med at lave en funktion, der givet to vektorer returnerer prikproduktet.\n",
    "\n",
    "\n",
    "Husk at prikproduktet er defineret som: $a_1 * b_1 + a_2 * b_2 + ... + a_n * b_n$  "
   ]
  },
  {
   "cell_type": "code",
   "execution_count": 1,
   "metadata": {},
   "outputs": [],
   "source": [
    "def prikProd(vec1,vec2):\n",
    "    "
   ]
  },
  {
   "cell_type": "code",
   "execution_count": 2,
   "metadata": {},
   "outputs": [],
   "source": [
    "# Lad os teste om den virker\n",
    "a = [1,2,3]\n",
    "b = [-4,5,-6]\n",
    "print (\"Tallet skulle være -12 og det var \" + str(prikprod(a,b)))"
   ]
  },
  {
   "cell_type": "markdown",
   "metadata": {},
   "source": [
    "### Sum-funktion\n",
    "Vi skal lave en funktion, der givet to vektorer ligger elementer parvis sammen som følger: \n",
    "\n",
    "Hvis $a$ og $b$ er vektorer, så udregnes $a + b = [a_1+b_1,a_2+b_2, \\dots, a_n + b_n] $ \n",
    "\n",
    "Eksempel:\n",
    "\n",
    "Hvis man har vektorerne:\n",
    "$a = [1, 2]$ og $b = [3, 4]$\n",
    "\n",
    "Så skal funktionen returnere:\n",
    "$sumVec(a,b) = [4, 6]$\n"
   ]
  },
  {
   "cell_type": "code",
   "execution_count": 3,
   "metadata": {
    "collapsed": true
   },
   "outputs": [],
   "source": [
    "def sumVec(vec1, vec2):\n",
    "    "
   ]
  },
  {
   "cell_type": "code",
   "execution_count": null,
   "metadata": {
    "collapsed": true
   },
   "outputs": [],
   "source": [
    "# Lad os teste om den virker\n",
    "a = [1,2,3]\n",
    "b = [4,5,6]\n",
    "print (\"Sumvektoren bør være [5,7,9] og det var \" + str(sumVec(a,b)))"
   ]
  },
  {
   "cell_type": "markdown",
   "metadata": {},
   "source": [
    "### Vektor gange konstant\n",
    "Vi skal bruge en funktion, der givet et tal $k$ og en vektor $x$, ganger hvert element i $x$ med $k$.\n",
    "\n",
    "Ved vektoren $x$ og konstanten $k$ ønsker vi at regne \n",
    "\n",
    "$\n",
    "    gangVec(k,x) = [k*x_1, k*x_2, \\dots, k*x_n] \n",
    "$\n",
    "\n",
    "Eksempel:\n",
    "Givet inputtet:\n",
    "$k = -2$ og \n",
    "$x = [1,2,3,4]$\n",
    "\n",
    "Skal funktionen returnere:\n",
    "$gangVec(k, x) = [-2,-4,-6,-8]$\n"
   ]
  },
  {
   "cell_type": "code",
   "execution_count": 5,
   "metadata": {
    "collapsed": true
   },
   "outputs": [],
   "source": [
    "def gangVec(k,vec):\n",
    "    "
   ]
  },
  {
   "cell_type": "code",
   "execution_count": 3,
   "metadata": {},
   "outputs": [],
   "source": [
    "# Lad os teste om den virker\n",
    "a = [1,2,3]\n",
    "b = 2\n",
    "print (\"Listen skulle være [2,4,6] og det var \" + str(gangVec(k,x)))"
   ]
  },
  {
   "cell_type": "markdown",
   "metadata": {},
   "source": [
    "---\n",
    "## Funktioner til at kunne finde hjerne-vektoren\n",
    "De følgende tre funktioner er nødvendige for at kunne lave vores hjerne-vektor. Funktionerne anvender også de vektor-funktioner vi lige har lavet.\n",
    "\n",
    "### Lav hyperplan\n",
    "Vi skal lave vores tilfældige start-hyperplan, som senere bliver rettet ind til at blive vores hjerne-vektor. \n",
    "\n",
    "Vores tilfældige hyperplan skal have 10 elementer, hvor det første element er $1$, og de $9$ andre elementer er tilfældige tal mellem $1$ og $10$."
   ]
  },
  {
   "cell_type": "code",
   "execution_count": 5,
   "metadata": {},
   "outputs": [],
   "source": [
    "def makeHyper():\n",
    "    # Hint: randint(1,10) giver et tilfældigt tal i intervallet nævnt ovenfor."
   ]
  },
  {
   "cell_type": "code",
   "execution_count": null,
   "metadata": {
    "collapsed": true
   },
   "outputs": [],
   "source": [
    "# Lad os teste at vi rent faktisk laver en tilfældig vektor, der opfylder kravene:\n",
    "print makeHyper()"
   ]
  },
  {
   "cell_type": "markdown",
   "metadata": {},
   "source": [
    "### Opdaterings-funktion. \n",
    "Formålet med denne funktion er at kunne opdatere vores hjerne-vektor, således at den kan lære fra sine fejl, hvis den markerer noget forkert.\n",
    "\n",
    "Funktionen skal givet en hjerne-vektor $w$ og en patient-vektor $x$, som skal være markeret forkert, kunne opdatere hjerne-vektoren vha. følgende formel, hvor $y$ er den markering som patient-vektoren burde få (altså den rigtige markering):\n",
    "\n",
    "$w = w + y * x$"
   ]
  },
  {
   "cell_type": "code",
   "execution_count": 6,
   "metadata": {},
   "outputs": [],
   "source": [
    "def update(w,x,y):"
   ]
  },
  {
   "cell_type": "markdown",
   "metadata": {},
   "source": [
    "### Hypotese-funktion. \n",
    "Vi skal nu lave vores hypotese funktion, dvs. funktionen som givet en hjerne-vektor $w$ og en data-vektor $x$, skal returnere en markering (enten $1$ eller $-1$). \n",
    "\n",
    "Markeringen bestemmes ved at tage prikproduktet af de to vektorer. \n",
    "\n",
    "Hvis prikproduktet er mindre end nul, så skal markeringen $-1$ returneres, og ellers skal $1$ returneres."
   ]
  },
  {
   "cell_type": "code",
   "execution_count": 7,
   "metadata": {
    "collapsed": true
   },
   "outputs": [],
   "source": [
    "def hypo(w, x):"
   ]
  },
  {
   "cell_type": "markdown",
   "metadata": {},
   "source": [
    "---\n",
    "# Find hjerne-vektoren\n",
    "Nu skal vi lave selve kernen i vores algoritme, funktionen der finder hjerne-vektoren. Målet er, at givet en liste af data-vektorer $xs$, og en liste af korrekte markeringer $ys$, så skal vi til sidst returnere den bedst mulige hjerne-vektor. \n",
    "\n",
    "For at finde hjerne-vektoren skal vi udføre følgende trin:\n",
    "1. Sæt w til en tilfældig vektor (altså et tilfældigt hyperplan). \n",
    "2. Tjek om vores nuværende hypotese, altså vores w, giver nogen forkerte markeringer. \n",
    "    * Hvis det er tilfældet, så opdater w således, at den markerer punktet rigtigt. \n",
    "3. Forsæt med trin 2 indtil der ikke er forkert markerede punkter. \n",
    "4. Returner w."
   ]
  },
  {
   "cell_type": "code",
   "execution_count": 5,
   "metadata": {},
   "outputs": [],
   "source": [
    "def findBrain(xs, ys):\n",
    "    # Hint: se koden i slides på rotendahl.dk/slides.pdf\n",
    "    "
   ]
  },
  {
   "cell_type": "code",
   "execution_count": 4,
   "metadata": {},
   "outputs": [],
   "source": [
    "w =  findBrain(dataX,dataY)\n",
    "print \"Du har lavet hjernevektoren: \", w"
   ]
  },
  {
   "cell_type": "markdown",
   "metadata": {},
   "source": [
    "Vi burde nu selv kunne bestemme korrekte markeringer til nye patienter, så lad os teste hvor god vores funktion er!\n",
    "\n",
    "Kald funktionen data.calcError(w) og se hvor ofte den rammer de korrekte markeringer: "
   ]
  },
  {
   "cell_type": "code",
   "execution_count": null,
   "metadata": {
    "collapsed": true
   },
   "outputs": [],
   "source": [
    "# Tryk play og se din succesrate\n",
    "data.calcError(w)"
   ]
  }
 ],
 "metadata": {
  "kernelspec": {
   "display_name": "Python 3",
   "language": "python",
   "name": "python3"
  },
  "language_info": {
   "codemirror_mode": {
    "name": "ipython",
    "version": 3
   },
   "file_extension": ".py",
   "mimetype": "text/x-python",
   "name": "python",
   "nbconvert_exporter": "python",
   "pygments_lexer": "ipython3",
   "version": "3.6.4"
  }
 },
 "nbformat": 4,
 "nbformat_minor": 1
}
