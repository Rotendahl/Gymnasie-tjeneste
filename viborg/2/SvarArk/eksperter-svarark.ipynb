{
 "cells": [
  {
   "cell_type": "markdown",
   "metadata": {},
   "source": [
    "# Python opgaver for begyndere\n",
    "## Her er lidt at gå i gang med for de helt skarpe til Python\n",
    "#### Sig endelig til hvis I har brug for hjælp! I skal løse opgaverne i rækkefølge."
   ]
  },
  {
   "cell_type": "markdown",
   "metadata": {
    "collapsed": true
   },
   "source": [
    "Undersog om gennemsnittet af en liste fra 0 til 10 med kun de ulige tal er lig det miderste element. Check dit resultat."
   ]
  },
  {
   "cell_type": "code",
   "execution_count": 5,
   "metadata": {},
   "outputs": [
    {
     "data": {
      "text/plain": [
       "True"
      ]
     },
     "execution_count": 5,
     "metadata": {},
     "output_type": "execute_result"
    }
   ],
   "source": [
    "x = [k+1 for k in range(0,10,2)]\n",
    "sum(x)/len(x)==x[len(x)//2]"
   ]
  },
  {
   "cell_type": "markdown",
   "metadata": {
    "collapsed": true
   },
   "source": [
    "Lad os nu prøve noget lidt sværere! Kan du huske, hvordan vi lavede en algoritme, som fandt ud af, om et givent element var i en sorteret liste? Prøv at skrive en funktion i Python der gør det samme - først lineært."
   ]
  },
  {
   "cell_type": "code",
   "execution_count": 65,
   "metadata": {},
   "outputs": [],
   "source": [
    "# skriv kode her!\n",
    "def IsInListLinear(l, x):\n",
    "    for k in l:\n",
    "        if(k == x):\n",
    "            return True\n",
    "    return False"
   ]
  },
  {
   "cell_type": "markdown",
   "metadata": {},
   "source": [
    "Mon den virker? Test den!"
   ]
  },
  {
   "cell_type": "code",
   "execution_count": 68,
   "metadata": {},
   "outputs": [
    {
     "name": "stdout",
     "output_type": "stream",
     "text": [
      "True\n",
      "False\n"
     ]
    }
   ],
   "source": [
    "# skriv kode her!\n",
    "print(IsInList([1,5,7,23,57], 23))\n",
    "print(IsInList([1,5,7,23,57], 22))"
   ]
  },
  {
   "cell_type": "markdown",
   "metadata": {},
   "source": [
    "Skriv nu den samme søgefunktion, men så den kører med logaritmisk køretid. Altså, hvor vi skærer halvdelen af listen væk ved hver iteration."
   ]
  },
  {
   "cell_type": "code",
   "execution_count": 67,
   "metadata": {},
   "outputs": [],
   "source": [
    "# skriv kode her!\n",
    "def IsInList(l, x):\n",
    "    if(len(l) <= 0):\n",
    "        return False\n",
    "    elif(l[len(l)//2] == x):\n",
    "        return True\n",
    "    elif(l[len(l)//2] > x):\n",
    "        return IsInList(l[:len(l)//2], x)\n",
    "    else:\n",
    "        return IsInList(l[len(l)//2+1:], x)"
   ]
  },
  {
   "cell_type": "markdown",
   "metadata": {},
   "source": [
    "Test på samme måde som før om din søgefunktion virker!"
   ]
  },
  {
   "cell_type": "code",
   "execution_count": 66,
   "metadata": {},
   "outputs": [
    {
     "name": "stdout",
     "output_type": "stream",
     "text": [
      "True\n",
      "False\n"
     ]
    }
   ],
   "source": [
    "# skriv kode her!\n",
    "print(IsInList([1,5,7,23,57], 23))\n",
    "print(IsInList([1,5,7,23,57], 22))"
   ]
  },
  {
   "cell_type": "markdown",
   "metadata": {},
   "source": [
    "Alright, sejt at du er noget så langt! Prøv at skrive koden for insertion sort - altså den sorteringsmetode vi f.eks. bruger, når vi sorterer en hånd af spillekort. Spørg hvis du er i tvivl."
   ]
  },
  {
   "cell_type": "code",
   "execution_count": 39,
   "metadata": {},
   "outputs": [],
   "source": [
    "# skriv kode her!\n",
    "def InsertionSort(l):\n",
    "    toReturn= []\n",
    "    for k in l:\n",
    "        i = 0\n",
    "        while(i < len(toReturn) and toReturn[i] < k):\n",
    "            i+=1\n",
    "        toReturn.insert(i,k)\n",
    "    return toReturn"
   ]
  },
  {
   "cell_type": "markdown",
   "metadata": {},
   "source": [
    "Check at din sorteringsfunktion virker! Skriv selv koden - genbrug evt. fra tidligere tests."
   ]
  },
  {
   "cell_type": "code",
   "execution_count": 40,
   "metadata": {},
   "outputs": [
    {
     "data": {
      "text/plain": [
       "[34, 52, 123, 653]"
      ]
     },
     "execution_count": 40,
     "metadata": {},
     "output_type": "execute_result"
    }
   ],
   "source": [
    "# skriv kode her!\n",
    "li = [52,34,123,653]\n",
    "InsertionSort(li)"
   ]
  },
  {
   "cell_type": "markdown",
   "metadata": {},
   "source": [
    "Sorteringsmetoder er sjove! Skriv koden for Bubble Sort. Det er den, hvor vi går igennem listen n gange og bytter hver gang, at det er nødvendigt. Spørg hvis du er i tvivl!"
   ]
  },
  {
   "cell_type": "code",
   "execution_count": 69,
   "metadata": {},
   "outputs": [],
   "source": [
    "# skriv kode her!\n",
    "def BubbleSort(li):\n",
    "    swaps = 1\n",
    "    if(len(li) <= 1):\n",
    "        return li\n",
    "    while swaps > 0:\n",
    "        swaps=0\n",
    "        for i in range(1, len(li)):\n",
    "            if(li[i] < li[i-1]):\n",
    "                swaps+=1\n",
    "                li[i-1], li[i] = li[i], li[i-1]\n",
    "    return li"
   ]
  },
  {
   "cell_type": "markdown",
   "metadata": {},
   "source": [
    "Igen er det vigtigt, at se om det du har lavet virker!"
   ]
  },
  {
   "cell_type": "code",
   "execution_count": 70,
   "metadata": {},
   "outputs": [
    {
     "data": {
      "text/plain": [
       "[34, 52, 123, 653]"
      ]
     },
     "execution_count": 70,
     "metadata": {},
     "output_type": "execute_result"
    }
   ],
   "source": [
    "# skriv kode her!\n",
    "BubbleSort(li)"
   ]
  },
  {
   "cell_type": "markdown",
   "metadata": {},
   "source": [
    "Lad os lave noget rekursionssjov. Skriv en rekursiv funktion (en funktion der kalder sig selv), der udregner det n'te fibbonachi tal. Hvis du er i tvivl om hvad Fibbonacci-tal er så kig her: https://da.wikipedia.org/wiki/Fibonacci-tal\n",
    "Hvis det er svært, så spørg os!"
   ]
  },
  {
   "cell_type": "code",
   "execution_count": 49,
   "metadata": {},
   "outputs": [],
   "source": [
    "# skriv kode her!\n",
    "def fib(n):\n",
    "    if(n == 1 or n == 2):\n",
    "        return 1\n",
    "    else:\n",
    "        return fib(n-1) + fib(n-2)"
   ]
  },
  {
   "cell_type": "markdown",
   "metadata": {},
   "source": [
    "Find nu summen af de første 5 ulige fibbonacci tal (og tjek at det din funktion giver stemmer overens med det rigtige resultat!). Implementer en iterativ losning hvis du kan."
   ]
  },
  {
   "cell_type": "code",
   "execution_count": 63,
   "metadata": {},
   "outputs": [
    {
     "data": {
      "text/plain": [
       "[1,\n",
       " 1,\n",
       " 2,\n",
       " 3,\n",
       " 5,\n",
       " 8,\n",
       " 13,\n",
       " 21,\n",
       " 34,\n",
       " 55,\n",
       " 89,\n",
       " 144,\n",
       " 233,\n",
       " 377,\n",
       " 610,\n",
       " 987,\n",
       " 1597,\n",
       " 2584,\n",
       " 4181,\n",
       " 6765,\n",
       " 10946,\n",
       " 17711,\n",
       " 28657,\n",
       " 46368,\n",
       " 75025,\n",
       " 121393,\n",
       " 196418,\n",
       " 317811,\n",
       " 514229]"
      ]
     },
     "execution_count": 63,
     "metadata": {},
     "output_type": "execute_result"
    }
   ],
   "source": [
    "# skriv kode her!\n",
    "[fib(k) for k in range(1, 30)]"
   ]
  },
  {
   "cell_type": "markdown",
   "metadata": {},
   "source": [
    "Til sidst vil vi finde summen af cifrene for et udregnet faktorielt tal. Implementer igen en iterativ losning.\n",
    "\n",
    "Se https://en.wikipedia.org/wiki/Factorial hvis du ikke ved, hvad det vil sige."
   ]
  },
  {
   "cell_type": "code",
   "execution_count": 60,
   "metadata": {},
   "outputs": [],
   "source": [
    "# skriv kode her!\n",
    "def fac(n):\n",
    "    k = 1\n",
    "    for i in range(n):\n",
    "        k*=i+1\n",
    "    return k"
   ]
  },
  {
   "cell_type": "markdown",
   "metadata": {},
   "source": [
    "Fedt man! Lad os finde summen af cifrene for et eller andet fakultet. Test selvfølgelig om det du har lavet virker!"
   ]
  },
  {
   "cell_type": "code",
   "execution_count": 62,
   "metadata": {},
   "outputs": [
    {
     "data": {
      "text/plain": [
       "3628800"
      ]
     },
     "execution_count": 62,
     "metadata": {},
     "output_type": "execute_result"
    }
   ],
   "source": [
    "# skriv kode her!\n",
    "fac(10)"
   ]
  },
  {
   "cell_type": "markdown",
   "metadata": {},
   "source": [
    "Wooo! Godt gået hvis du er nået til vejs ende! Hiv fat i os hvis der er mere tid, så skal vi nok vise dig noget mere udfordrende :)"
   ]
  }
 ],
 "metadata": {
  "kernelspec": {
   "display_name": "Python 3",
   "language": "python",
   "name": "python3"
  },
  "language_info": {
   "codemirror_mode": {
    "name": "ipython",
    "version": 3
   },
   "file_extension": ".py",
   "mimetype": "text/x-python",
   "name": "python",
   "nbconvert_exporter": "python",
   "pygments_lexer": "ipython3",
   "version": "3.5.2"
  }
 },
 "nbformat": 4,
 "nbformat_minor": 1
}
