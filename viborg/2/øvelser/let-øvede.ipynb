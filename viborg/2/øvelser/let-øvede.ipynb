{
 "cells": [
  {
   "cell_type": "markdown",
   "metadata": {},
   "source": [
    "# STOP - har du husket at trykke \"Make a Copy\"? \n",
    "## Python opgaver for let-øvede\n",
    "### Her er lidt at gå i gang med for dem som har lidt erfaring i programmering\n",
    "#### Opgaverne skal løses i rækkefølge.\n",
    "Indsæt de rigtige værdier og variabler der hvor de mangler!\n",
    "\n",
    "Man kan se, at en værdi eller variabel skal udskiftes, ved at den starter med en _underscore \n",
    "#### Sig endelig til hvis I har brug for hjælp! "
   ]
  },
  {
   "cell_type": "markdown",
   "metadata": {
    "collapsed": true
   },
   "source": [
    "Lav først en liste med alle de ulige tal fra 0 til 10 vha. den følgende syntaks:"
   ]
  },
  {
   "cell_type": "code",
   "execution_count": null,
   "metadata": {},
   "outputs": [],
   "source": [
    "liste = []\n",
    "for i in range(_start, _slut, _skridt):\n",
    "    liste.append(_tal)\n",
    "print _visListen"
   ]
  },
  {
   "cell_type": "markdown",
   "metadata": {},
   "source": [
    "Undersøg om gennemsnittet af listen er lig det midterste element.\n",
    "\n",
    "Skriv til skærmen at det var en success, hvis dette er tilfældet."
   ]
  },
  {
   "cell_type": "code",
   "execution_count": null,
   "metadata": {},
   "outputs": [],
   "source": [
    "if (_midterste_element == _gennemsnit):\n",
    "    # skriv besked"
   ]
  },
  {
   "cell_type": "markdown",
   "metadata": {
    "collapsed": true
   },
   "source": [
    "Lad os nu prøve noget lidt sværere!\n",
    "\n",
    "Kan du huske, hvordan vi lavede en algoritme, som fandt ud af, om et givent element var i en sorteret liste? Prøv at skrive en funktion i Python der gør det samme - først med lineær køretid."
   ]
  },
  {
   "cell_type": "code",
   "execution_count": null,
   "metadata": {
    "collapsed": true
   },
   "outputs": [],
   "source": [
    "def soeg(_element, _liste):\n",
    "    for i in range():\n",
    "        # søg!"
   ]
  },
  {
   "cell_type": "markdown",
   "metadata": {},
   "source": [
    "Mon den virker? Test den!"
   ]
  },
  {
   "cell_type": "code",
   "execution_count": null,
   "metadata": {
    "collapsed": true
   },
   "outputs": [],
   "source": [
    "A = [1, 2, 3, 4, 5, 7, 8, 9, 10]\n",
    "x = 5\n",
    "y = 6\n",
    "\n",
    "# hvis x er i A, skriv hurra, ellers booo.\n",
    "# hvis y er i A, skriv så boooo, ellers hurra!"
   ]
  },
  {
   "cell_type": "markdown",
   "metadata": {},
   "source": [
    "Skriv nu den samme søgefunktion, men så den kører med logaritmisk køretid. Altså, hvor vi skærer halvdelen af listen væk ved hver iteration."
   ]
  },
  {
   "cell_type": "code",
   "execution_count": null,
   "metadata": {},
   "outputs": [],
   "source": [
    "def soeg_smart(element, liste):\n",
    "    while(1):\n",
    "        # hvis listen er tom, så er elementet her ikke\n",
    "        \n",
    "        # bestem midten af listen - og rund ned med // operatoren samtidigt med, at du dividerer!\n",
    "\n",
    "        # hvis elementet vi leder efter er i midten, så er det fundet, hurra!\n",
    "        \n",
    "        # undersøg ellers om vi skal skære den nederste eller øverste del væk (brug liste[start:slut])"
   ]
  },
  {
   "cell_type": "markdown",
   "metadata": {},
   "source": [
    "Test på samme måde som før om din søgefunktion virker!"
   ]
  },
  {
   "cell_type": "code",
   "execution_count": null,
   "metadata": {
    "collapsed": true
   },
   "outputs": [],
   "source": [
    "A = [1, 2, 3, 4, 5, 7, 8, 9, 10]\n",
    "x = 5\n",
    "y = 6"
   ]
  },
  {
   "cell_type": "markdown",
   "metadata": {},
   "source": [
    "Alright, sejt at du er nået så langt! Prøv at skrive koden for insertion sort - altså den sorteringsmetode vi f.eks. bruger, når vi sorterer en hånd af spillekort. \n",
    "\n",
    "Spørg hvis du er i tvivl."
   ]
  },
  {
   "cell_type": "code",
   "execution_count": null,
   "metadata": {
    "collapsed": true
   },
   "outputs": [],
   "source": [
    "def insertion_sort(liste):\n",
    "    for r in range(_start, _slut):\n",
    "        for j in range(_start, _slut, _skridt):\n",
    "            # hvis det ikke skal længere hen i rækken er vi færdige (brug break)\n",
    "            # ellers bytter vi de to elementer (brug a, b = b, a)\n",
    "            \n",
    "    return liste"
   ]
  },
  {
   "cell_type": "markdown",
   "metadata": {},
   "source": [
    "Check at din sorteringsfunktion virker! Skriv selv koden - genbrug evt. fra tidligere tests."
   ]
  },
  {
   "cell_type": "code",
   "execution_count": null,
   "metadata": {
    "collapsed": true
   },
   "outputs": [],
   "source": []
  },
  {
   "cell_type": "markdown",
   "metadata": {},
   "source": [
    "Sorteringsmetoder er sjove! Skriv koden for Bubble Sort. Det er den, hvor vi går igennem listen n gange og bytter hver gang, at det er nødvendigt. Spørg hvis du er i tvivl!"
   ]
  },
  {
   "cell_type": "code",
   "execution_count": null,
   "metadata": {},
   "outputs": [],
   "source": [
    "def bubble_sort(liste):\n",
    "    #Prøv at lave Bubble Sort her!"
   ]
  },
  {
   "cell_type": "markdown",
   "metadata": {},
   "source": [
    "Lad os lave noget sjov med rekursioner. Skriv en rekursiv funktion (en funktion der kalder sig selv), der udregner det n'te Fibonacci-tal. Hvis du er i tvivl om hvad Fibonacci-tal er så kig her: https://da.wikipedia.org/wiki/Fibonacci-tal\n",
    "\n",
    "Hvis det er svært, så spørg os!"
   ]
  },
  {
   "cell_type": "code",
   "execution_count": null,
   "metadata": {
    "collapsed": true
   },
   "outputs": [],
   "source": [
    "def fib(n):\n",
    "    # lav basis tilfælde\n",
    "    # ellers så returner summen af de to foregående Fibonacci-tal "
   ]
  },
  {
   "cell_type": "markdown",
   "metadata": {},
   "source": [
    "Til sidst vil vi finde summen af cifrene for et udregnet faktorielt tal. Lav først en funktion som udregner et tals fakultet. Se https://en.wikipedia.org/wiki/Factorial hvis du ikke ved, hvad fakultet er.\n",
    "\n",
    "Vi gør det selvfølgelig rekursivt, for det er sejt!"
   ]
  },
  {
   "cell_type": "code",
   "execution_count": null,
   "metadata": {
    "collapsed": true
   },
   "outputs": [],
   "source": [
    "def fakultet(n):\n",
    "    # basis tilfælde\n",
    "    # returner det reducerede problem"
   ]
  },
  {
   "cell_type": "markdown",
   "metadata": {},
   "source": [
    "Fedt! Lad os finde summen af cifrene for et eller andet fakultet. Test selvfølgelig også om det du har lavet virker!"
   ]
  },
  {
   "cell_type": "code",
   "execution_count": null,
   "metadata": {
    "collapsed": true
   },
   "outputs": [],
   "source": [
    "def sum_af_fakultet(n):\n",
    "    # udregn fakultet\n",
    "    # lav variabel til at holde summen\n",
    "    # iterer mens der er cifre tilbage i tallet (som ikke alle er 0)\n",
    "        # find det sidste cifre i tallet (maske % operatoren kan hjælpe?)\n",
    "        # læg dette ciffer til summen\n",
    "        # fjern det sidste ciffer fra vores tal (tænk matematisk over, hvad det vil sige)\n",
    "        "
   ]
  },
  {
   "cell_type": "markdown",
   "metadata": {},
   "source": [
    "Wooo! Godt gået hvis du er nået til vejs ende! Hiv fat i os, hvis der er mere tid, så skal vi nok vise dig noget mere udfordrende :)"
   ]
  }
 ],
 "metadata": {
  "kernelspec": {
   "display_name": "Python 3",
   "language": "python",
   "name": "python3"
  },
  "language_info": {
   "codemirror_mode": {
    "name": "ipython",
    "version": 3
   },
   "file_extension": ".py",
   "mimetype": "text/x-python",
   "name": "python",
   "nbconvert_exporter": "python",
   "pygments_lexer": "ipython3",
   "version": "3.6.4"
  }
 },
 "nbformat": 4,
 "nbformat_minor": 1
}
