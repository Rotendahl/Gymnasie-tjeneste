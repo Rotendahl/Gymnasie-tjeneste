{
 "cells": [
  {
   "cell_type": "markdown",
   "metadata": {},
   "source": [
    "# STOP - har du husket at trykke \"Make a Copy\"? \n",
    "## Python opgaver for begyndere\n",
    "### Her er lidt at gå i gang med for de helt nye til Python\n",
    "#### Opgaverne skal løses i rækkefølge.\n",
    "Indsæt de rigtige værdier og variabler der hvor de mangler!\n",
    "\n",
    "Man kan se, at en værdi eller variabel skal udskiftes, ved at den starter med en _underscore \n",
    "#### Sig endelig til hvis I har brug for hjælp! "
   ]
  },
  {
   "cell_type": "markdown",
   "metadata": {
    "collapsed": true
   },
   "source": [
    "Lav først en liste med alle de ulige tal fra 0 til 10 vha. den følgende syntaks:"
   ]
  },
  {
   "cell_type": "code",
   "execution_count": null,
   "metadata": {},
   "outputs": [],
   "source": [
    "liste = []\n",
    "for i in range(_start, _slut, _skridt):\n",
    "    liste.append(_tal)\n",
    "print (liste)"
   ]
  },
  {
   "cell_type": "markdown",
   "metadata": {},
   "source": [
    "Find elementet i midten af listen."
   ]
  },
  {
   "cell_type": "code",
   "execution_count": null,
   "metadata": {
    "collapsed": true
   },
   "outputs": [],
   "source": [
    "midten = a[_position]\n",
    "print(midten)"
   ]
  },
  {
   "cell_type": "markdown",
   "metadata": {},
   "source": [
    "Beregn gennemsnittet af listen, altså summen af listen divideret med længden af listen\n",
    "\n",
    "_Vink_: Der findes indbyggede funktioner, for eksempel **sum()** og **len()**"
   ]
  },
  {
   "cell_type": "code",
   "execution_count": null,
   "metadata": {},
   "outputs": [],
   "source": [
    "gennemsnit = _summen / _længden"
   ]
  },
  {
   "cell_type": "markdown",
   "metadata": {},
   "source": [
    "Skriv til skærmen at det var en success, hvis gennemsnittet af listen er lig med det midterste element.\n",
    "\n",
    "**Bonus:** Du kan gå tilbage og ændre hvilke tal der er i listen, hvis du gerne vil prøve lidt forskeligt"
   ]
  },
  {
   "cell_type": "code",
   "execution_count": null,
   "metadata": {},
   "outputs": [],
   "source": [
    "if (_snit == _midt):\n",
    "    print(_besked)"
   ]
  },
  {
   "cell_type": "markdown",
   "metadata": {
    "collapsed": true
   },
   "source": [
    "Lad os nu prøve noget lidt sværere! \n",
    "\n",
    "Kan du huske, hvordan vi lavede en algoritme, som fandt ud af, om et givent element var i en sorteret liste? Prøv at skrive en funktion i Python, der gør det samme - først med lineær køretid."
   ]
  },
  {
   "cell_type": "code",
   "execution_count": null,
   "metadata": {
    "collapsed": true
   },
   "outputs": [],
   "source": [
    "def soeg(element, liste):\n",
    "    for i in range(_len_af_listen):\n",
    "        if _det_vi_leder_efter == _det_den_skal_være_lig_med:\n",
    "            return True\n",
    "    return False"
   ]
  },
  {
   "cell_type": "markdown",
   "metadata": {},
   "source": [
    "Mon den virker? Test den!"
   ]
  },
  {
   "cell_type": "code",
   "execution_count": null,
   "metadata": {
    "collapsed": true
   },
   "outputs": [],
   "source": [
    "A = [1, 2, 3, 4, 5, 7, 8, 9, 10]\n",
    "x = 5\n",
    "y = 6\n",
    "\n",
    "if (x_er_i_A):\n",
    "    #skriv hurra\n",
    "else:\n",
    "    #skriv ups\n",
    "\n",
    "if (y_er_i_A):\n",
    "    #skriv ups\n",
    "else:\n",
    "    #skriv hurra"
   ]
  },
  {
   "cell_type": "markdown",
   "metadata": {},
   "source": [
    "Skriv nu den samme søgefunktion, men så den kører med logaritmisk køretid. Altså, hvor vi skærer halvdelen af listen væk ved hver iteration."
   ]
  },
  {
   "cell_type": "code",
   "execution_count": null,
   "metadata": {
    "collapsed": true
   },
   "outputs": [],
   "source": [
    "def soeg_smart(element, liste):\n",
    "    while(1):\n",
    "        if _liste_tom:\n",
    "            return False\n",
    "        \n",
    "        midt = _midt_af_liste # brug // operatoren til at runde ned samtidigt med at du dividerer!\n",
    "        x = _midterste_element\n",
    "\n",
    "        if _element_er_i_midten_af_listen:\n",
    "            return True\n",
    "        elif _x_mindre_end_element:\n",
    "            # halver listen fra midten af og op (brug liste[start:slut])\n",
    "        else:\n",
    "            # halver listen fra midten af og ned (brug liste[start:slut])"
   ]
  },
  {
   "cell_type": "markdown",
   "metadata": {},
   "source": [
    "Test på samme måde som tidligere om din søgefunktion virker!"
   ]
  },
  {
   "cell_type": "code",
   "execution_count": null,
   "metadata": {
    "collapsed": true
   },
   "outputs": [],
   "source": [
    "A = [1, 2, 3, 4, 5, 7, 8, 9, 10]\n",
    "x = 5\n",
    "y = 6"
   ]
  },
  {
   "cell_type": "markdown",
   "metadata": {},
   "source": [
    "Alright, sejt at du er nået så langt! \n",
    "\n",
    "Prøv at skrive koden for insertion sort - altså den sorteringsmetode vi f.eks. bruger, når vi sorterer en hånd af spillekort. Spørg hvis du er i tvivl."
   ]
  },
  {
   "cell_type": "code",
   "execution_count": null,
   "metadata": {
    "collapsed": true
   },
   "outputs": [],
   "source": [
    "def insertion_sort(liste):\n",
    "    for r in range(_start, _slut):\n",
    "        for j in range(_start, _slut, _skridt):\n",
    "            if _aktuelt_element > _forrige_element:\n",
    "                break\n",
    "            liste[j - 1], liste[j] = liste[j], liste[j - 1] # hvis if ikke gælder, ombyttes elementerne\n",
    "            \n",
    "    return liste"
   ]
  },
  {
   "cell_type": "markdown",
   "metadata": {},
   "source": [
    "Check at din sorteringsfunktion virker! Skriv selv koden - genbrug evt. fra tidligere tests."
   ]
  },
  {
   "cell_type": "code",
   "execution_count": null,
   "metadata": {
    "collapsed": true
   },
   "outputs": [],
   "source": []
  },
  {
   "cell_type": "markdown",
   "metadata": {},
   "source": [
    "Lad os lave noget sjov med rekursioner. Skriv en rekursiv funktion (en funktion der kalder sig selv), der udregner det n'te Fibonacci-tal. Hvis du er i tvivl om hvad Fibonacci-tal er så kig her: https://da.wikipedia.org/wiki/Fibonacci-tal\n",
    "\n",
    "Hvis det er svært, så spørg os!"
   ]
  },
  {
   "cell_type": "code",
   "execution_count": null,
   "metadata": {
    "collapsed": true
   },
   "outputs": [],
   "source": [
    "def fib(n):\n",
    "    # hvis n er 0, så returner 0\n",
    "    # hvis n er 1, så returner 1\n",
    "    # ellers så returner summen af de to foregående Fibonacci-tal "
   ]
  },
  {
   "cell_type": "markdown",
   "metadata": {},
   "source": [
    "Til sidst vil vi finde summen af cifrene for et udregnet faktorielt tal. Lav først en funktion som udregner et tals fakultet. Se https://en.wikipedia.org/wiki/Factorial hvis du ikke ved, hvad fakultet er.\n",
    "\n",
    "Vi gør det selvfølgelig rekursivt, for det er sejt!"
   ]
  },
  {
   "cell_type": "code",
   "execution_count": null,
   "metadata": {
    "collapsed": true
   },
   "outputs": [],
   "source": [
    "def fakultet(n):\n",
    "    if n == 0:\n",
    "        # returner 1\n",
    "    else:\n",
    "        # returner det reducerede problem"
   ]
  },
  {
   "cell_type": "markdown",
   "metadata": {},
   "source": [
    "Wooo! Godt gået hvis du er nået til vejs ende! Hiv fat i os, hvis der er mere tid, så skal vi nok vise dig noget mere udfordrende :)"
   ]
  }
 ],
 "metadata": {
  "kernelspec": {
   "display_name": "Python 3",
   "language": "python",
   "name": "python3"
  },
  "language_info": {
   "codemirror_mode": {
    "name": "ipython",
    "version": 3
   },
   "file_extension": ".py",
   "mimetype": "text/x-python",
   "name": "python",
   "nbconvert_exporter": "python",
   "pygments_lexer": "ipython3",
   "version": "3.6.4"
  }
 },
 "nbformat": 4,
 "nbformat_minor": 1
}
