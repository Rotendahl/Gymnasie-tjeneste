{
 "cells": [
  {
   "cell_type": "markdown",
   "metadata": {},
   "source": [
    "# Studiepraktik dag 3\n",
    "## Machine Learning\n",
    "#### Perceptron Algortimen"
   ]
  },
  {
   "cell_type": "markdown",
   "metadata": {},
   "source": [
    "Vi skal have lavet en funktion der givet en ny vektor markerer den med enten 1 eller -1\n",
    "For at gøre dette nemmere deler vi det op i følgende underproblemer.\n",
    "* Læs data - En funktion er der flytter data ind i nogle variabler. \n",
    "* Prikprodukts funktion - Givet to vektorer retunerer den prikproduktet.  \n",
    "* Hypotese funktion  - Givet en vægt vektor et og punkt retunerer den et label\n",
    "* Find vægt vektoren - Der givet input data retunerer en vægt vektor. \n",
    "    * Lav hyperplans funktion - Laver et tilfældigt hyperplan i 10 diminsioner \n",
    "    * Lav opdateringsfunktion. - Givet en vægt vektor, en x vektor og et y label skal den\n",
    "      retunere en opdateret vægt vektor\n",
    "* Evt en tegn graf funktion. "
   ]
  },
  {
   "cell_type": "markdown",
   "metadata": {},
   "source": [
    "### Vi vil gemme vores data i to variabler"
   ]
  },
  {
   "cell_type": "code",
   "execution_count": 1,
   "metadata": {
    "collapsed": false
   },
   "outputs": [
    {
     "name": "stdout",
     "output_type": "stream",
     "text": [
      "25\n",
      "Vores data ligger nu i x og y\n"
     ]
    }
   ],
   "source": [
    "# Her skal du ikke goere noget, men laes koden igennem\n",
    "import data\n",
    "from random import randint\n",
    "# Lets get the data\n",
    "xs = data.getXs()\n",
    "ys = data.getYs()\n",
    "print \"Vores data ligger nu i x og y\""
   ]
  },
  {
   "cell_type": "markdown",
   "metadata": {},
   "source": [
    "x er nu en liste af vektorer, altså giver x[0] vektoren [1,5, 1, 1, 1, 2, 1, 3, 1, 1]. \n",
    "Y er en liste af labels så y[0]=1 hvilket siger at den første person i datasættet har en godartet svulst. "
   ]
  },
  {
   "cell_type": "markdown",
   "metadata": {},
   "source": [
    "## Liste funktioner\n",
    "Her laver vi de liste funktioner vi skal bruge i vores kode. "
   ]
  },
  {
   "cell_type": "markdown",
   "metadata": {},
   "source": [
    "### Prikprodukts funktion\n",
    "vi skal nu lave en funktion der givet to vektorer retunerer prikproduktet."
   ]
  },
  {
   "cell_type": "code",
   "execution_count": 1,
   "metadata": {
    "collapsed": false
   },
   "outputs": [],
   "source": [
    "def prikProd(u,v):\n",
    "    result = 0\n",
    "    for 1 in range len(u):\n",
    "        result += _et_produkt\n",
    "    return result"
   ]
  },
  {
   "cell_type": "code",
   "execution_count": 2,
   "metadata": {
    "collapsed": false
   },
   "outputs": [
    {
     "name": "stdout",
     "output_type": "stream",
     "text": [
      "Tallet skulle være x og det var -12\n"
     ]
    }
   ],
   "source": [
    "# Lad os teste om den virker\n",
    "a = [1,2,3]\n",
    "b = [-4,5,-6]\n",
    "print \"Tallet skulle være -12 og det var \" + str(prikProd(a,b)) "
   ]
  },
  {
   "cell_type": "markdown",
   "metadata": {},
   "source": [
    "### Sum funktion\n",
    "Vi skal lave en funktion der givet to lister, ligger hvert element parvis sammen. \n",
    "Eksempel givet de to liste\n",
    "a = [1, 2]\n",
    "b = [3, 4]\n",
    "Kalder vi så funktionen\n",
    "c = sumList(a,b) \n",
    "Skal c så være \n",
    "c = [4, 6]"
   ]
  },
  {
   "cell_type": "code",
   "execution_count": 3,
   "metadata": {
    "collapsed": true
   },
   "outputs": [],
   "source": [
    "def sumList(lst1, lst2):\n",
    "    newList = []\n",
    "    for _ting in range(_start, _slut):\n",
    "        newElem = _summen_af_de_i'te_elementer\n",
    "        newList.append(_det_næste_element)\n",
    "    return newList"
   ]
  },
  {
   "cell_type": "code",
   "execution_count": null,
   "metadata": {
    "collapsed": true
   },
   "outputs": [],
   "source": [
    "# Lad os teste om den virker\n",
    "a = [1,2,3]\n",
    "b = [4,5,6]\n",
    "print \"Tallet skulle være 21 og det var \" + str(sumList(a,b)) "
   ]
  },
  {
   "cell_type": "markdown",
   "metadata": {},
   "source": [
    "### Liste gange funktion\n",
    "Vi skal bruge en funktion der givet et tal(n) og en liste gange hver element i listen med n. \n",
    "Eksempel:\n",
    "Givet inputtet\n",
    "n = -2\n",
    "lst = [1,2,3,4]\n",
    "Skal et kald til funktionen \n",
    "lstNew = gangList(n, lst)\n",
    "gøre sådan at lstNew så såldes ud. \n",
    "lstNew = [-2,-4,-6,-8]\n"
   ]
  },
  {
   "cell_type": "code",
   "execution_count": 5,
   "metadata": {
    "collapsed": true
   },
   "outputs": [],
   "source": [
    "def gangList(n,lst):\n",
    "    newLst = []\n",
    "    for _tal in _liste:\n",
    "        newLst.append(_produkt)\n",
    "    return newLst"
   ]
  },
  {
   "cell_type": "code",
   "execution_count": 6,
   "metadata": {
    "collapsed": false
   },
   "outputs": [
    {
     "name": "stdout",
     "output_type": "stream",
     "text": [
      "Listen skulle være 2,4,6 og det var [2, 4, 6]\n"
     ]
    }
   ],
   "source": [
    "# Lad os teste om den virker\n",
    "a = [1,2,3]\n",
    "b = 2\n",
    "print \"Listen skulle være 2,4,6 og det var \" + str(gangList(b,a))"
   ]
  },
  {
   "cell_type": "markdown",
   "metadata": {},
   "source": [
    "### Lav hyperplan\n",
    "Vi skal lave vores vægt vektor, den skal have 10 elementer hvor det første er \"1\" og de 9 andre er tilfældige tal mellem 1 og 10. "
   ]
  },
  {
   "cell_type": "code",
   "execution_count": 2,
   "metadata": {
    "collapsed": false
   },
   "outputs": [],
   "source": [
    "def makeHyper():\n",
    "    w = [1]\n",
    "    for i in range(1,10):\n",
    "        tal = randint(3,_6)\n",
    "        w.append(8)\n",
    "    return w"
   ]
  },
  {
   "cell_type": "code",
   "execution_count": null,
   "metadata": {
    "collapsed": true
   },
   "outputs": [],
   "source": [
    "# Kan vil lave en random liste\n",
    "print makeHyper()"
   ]
  },
  {
   "cell_type": "markdown",
   "metadata": {},
   "source": [
    "### Opdaterings funktion. \n",
    "Givet en vægt vektor (w) en data vektor(x) den har market forkert og den rigtige markeing (y) skal den opdatere vægt vektoren så den lærer fra sin fejl. \n",
    "\n",
    "Det skal gøres såldes\n",
    "w = w + y * x\n",
    "\n",
    "Vink, du har lavet funktioner til dette"
   ]
  },
  {
   "cell_type": "code",
   "execution_count": 6,
   "metadata": {
    "collapsed": false
   },
   "outputs": [],
   "source": [
    "def update(w,x,y):\n",
    "    wNew = _to_lister_ganget_sammen\n",
    "    wNew = _to_liste_lagt_sammen\n",
    "    return wNew"
   ]
  },
  {
   "cell_type": "markdown",
   "metadata": {},
   "source": [
    "### Hypotese funktion. \n",
    "Vi skal nu lave vores hypotese funktion. \n",
    "Den skal givet en vægtvektor(w) og en data vektor(x) skal den retunere en markering, altså \n",
    "1 eller -1.\n",
    "\n",
    "Lablet bestemmes ved at tage prikproduktet af de to vektorer og retunere 1 hvis det er større eller lig med nul og ellers retunerer -1"
   ]
  },
  {
   "cell_type": "code",
   "execution_count": 7,
   "metadata": {
    "collapsed": true
   },
   "outputs": [],
   "source": [
    "def hypo(w, x):\n",
    "    prik = _prik_produktet\n",
    "    val = 1\n",
    "    if(prik < _noget):\n",
    "        val = -1\n",
    "    return val"
   ]
  },
  {
   "cell_type": "markdown",
   "metadata": {},
   "source": [
    "# Find vægt vektoren\n",
    "Vi skal nu skrive kernen i vores alogorimte og bruge alle vores hjælpe funktioner. \n",
    "Givet liste af data vektor (x) og en liste af markeringer (y) skal vi retunere den rigtige vægt vektor. \n",
    "\n",
    "Trinene skal være. \n",
    "1. Sæt w til en tilfældig vektor. \n",
    "2. Tjek om vores nuværende hypotese giver nogle forkerte markinger\n",
    "    a. Hvis det er tilfældet så opdater vektoren så den markerer punktet rigtigt. \n",
    "3. Forsæt med trin 2 indtil der ikke er nogle forkerte markerede punkter. \n",
    "4. Retuner w."
   ]
  },
  {
   "cell_type": "code",
   "execution_count": 8,
   "metadata": {
    "collapsed": false
   },
   "outputs": [],
   "source": [
    "def findWeight(x,y):\n",
    "    w = _et_hyper_plan\n",
    "    wasWrong = True\n",
    "    while(wasWrong == True):\n",
    "        wasWrong = False\n",
    "        for i in range(len(x)):\n",
    "            if(_hypo != _markering):\n",
    "                w = _updateret_w\n",
    "                wasWrong = True\n",
    "    return w"
   ]
  },
  {
   "cell_type": "code",
   "execution_count": 9,
   "metadata": {
    "collapsed": false
   },
   "outputs": [
    {
     "name": "stdout",
     "output_type": "stream",
     "text": [
      "[201, -24, 38, -45, -98, 59, 15, -1, -21, 90]\n"
     ]
    }
   ],
   "source": [
    "w =  findWeight(xs,ys)\n",
    "print w"
   ]
  },
  {
   "cell_type": "markdown",
   "metadata": {},
   "source": [
    "Vi kan nu selv bestemme markinger til nye patienter, lad os teste hvor god vores funktion er!\n",
    "kald funktionen data.calcError(w) og se hvor god den er. "
   ]
  },
  {
   "cell_type": "code",
   "execution_count": null,
   "metadata": {
    "collapsed": true
   },
   "outputs": [],
   "source": []
  }
 ],
 "metadata": {
  "kernelspec": {
   "display_name": "Python 2",
   "language": "python",
   "name": "python2"
  },
  "language_info": {
   "codemirror_mode": {
    "name": "ipython",
    "version": 2
   },
   "file_extension": ".py",
   "mimetype": "text/x-python",
   "name": "python",
   "nbconvert_exporter": "python",
   "pygments_lexer": "ipython2",
   "version": "2.7.10"
  }
 },
 "nbformat": 4,
 "nbformat_minor": 0
}
