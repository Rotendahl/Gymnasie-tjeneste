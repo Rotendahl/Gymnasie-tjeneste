{
 "cells": [
  {
   "cell_type": "markdown",
   "metadata": {},
   "source": [
    "# Gymnasiekonference\n",
    "## Machine Learning\n",
    "#### Perceptron Algortimen"
   ]
  },
  {
   "cell_type": "markdown",
   "metadata": {},
   "source": [
    "Vi skal have lavet en funktion der givet en ny vektor markerer den med enten $1$ eller $-1$\n",
    "\n",
    "For at gøre dette nemmere deler vi det op i følgende underproblemer.\n",
    "* **Læs data** : En funktion der flytter data ind i nogle variabler. \n",
    "* **Prikprodukts-funktion** : Givet to vektorer retunerer den prikproduktet.  \n",
    "* **Vektor sum-funktion**   : Givet to vektorer retunerer den en ny vektor med den parvise sum.  \n",
    "* **Hypotese-funktion**     : Givet en hjerne vektor og en patient vektor retunerer den en markering\n",
    "* **Find hjerne vektoren**  : Finder og træner en hjerne vektor\n",
    "    * **Lav hyperplans funktion** : Laver et tilfældigt hyperplan i 10 diminsioner \n",
    "    * **Lav opdateringsfunktion**. : Givet en hjerne vektor, en patient vektor og en markering skal den\n",
    "      retunere en opdateret hjerne vektor"
   ]
  },
  {
   "cell_type": "markdown",
   "metadata": {},
   "source": [
    "# Har du trykket \"file>make a copy\"?"
   ]
  },
  {
   "cell_type": "markdown",
   "metadata": {},
   "source": [
    "### Læs Data"
   ]
  },
  {
   "cell_type": "code",
   "execution_count": 1,
   "metadata": {
    "collapsed": false
   },
   "outputs": [],
   "source": [
    "# Her skal du ikke gøre noget, men læs koden igennem\n",
    "import data\n",
    "from random import randint\n",
    "# Vi henter dataen. \n",
    "dataX = data.getXs()\n",
    "dataY = data.getYs()\n",
    "print \"Vores data ligger nu i dataX og dataY\""
   ]
  },
  {
   "cell_type": "markdown",
   "metadata": {},
   "source": [
    "$dataX$ er nu en liste af vektorer, altså giver $dataX[0]$ vektoren $[1,5, 1, 1, 1, 2, 1, 3, 1, 1]$. \n",
    "\n",
    "$dataY$ er en liste af markeringer så $dataY[0]=1$ hvilket siger at den første person i datasættet har en godartet svulst. "
   ]
  },
  {
   "cell_type": "markdown",
   "metadata": {},
   "source": [
    "---\n",
    "## Vektor funktioner\n",
    "Her laver vi de funktioner vi skal bruge i vores kode til at håndtere vektorer. \n",
    "\n",
    "### Prikprodukts-funktion\n",
    "Vi skal nu lave en funktion der givet to vektorer retunerer prikproduktet.\n",
    "\n",
    "\n",
    "Husk at prikproduktet er defineret som: $a_1 * b_1 + a_2 * b_2 + ... + a_n * b_n$  "
   ]
  },
  {
   "cell_type": "code",
   "execution_count": 1,
   "metadata": {
    "collapsed": false
   },
   "outputs": [],
   "source": [
    "def prikProd(vec1,vec2):\n",
    "    result = _tal\n",
    "    for index in range(_start, _slut): \n",
    "        result += _et_produkt \n",
    "    return result"
   ]
  },
  {
   "cell_type": "code",
   "execution_count": 2,
   "metadata": {
    "collapsed": false
   },
   "outputs": [],
   "source": [
    "# Lad os teste om den virker\n",
    "a = [1,2,3]\n",
    "b = [-4,5,-6]\n",
    "print \"Tallet skulle være -12 og det var \" + str(prikProd(a,b)) "
   ]
  },
  {
   "cell_type": "markdown",
   "metadata": {},
   "source": [
    "### Sum funktion\n",
    "Vi skal lave en funktion der givet to vektorer, ligger hvert element parvis sammen. \n",
    "\n",
    "Hvis $a$ og $b$ er vektorer ønsker vi at regne $a + b = [a_1+b_1,a_2+b_2, \\dots, a_n + b_n] $ \n",
    "\n",
    "Eksempel givet de to vektorer.\n",
    "$a = [1, 2]$ og \n",
    "$b = [3, 4]$\n",
    "\n",
    "Skal funktionen give\n",
    "\n",
    "$sumVec(a,b) = [4, 6]$\n"
   ]
  },
  {
   "cell_type": "code",
   "execution_count": 3,
   "metadata": {
    "collapsed": true
   },
   "outputs": [],
   "source": [
    "def sumVec(vec1, vec2):\n",
    "    newList = []\n",
    "    for index in range(_start, _slut):\n",
    "        newElem = _summen_af_de_i'te_elementer\n",
    "        newList.append(_det_næste_element)\n",
    "    return newList"
   ]
  },
  {
   "cell_type": "code",
   "execution_count": null,
   "metadata": {
    "collapsed": true
   },
   "outputs": [],
   "source": [
    "# Lad os teste om den virker\n",
    "a = [1,2,3]\n",
    "b = [4,5,6]\n",
    "print \"Tallet skulle være 21 og det var \" + str(sumList(a,b)) "
   ]
  },
  {
   "cell_type": "markdown",
   "metadata": {},
   "source": [
    "### Vektor gange funktion\n",
    "Vi skal bruge en funktion der givet et tal $k$ og en vektor $x$ gange hvert element i $x$ med $k$.\n",
    "\n",
    "Ved vektoren $x$ og konstanten $k$ ønsker vi at regne \n",
    "\n",
    "$\n",
    "    gangVec(k,x) = [k*x_1, k*x_2, \\dots k_n] \n",
    "$\n",
    "\n",
    "Eksempel:\n",
    "Givet inputtet\n",
    "$k = -2$ og \n",
    "$vec = [1,2,3,4]$\n",
    "\n",
    "Skal et kald til funktionen give:\n",
    "$gangVec(k, vec) = [-2,-4,-6,-8]$\n"
   ]
  },
  {
   "cell_type": "code",
   "execution_count": 5,
   "metadata": {
    "collapsed": true
   },
   "outputs": [],
   "source": [
    "def gangVec(n,vec):\n",
    "    newLst = []\n",
    "    for index in range(0,_liste):\n",
    "        newLst.append(_produkt) #Hint append indsætter et i parentesen i en liste\n",
    "    return newLst"
   ]
  },
  {
   "cell_type": "code",
   "execution_count": 3,
   "metadata": {
    "collapsed": false
   },
   "outputs": [],
   "source": [
    "# Lad os teste om den virker\n",
    "a = [1,2,3]\n",
    "b = 2\n",
    "print \"Listen skulle være 2,4,6 og det var \" + str(gangList(b,a))"
   ]
  },
  {
   "cell_type": "markdown",
   "metadata": {},
   "source": [
    "---\n",
    "### Lav hyperplan\n",
    "Vi skal lave vores hjerne vektor, den skal have 10 elementer hvor det første er $1$ og de $9$ andre er tilfældige tal mellem $1$ og $10$. "
   ]
  },
  {
   "cell_type": "code",
   "execution_count": 5,
   "metadata": {
    "collapsed": false
   },
   "outputs": [],
   "source": [
    "def makeHyper():\n",
    "    w = [1]\n",
    "    for i in range(1,10):\n",
    "        tal = randint(_nedre,_øvre)\n",
    "        w.append(tal)\n",
    "    return w"
   ]
  },
  {
   "cell_type": "code",
   "execution_count": null,
   "metadata": {
    "collapsed": true
   },
   "outputs": [],
   "source": [
    "# Kan vil lave en random vektor\n",
    "print makeHyper()"
   ]
  },
  {
   "cell_type": "markdown",
   "metadata": {},
   "source": [
    "### Opdaterings funktion. \n",
    "Givet en hjerne vektor $w$ en patient vektor $x$ som er market forkert,\n",
    "\n",
    "skal den opdatere hjerne vektoren så den lærer fra sin fejl. \n",
    "\n",
    "Det gøres med denne formel hvor $y$ er den rigtige markering. \n",
    "\n",
    "$w = w + y * x$\n",
    "\n",
    "*Vink, du har lavet funktioner til dette*"
   ]
  },
  {
   "cell_type": "code",
   "execution_count": 6,
   "metadata": {
    "collapsed": false
   },
   "outputs": [],
   "source": [
    "def update(w,x,y):\n",
    "    wNew = _to_vektorer_ganget_sammen\n",
    "    wNew = _to_vektorer_lagt_sammen\n",
    "    return wNew"
   ]
  },
  {
   "cell_type": "markdown",
   "metadata": {},
   "source": [
    "### Hypotese funktion. \n",
    "Vi skal nu lave vores hypotese funktion. \n",
    "\n",
    "Givet en hjerne vektor $w$ og en data vektor $x$ skal den retunere en markering $1$ eller $-1$.\n",
    "\n",
    "Markeringen bestemmes ved at tage prikproduktet af de to vektorer. \n",
    "\n",
    "Retunerer $1$ hvis prikproduktet er større eller lig med nul.\n",
    "\n",
    "Ellers retunerer $-1$"
   ]
  },
  {
   "cell_type": "code",
   "execution_count": 7,
   "metadata": {
    "collapsed": true
   },
   "outputs": [],
   "source": [
    "def hypo(w, x):\n",
    "    prik = _prik_produktet\n",
    "    val = 1\n",
    "    if(prik < _noget): \n",
    "        val = -1\n",
    "    return val"
   ]
  },
  {
   "cell_type": "markdown",
   "metadata": {},
   "source": [
    "# Find hjerne vektoren\n",
    "Vi skal nu skrive kernen i vores alogorimte og bruge alle vores hjælpefunktioner.\n",
    "\n",
    "\n",
    "Givet liste af data vektorere $xs$ og en liste af markeringer $ys$ skal vi retunere den rigtige hjerne vektor. \n",
    "\n",
    "Trinene skal være. \n",
    "1. Sæt w til en tilfældig vektor. \n",
    "2. Tjek om vores nuværende hypotese giver nogle forkerte markinger\n",
    "    a. Hvis det er tilfældet så opdater vektoren så den markerer punktet rigtigt. \n",
    "3. Forsæt med trin 2 indtil der ikke er nogle forkerte markerede punkter. \n",
    "4. Retuner w."
   ]
  },
  {
   "cell_type": "code",
   "execution_count": 5,
   "metadata": {
    "collapsed": false
   },
   "outputs": [],
   "source": [
    "def findBrain(xs, ys):\n",
    "    w = _et_hyper_plan\n",
    "    isLearning = True\n",
    "    while(isLearning == True):\n",
    "        isLearning = False\n",
    "        for i in range(len(xs)):\n",
    "            if(_hypo != _rigtig_svar): #Hint: hvad er y? \n",
    "                w = _updateret_w \n",
    "                isLearning = True\n",
    "    return w"
   ]
  },
  {
   "cell_type": "code",
   "execution_count": 4,
   "metadata": {
    "collapsed": false
   },
   "outputs": [],
   "source": [
    "w =  findBrain(dataX,dataY)\n",
    "print \"Du har lavet hjernevektoren: \", w"
   ]
  },
  {
   "cell_type": "markdown",
   "metadata": {},
   "source": [
    "Vi kan nu selv bestemme markinger til nye patienter, lad os teste hvor god vores funktion er!\n",
    "kald funktionen data.calcError(w) og se hvor god den er. "
   ]
  },
  {
   "cell_type": "code",
   "execution_count": null,
   "metadata": {
    "collapsed": true
   },
   "outputs": [],
   "source": [
    "# Tryk play og se din succesrate\n",
    "data.calcError(w)"
   ]
  }
 ],
 "metadata": {
  "kernelspec": {
   "display_name": "Python 2",
   "language": "python",
   "name": "python2"
  },
  "language_info": {
   "codemirror_mode": {
    "name": "ipython",
    "version": 2
   },
   "file_extension": ".py",
   "mimetype": "text/x-python",
   "name": "python",
   "nbconvert_exporter": "python",
   "pygments_lexer": "ipython2",
   "version": "2.7.10"
  }
 },
 "nbformat": 4,
 "nbformat_minor": 0
}
