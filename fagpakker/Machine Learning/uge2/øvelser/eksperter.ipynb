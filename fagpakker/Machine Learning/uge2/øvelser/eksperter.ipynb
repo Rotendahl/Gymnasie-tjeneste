{
 "cells": [
  {
   "cell_type": "markdown",
   "metadata": {},
   "source": [
    "# Python opgaver for begyndere\n",
    "## Her er lidt at gå i gang med for de helt skarpe til Python\n",
    "#### Sig endelig til hvis I har brug for hjælp! I skal løse opgaverne i rækkefølge."
   ]
  },
  {
   "cell_type": "markdown",
   "metadata": {
    "collapsed": true
   },
   "source": [
    "Undersog om gennemsnittet af en liste fra 0 til 10 med kun de ulige tal er lig det miderste element. Check dit resultat."
   ]
  },
  {
   "cell_type": "code",
   "execution_count": null,
   "metadata": {
    "collapsed": true
   },
   "outputs": [],
   "source": [
    "# skriv kode her!"
   ]
  },
  {
   "cell_type": "markdown",
   "metadata": {
    "collapsed": true
   },
   "source": [
    "Lad os nu prøve noget lidt sværere! Kan du huske, hvordan vi lavede en algoritme, som fandt ud af, om et givent element var i en sorteret liste? Prøv at skrive en funktion i Python der gør det samme - først lineært."
   ]
  },
  {
   "cell_type": "code",
   "execution_count": null,
   "metadata": {
    "collapsed": true
   },
   "outputs": [],
   "source": [
    "# skriv kode her!"
   ]
  },
  {
   "cell_type": "markdown",
   "metadata": {},
   "source": [
    "Mon den virker? Test den!"
   ]
  },
  {
   "cell_type": "code",
   "execution_count": null,
   "metadata": {
    "collapsed": true
   },
   "outputs": [],
   "source": [
    "# skriv kode her!"
   ]
  },
  {
   "cell_type": "markdown",
   "metadata": {},
   "source": [
    "Skriv nu den samme søgefunktion, men så den kører med logaritmisk køretid. Altså, hvor vi skærer halvdelen af listen væk ved hver iteration."
   ]
  },
  {
   "cell_type": "code",
   "execution_count": null,
   "metadata": {
    "collapsed": true
   },
   "outputs": [],
   "source": [
    "# skriv kode her!"
   ]
  },
  {
   "cell_type": "markdown",
   "metadata": {},
   "source": [
    "Test på samme måde som før om din søgefunktion virker!"
   ]
  },
  {
   "cell_type": "code",
   "execution_count": null,
   "metadata": {
    "collapsed": true
   },
   "outputs": [],
   "source": [
    "# skriv kode her!"
   ]
  },
  {
   "cell_type": "markdown",
   "metadata": {},
   "source": [
    "Alright, sejt at du er noget så langt! Prøv at skrive koden for insertion sort - altså den sorteringsmetode vi f.eks. bruger, når vi sorterer en hånd af spillekort. Spørg hvis du er i tvivl."
   ]
  },
  {
   "cell_type": "code",
   "execution_count": null,
   "metadata": {
    "collapsed": true
   },
   "outputs": [],
   "source": [
    "# skriv kode her!"
   ]
  },
  {
   "cell_type": "markdown",
   "metadata": {},
   "source": [
    "Check at din sorteringsfunktion virker! Skriv selv koden - genbrug evt. fra tidligere tests."
   ]
  },
  {
   "cell_type": "code",
   "execution_count": null,
   "metadata": {
    "collapsed": true
   },
   "outputs": [],
   "source": [
    "# skriv kode her!"
   ]
  },
  {
   "cell_type": "markdown",
   "metadata": {},
   "source": [
    "Sorteringsmetoder er sjove! Skriv koden for Bubble Sort. Det er den, hvor vi går igennem listen n gange og bytter hver gang, at det er nødvendigt. Spørg hvis du er i tvivl!"
   ]
  },
  {
   "cell_type": "code",
   "execution_count": null,
   "metadata": {
    "collapsed": true
   },
   "outputs": [],
   "source": [
    "# skriv kode her!"
   ]
  },
  {
   "cell_type": "markdown",
   "metadata": {},
   "source": [
    "Igen er det vigtigt, at se om det du har lavet virker!"
   ]
  },
  {
   "cell_type": "code",
   "execution_count": null,
   "metadata": {
    "collapsed": true
   },
   "outputs": [],
   "source": [
    "# skriv kode her!"
   ]
  },
  {
   "cell_type": "markdown",
   "metadata": {},
   "source": [
    "Lad os lave noget rekursionssjov. Skriv en rekursiv funktion (en funktion der kalder sig selv), der udregner det n'te fibbonachi tal. Hvis du er i tvivl om hvad Fibbonacci-tal er så kig her: https://da.wikipedia.org/wiki/Fibonacci-tal\n",
    "Hvis det er svært, så spørg os!"
   ]
  },
  {
   "cell_type": "code",
   "execution_count": null,
   "metadata": {
    "collapsed": true
   },
   "outputs": [],
   "source": [
    "# skriv kode her!"
   ]
  },
  {
   "cell_type": "markdown",
   "metadata": {},
   "source": [
    "Find nu summen af de første 5 ulige fibbonacci tal (og tjek at det din funktion giver stemmer overens med det rigtige resultat!). Implementer en iterativ losning hvis du kan."
   ]
  },
  {
   "cell_type": "code",
   "execution_count": null,
   "metadata": {
    "collapsed": true
   },
   "outputs": [],
   "source": [
    "# skriv kode her!"
   ]
  },
  {
   "cell_type": "markdown",
   "metadata": {},
   "source": [
    "Til sidst vil vi finde summen af cifrene for et udregnet faktorielt tal. Implementer igen en iterativ losning.\n",
    "\n",
    "Se https://en.wikipedia.org/wiki/Factorial hvis du ikke ved, hvad det vil sige."
   ]
  },
  {
   "cell_type": "code",
   "execution_count": null,
   "metadata": {
    "collapsed": true
   },
   "outputs": [],
   "source": [
    "# skriv kode her!"
   ]
  },
  {
   "cell_type": "markdown",
   "metadata": {},
   "source": [
    "Fedt man! Lad os finde summen af cifrene for et eller andet fakultet. Test selvfølgelig om det du har lavet virker!"
   ]
  },
  {
   "cell_type": "code",
   "execution_count": null,
   "metadata": {
    "collapsed": true
   },
   "outputs": [],
   "source": [
    "# skriv kode her!"
   ]
  },
  {
   "cell_type": "markdown",
   "metadata": {},
   "source": [
    "Wooo! Godt gået hvis du er nået til vejs ende! Hiv fat i os hvis der er mere tid, så skal vi nok vise dig noget mere udfordrende :)"
   ]
  }
 ],
 "metadata": {
  "kernelspec": {
   "display_name": "Python 2",
   "language": "python",
   "name": "python2"
  },
  "language_info": {
   "codemirror_mode": {
    "name": "ipython",
    "version": 2
   },
   "file_extension": ".py",
   "mimetype": "text/x-python",
   "name": "python",
   "nbconvert_exporter": "python",
   "pygments_lexer": "ipython2",
   "version": "2.7.10"
  }
 },
 "nbformat": 4,
 "nbformat_minor": 0
}
