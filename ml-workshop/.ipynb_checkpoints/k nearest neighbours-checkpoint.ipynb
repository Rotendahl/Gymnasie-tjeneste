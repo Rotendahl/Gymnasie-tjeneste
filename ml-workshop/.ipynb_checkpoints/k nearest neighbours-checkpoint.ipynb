{
 "cells": [
  {
   "cell_type": "code",
   "execution_count": 1,
   "metadata": {
    "collapsed": false
   },
   "outputs": [
    {
     "name": "stdout",
     "output_type": "stream",
     "text": [
      "Populating the interactive namespace from numpy and matplotlib\n"
     ]
    },
    {
     "name": "stderr",
     "output_type": "stream",
     "text": [
      ":0: FutureWarning: IPython widgets are experimental and may change in the future.\n"
     ]
    }
   ],
   "source": [
    "%pylab inline\n",
    "from ekstra_funktioner import *\n",
    "\n",
    "from sklearn.cross_validation import StratifiedKFold\n",
    "from sklearn.datasets import make_classification, make_moons\n",
    "\n",
    "# Følgende sætter størrelsen af figurene (i tommer).\n",
    "# Du kan prøve at ændre størrelsen, hvis figurene er for små eller for store.\n",
    "pylab.rcParams['figure.figsize'] = (10.0, 6.0)"
   ]
  },
  {
   "cell_type": "markdown",
   "metadata": {},
   "source": [
    "# $k$ nearest neighbours"
   ]
  },
  {
   "cell_type": "markdown",
   "metadata": {},
   "source": [
    "Metoden, vi ser på her, kaldes *$k$ nearest neighbours* (eller bare $k$-NN). Navnet kommer af, at metoden bruger de $k$ nærmeste datapunkter (\"naboer\") til at bestemme, hvad værdien i et givent punkt bør være. Man kan bruge disse $k$ naboer på forskellige måder, når man skal bestemme en værdi. Den mest simple måde er blot at tage gennemsnittet af naboernes værdier, men man kan f.eks. også bruge et vægtet gennemsnit, hvor punkter, der ligger længere væk, vil tælle mindre."
   ]
  },
  {
   "cell_type": "markdown",
   "metadata": {},
   "source": [
    "# Opgave 1"
   ]
  },
  {
   "cell_type": "markdown",
   "metadata": {},
   "source": [
    "Vi starter med at se på en type af opgaver, der betegnes *regression*. I regressionsanalyse prøver man at finde en sammenhæng mellem datapunkter. Det lyder måske lidt teknisk, men det er præcis det, man gør, når man finder en tendenslinje: her finder man netop en funktion, der beskriver en sammenhæng mellem datapunkter. Men i modsætning til at finde en tendenslinje, skal man med $k$-NN ikke specificere en funktion, man vil fitte til dataene.\n",
    "\n",
    "Først ser vi på nogle ukendte data:"
   ]
  },
  {
   "cell_type": "code",
   "execution_count": 2,
   "metadata": {
    "collapsed": false
   },
   "outputs": [
    {
     "data": {
      "image/png": "[encoded data removed]",
      "text/plain": [
       "<matplotlib.figure.Figure at 0x10d26ce50>"
      ]
     },
     "metadata": {},
     "output_type": "display_data"
    }
   ],
   "source": [
    "x,y = ukendte_data()\n",
    "plot_data(x,y)"
   ]
  },
  {
   "cell_type": "markdown",
   "metadata": {},
   "source": [
    "For at finde den underliggende sammenhæng disse datapunkter (dvs. for at kunne lave regression) kunne vi f.eks. vælge at fitte en tendenslinje til dataene. Men for at undgå at skulle specificere en bestemt funktion, som vi dybest set ikke ved om er den rigtige, vælger vi i stedet at bruge $k$-NN.\n",
    "\n",
    "$k$-NN har dog én parameter, der skal vælges: antallet af naboer, $k$. Med koden herunder kan du afprøve forskellige værdier af $k$ og se, hvad der sker."
   ]
  },
  {
   "cell_type": "code",
   "execution_count": 5,
   "metadata": {
    "collapsed": false
   },
   "outputs": [
    {
     "ename": "KeyError",
     "evalue": "'uniform'",
     "output_type": "error",
     "traceback": [
      "\u001b[0;31m---------------------------------------------------------------------------\u001b[0m",
      "\u001b[0;31mKeyError\u001b[0m                                  Traceback (most recent call last)",
      "\u001b[0;32m<ipython-input-5-cee66158b981>\u001b[0m in \u001b[0;36m<module>\u001b[0;34m()\u001b[0m\n\u001b[1;32m      1\u001b[0m \u001b[0mx\u001b[0m \u001b[0;34m=\u001b[0m \u001b[0mlinspace\u001b[0m\u001b[0;34m(\u001b[0m\u001b[0;34m-\u001b[0m\u001b[0;36m10\u001b[0m\u001b[0;34m,\u001b[0m\u001b[0;36m10\u001b[0m\u001b[0;34m,\u001b[0m\u001b[0;36m500\u001b[0m\u001b[0;34m)\u001b[0m   \u001b[0;31m# Vi laver 500 x-værdier, som bruges til at tegne regressionslinjen.\u001b[0m\u001b[0;34m\u001b[0m\u001b[0m\n\u001b[0;32m----> 2\u001b[0;31m \u001b[0mplot_interaktiv_kNN\u001b[0m\u001b[0;34m(\u001b[0m\u001b[0mx\u001b[0m\u001b[0;34m)\u001b[0m\u001b[0;34m\u001b[0m\u001b[0m\n\u001b[0m",
      "\u001b[0;32m/Users/Rotendahl/GDrive/gymnasie-tjenste/Materiale/ml-workshop/ekstra_funktioner.pyc\u001b[0m in \u001b[0;36mplot_interaktiv_kNN\u001b[0;34m(x, naboer)\u001b[0m\n\u001b[1;32m    146\u001b[0m \u001b[0;34m\u001b[0m\u001b[0m\n\u001b[1;32m    147\u001b[0m     m_widget=widgets.RadioButtonsWidget(values=[\"uniform\", \"distance\"],\n\u001b[0;32m--> 148\u001b[0;31m                                       value=\"uniform\")\n\u001b[0m\u001b[1;32m    149\u001b[0m \u001b[0;34m\u001b[0m\u001b[0m\n\u001b[1;32m    150\u001b[0m     \u001b[0m_\u001b[0m \u001b[0;34m=\u001b[0m \u001b[0mwidgets\u001b[0m\u001b[0;34m.\u001b[0m\u001b[0minteract\u001b[0m\u001b[0;34m(\u001b[0m\u001b[0mf\u001b[0m\u001b[0;34m,\u001b[0m \u001b[0mk\u001b[0m\u001b[0;34m=\u001b[0m\u001b[0mk_widget\u001b[0m\u001b[0;34m,\u001b[0m\u001b[0mmetode\u001b[0m\u001b[0;34m=\u001b[0m\u001b[0mm_widget\u001b[0m\u001b[0;34m)\u001b[0m\u001b[0;34m\u001b[0m\u001b[0m\n",
      "\u001b[0;32m/opt/local/Library/Frameworks/Python.framework/Versions/2.7/lib/python2.7/site-packages/IPython/utils/warn.pyc\u001b[0m in \u001b[0;36minit_hook\u001b[0;34m(self, *pargs, **kwargs)\u001b[0m\n\u001b[1;32m     71\u001b[0m     \u001b[0;31m# Hook the init method of the base class.\u001b[0m\u001b[0;34m\u001b[0m\u001b[0;34m\u001b[0m\u001b[0m\n\u001b[1;32m     72\u001b[0m     \u001b[0;32mdef\u001b[0m \u001b[0minit_hook\u001b[0m\u001b[0;34m(\u001b[0m\u001b[0mself\u001b[0m\u001b[0;34m,\u001b[0m \u001b[0;34m*\u001b[0m\u001b[0mpargs\u001b[0m\u001b[0;34m,\u001b[0m \u001b[0;34m**\u001b[0m\u001b[0mkwargs\u001b[0m\u001b[0;34m)\u001b[0m\u001b[0;34m:\u001b[0m\u001b[0;34m\u001b[0m\u001b[0m\n\u001b[0;32m---> 73\u001b[0;31m         \u001b[0mbase\u001b[0m\u001b[0;34m.\u001b[0m\u001b[0m__init__\u001b[0m\u001b[0;34m(\u001b[0m\u001b[0mself\u001b[0m\u001b[0;34m,\u001b[0m \u001b[0;34m*\u001b[0m\u001b[0mpargs\u001b[0m\u001b[0;34m,\u001b[0m \u001b[0;34m**\u001b[0m\u001b[0mkwargs\u001b[0m\u001b[0;34m)\u001b[0m\u001b[0;34m\u001b[0m\u001b[0m\n\u001b[0m\u001b[1;32m     74\u001b[0m \u001b[0;34m\u001b[0m\u001b[0m\n\u001b[1;32m     75\u001b[0m         \u001b[0;31m# Warn once per class.\u001b[0m\u001b[0;34m\u001b[0m\u001b[0;34m\u001b[0m\u001b[0m\n",
      "\u001b[0;32m/opt/local/Library/Frameworks/Python.framework/Versions/2.7/lib/python2.7/site-packages/IPython/html/widgets/widget_selection.pyc\u001b[0m in \u001b[0;36m__init__\u001b[0;34m(self, *args, **kwargs)\u001b[0m\n\u001b[1;32m     66\u001b[0m         \u001b[0;32mif\u001b[0m \u001b[0;34m'options'\u001b[0m \u001b[0;32min\u001b[0m \u001b[0mkwargs\u001b[0m\u001b[0;34m:\u001b[0m\u001b[0;34m\u001b[0m\u001b[0m\n\u001b[1;32m     67\u001b[0m             \u001b[0mself\u001b[0m\u001b[0;34m.\u001b[0m\u001b[0moptions\u001b[0m \u001b[0;34m=\u001b[0m \u001b[0mkwargs\u001b[0m\u001b[0;34m.\u001b[0m\u001b[0mpop\u001b[0m\u001b[0;34m(\u001b[0m\u001b[0;34m'options'\u001b[0m\u001b[0;34m)\u001b[0m\u001b[0;34m\u001b[0m\u001b[0m\n\u001b[0;32m---> 68\u001b[0;31m         \u001b[0mDOMWidget\u001b[0m\u001b[0;34m.\u001b[0m\u001b[0m__init__\u001b[0m\u001b[0;34m(\u001b[0m\u001b[0mself\u001b[0m\u001b[0;34m,\u001b[0m \u001b[0;34m*\u001b[0m\u001b[0margs\u001b[0m\u001b[0;34m,\u001b[0m \u001b[0;34m**\u001b[0m\u001b[0mkwargs\u001b[0m\u001b[0;34m)\u001b[0m\u001b[0;34m\u001b[0m\u001b[0m\n\u001b[0m\u001b[1;32m     69\u001b[0m         \u001b[0mself\u001b[0m\u001b[0;34m.\u001b[0m\u001b[0m_value_in_options\u001b[0m\u001b[0;34m(\u001b[0m\u001b[0;34m)\u001b[0m\u001b[0;34m\u001b[0m\u001b[0m\n\u001b[1;32m     70\u001b[0m \u001b[0;34m\u001b[0m\u001b[0m\n",
      "\u001b[0;32m/opt/local/Library/Frameworks/Python.framework/Versions/2.7/lib/python2.7/site-packages/IPython/html/widgets/widget.pyc\u001b[0m in \u001b[0;36m__init__\u001b[0;34m(self, *pargs, **kwargs)\u001b[0m\n\u001b[1;32m    479\u001b[0m \u001b[0;34m\u001b[0m\u001b[0m\n\u001b[1;32m    480\u001b[0m     \u001b[0;32mdef\u001b[0m \u001b[0m__init__\u001b[0m\u001b[0;34m(\u001b[0m\u001b[0mself\u001b[0m\u001b[0;34m,\u001b[0m \u001b[0;34m*\u001b[0m\u001b[0mpargs\u001b[0m\u001b[0;34m,\u001b[0m \u001b[0;34m**\u001b[0m\u001b[0mkwargs\u001b[0m\u001b[0;34m)\u001b[0m\u001b[0;34m:\u001b[0m\u001b[0;34m\u001b[0m\u001b[0m\n\u001b[0;32m--> 481\u001b[0;31m         \u001b[0msuper\u001b[0m\u001b[0;34m(\u001b[0m\u001b[0mDOMWidget\u001b[0m\u001b[0;34m,\u001b[0m \u001b[0mself\u001b[0m\u001b[0;34m)\u001b[0m\u001b[0;34m.\u001b[0m\u001b[0m__init__\u001b[0m\u001b[0;34m(\u001b[0m\u001b[0;34m*\u001b[0m\u001b[0mpargs\u001b[0m\u001b[0;34m,\u001b[0m \u001b[0;34m**\u001b[0m\u001b[0mkwargs\u001b[0m\u001b[0;34m)\u001b[0m\u001b[0;34m\u001b[0m\u001b[0m\n\u001b[0m\u001b[1;32m    482\u001b[0m \u001b[0;34m\u001b[0m\u001b[0m\n\u001b[1;32m    483\u001b[0m         \u001b[0;32mdef\u001b[0m \u001b[0m_validate_border\u001b[0m\u001b[0;34m(\u001b[0m\u001b[0mname\u001b[0m\u001b[0;34m,\u001b[0m \u001b[0mold\u001b[0m\u001b[0;34m,\u001b[0m \u001b[0mnew\u001b[0m\u001b[0;34m)\u001b[0m\u001b[0;34m:\u001b[0m\u001b[0;34m\u001b[0m\u001b[0m\n",
      "\u001b[0;32m/opt/local/Library/Frameworks/Python.framework/Versions/2.7/lib/python2.7/site-packages/IPython/html/widgets/widget.pyc\u001b[0m in \u001b[0;36m__init__\u001b[0;34m(self, **kwargs)\u001b[0m\n\u001b[1;32m    151\u001b[0m         \u001b[0;34m\"\"\"Public constructor\"\"\"\u001b[0m\u001b[0;34m\u001b[0m\u001b[0m\n\u001b[1;32m    152\u001b[0m         \u001b[0mself\u001b[0m\u001b[0;34m.\u001b[0m\u001b[0m_model_id\u001b[0m \u001b[0;34m=\u001b[0m \u001b[0mkwargs\u001b[0m\u001b[0;34m.\u001b[0m\u001b[0mpop\u001b[0m\u001b[0;34m(\u001b[0m\u001b[0;34m'model_id'\u001b[0m\u001b[0;34m,\u001b[0m \u001b[0mNone\u001b[0m\u001b[0;34m)\u001b[0m\u001b[0;34m\u001b[0m\u001b[0m\n\u001b[0;32m--> 153\u001b[0;31m         \u001b[0msuper\u001b[0m\u001b[0;34m(\u001b[0m\u001b[0mWidget\u001b[0m\u001b[0;34m,\u001b[0m \u001b[0mself\u001b[0m\u001b[0;34m)\u001b[0m\u001b[0;34m.\u001b[0m\u001b[0m__init__\u001b[0m\u001b[0;34m(\u001b[0m\u001b[0;34m**\u001b[0m\u001b[0mkwargs\u001b[0m\u001b[0;34m)\u001b[0m\u001b[0;34m\u001b[0m\u001b[0m\n\u001b[0m\u001b[1;32m    154\u001b[0m \u001b[0;34m\u001b[0m\u001b[0m\n\u001b[1;32m    155\u001b[0m         \u001b[0mWidget\u001b[0m\u001b[0;34m.\u001b[0m\u001b[0m_call_widget_constructed\u001b[0m\u001b[0;34m(\u001b[0m\u001b[0mself\u001b[0m\u001b[0;34m)\u001b[0m\u001b[0;34m\u001b[0m\u001b[0m\n",
      "\u001b[0;32m/opt/local/Library/Frameworks/Python.framework/Versions/2.7/lib/python2.7/site-packages/IPython/config/configurable.pyc\u001b[0m in \u001b[0;36m__init__\u001b[0;34m(self, **kwargs)\u001b[0m\n\u001b[1;32m     84\u001b[0m         \u001b[0;31m# This should go second so individual keyword arguments override\u001b[0m\u001b[0;34m\u001b[0m\u001b[0;34m\u001b[0m\u001b[0m\n\u001b[1;32m     85\u001b[0m         \u001b[0;31m# the values in config.\u001b[0m\u001b[0;34m\u001b[0m\u001b[0;34m\u001b[0m\u001b[0m\n\u001b[0;32m---> 86\u001b[0;31m         \u001b[0msuper\u001b[0m\u001b[0;34m(\u001b[0m\u001b[0mConfigurable\u001b[0m\u001b[0;34m,\u001b[0m \u001b[0mself\u001b[0m\u001b[0;34m)\u001b[0m\u001b[0;34m.\u001b[0m\u001b[0m__init__\u001b[0m\u001b[0;34m(\u001b[0m\u001b[0;34m**\u001b[0m\u001b[0mkwargs\u001b[0m\u001b[0;34m)\u001b[0m\u001b[0;34m\u001b[0m\u001b[0m\n\u001b[0m\u001b[1;32m     87\u001b[0m \u001b[0;34m\u001b[0m\u001b[0m\n\u001b[1;32m     88\u001b[0m     \u001b[0;31m#-------------------------------------------------------------------------\u001b[0m\u001b[0;34m\u001b[0m\u001b[0;34m\u001b[0m\u001b[0m\n",
      "\u001b[0;32m/opt/local/Library/Frameworks/Python.framework/Versions/2.7/lib/python2.7/site-packages/IPython/utils/traitlets.pyc\u001b[0m in \u001b[0;36m__init__\u001b[0;34m(self, *args, **kw)\u001b[0m\n\u001b[1;32m    563\u001b[0m         \u001b[0;31m# notifications.\u001b[0m\u001b[0;34m\u001b[0m\u001b[0;34m\u001b[0m\u001b[0m\n\u001b[1;32m    564\u001b[0m         \u001b[0;32mfor\u001b[0m \u001b[0mkey\u001b[0m\u001b[0;34m,\u001b[0m \u001b[0mvalue\u001b[0m \u001b[0;32min\u001b[0m \u001b[0miteritems\u001b[0m\u001b[0;34m(\u001b[0m\u001b[0mkw\u001b[0m\u001b[0;34m)\u001b[0m\u001b[0;34m:\u001b[0m\u001b[0;34m\u001b[0m\u001b[0m\n\u001b[0;32m--> 565\u001b[0;31m             \u001b[0msetattr\u001b[0m\u001b[0;34m(\u001b[0m\u001b[0mself\u001b[0m\u001b[0;34m,\u001b[0m \u001b[0mkey\u001b[0m\u001b[0;34m,\u001b[0m \u001b[0mvalue\u001b[0m\u001b[0;34m)\u001b[0m\u001b[0;34m\u001b[0m\u001b[0m\n\u001b[0m\u001b[1;32m    566\u001b[0m \u001b[0;34m\u001b[0m\u001b[0m\n\u001b[1;32m    567\u001b[0m     \u001b[0;32mdef\u001b[0m \u001b[0m_notify_trait\u001b[0m\u001b[0;34m(\u001b[0m\u001b[0mself\u001b[0m\u001b[0;34m,\u001b[0m \u001b[0mname\u001b[0m\u001b[0;34m,\u001b[0m \u001b[0mold_value\u001b[0m\u001b[0;34m,\u001b[0m \u001b[0mnew_value\u001b[0m\u001b[0;34m)\u001b[0m\u001b[0;34m:\u001b[0m\u001b[0;34m\u001b[0m\u001b[0m\n",
      "\u001b[0;32m/opt/local/Library/Frameworks/Python.framework/Versions/2.7/lib/python2.7/site-packages/IPython/utils/traitlets.pyc\u001b[0m in \u001b[0;36m__set__\u001b[0;34m(self, obj, value)\u001b[0m\n\u001b[1;32m    443\u001b[0m             \u001b[0;31m# we explicitly compare silent to True just in case the equality\u001b[0m\u001b[0;34m\u001b[0m\u001b[0;34m\u001b[0m\u001b[0m\n\u001b[1;32m    444\u001b[0m             \u001b[0;31m# comparison above returns something other than True/False\u001b[0m\u001b[0;34m\u001b[0m\u001b[0;34m\u001b[0m\u001b[0m\n\u001b[0;32m--> 445\u001b[0;31m             \u001b[0mobj\u001b[0m\u001b[0;34m.\u001b[0m\u001b[0m_notify_trait\u001b[0m\u001b[0;34m(\u001b[0m\u001b[0mself\u001b[0m\u001b[0;34m.\u001b[0m\u001b[0mname\u001b[0m\u001b[0;34m,\u001b[0m \u001b[0mold_value\u001b[0m\u001b[0;34m,\u001b[0m \u001b[0mnew_value\u001b[0m\u001b[0;34m)\u001b[0m\u001b[0;34m\u001b[0m\u001b[0m\n\u001b[0m\u001b[1;32m    446\u001b[0m \u001b[0;34m\u001b[0m\u001b[0m\n\u001b[1;32m    447\u001b[0m     \u001b[0;32mdef\u001b[0m \u001b[0m_validate\u001b[0m\u001b[0;34m(\u001b[0m\u001b[0mself\u001b[0m\u001b[0;34m,\u001b[0m \u001b[0mobj\u001b[0m\u001b[0;34m,\u001b[0m \u001b[0mvalue\u001b[0m\u001b[0;34m)\u001b[0m\u001b[0;34m:\u001b[0m\u001b[0;34m\u001b[0m\u001b[0m\n",
      "\u001b[0;32m/opt/local/Library/Frameworks/Python.framework/Versions/2.7/lib/python2.7/site-packages/IPython/html/widgets/widget.pyc\u001b[0m in \u001b[0;36m_notify_trait\u001b[0;34m(self, name, old_value, new_value)\u001b[0m\n\u001b[1;32m    371\u001b[0m         \u001b[0;31m# registered validation to be processed prior to allowing the widget\u001b[0m\u001b[0;34m\u001b[0m\u001b[0;34m\u001b[0m\u001b[0m\n\u001b[1;32m    372\u001b[0m         \u001b[0;31m# machinery to handle the state.\u001b[0m\u001b[0;34m\u001b[0m\u001b[0;34m\u001b[0m\u001b[0m\n\u001b[0;32m--> 373\u001b[0;31m         \u001b[0mLoggingConfigurable\u001b[0m\u001b[0;34m.\u001b[0m\u001b[0m_notify_trait\u001b[0m\u001b[0;34m(\u001b[0m\u001b[0mself\u001b[0m\u001b[0;34m,\u001b[0m \u001b[0mname\u001b[0m\u001b[0;34m,\u001b[0m \u001b[0mold_value\u001b[0m\u001b[0;34m,\u001b[0m \u001b[0mnew_value\u001b[0m\u001b[0;34m)\u001b[0m\u001b[0;34m\u001b[0m\u001b[0m\n\u001b[0m\u001b[1;32m    374\u001b[0m \u001b[0;34m\u001b[0m\u001b[0m\n\u001b[1;32m    375\u001b[0m         \u001b[0;31m# Send the state after the user registered callbacks for trait changes\u001b[0m\u001b[0;34m\u001b[0m\u001b[0;34m\u001b[0m\u001b[0m\n",
      "\u001b[0;32m/opt/local/Library/Frameworks/Python.framework/Versions/2.7/lib/python2.7/site-packages/IPython/utils/traitlets.pyc\u001b[0m in \u001b[0;36m_notify_trait\u001b[0;34m(self, name, old_value, new_value)\u001b[0m\n\u001b[1;32m    600\u001b[0m                     \u001b[0mc\u001b[0m\u001b[0;34m(\u001b[0m\u001b[0mname\u001b[0m\u001b[0;34m,\u001b[0m \u001b[0mnew_value\u001b[0m\u001b[0;34m)\u001b[0m\u001b[0;34m\u001b[0m\u001b[0m\n\u001b[1;32m    601\u001b[0m                 \u001b[0;32melif\u001b[0m \u001b[0mnargs\u001b[0m \u001b[0;34m+\u001b[0m \u001b[0moffset\u001b[0m \u001b[0;34m==\u001b[0m \u001b[0;36m3\u001b[0m\u001b[0;34m:\u001b[0m\u001b[0;34m\u001b[0m\u001b[0m\n\u001b[0;32m--> 602\u001b[0;31m                     \u001b[0mc\u001b[0m\u001b[0;34m(\u001b[0m\u001b[0mname\u001b[0m\u001b[0;34m,\u001b[0m \u001b[0mold_value\u001b[0m\u001b[0;34m,\u001b[0m \u001b[0mnew_value\u001b[0m\u001b[0;34m)\u001b[0m\u001b[0;34m\u001b[0m\u001b[0m\n\u001b[0m\u001b[1;32m    603\u001b[0m                 \u001b[0;32melse\u001b[0m\u001b[0;34m:\u001b[0m\u001b[0;34m\u001b[0m\u001b[0m\n\u001b[1;32m    604\u001b[0m                     raise TraitError('a trait changed callback '\n",
      "\u001b[0;32m/opt/local/Library/Frameworks/Python.framework/Versions/2.7/lib/python2.7/site-packages/IPython/html/widgets/widget_selection.pyc\u001b[0m in \u001b[0;36m_value_changed\u001b[0;34m(self, name, old, new)\u001b[0m\n\u001b[1;32m    126\u001b[0m                 \u001b[0;31m# undo the change, and raise KeyError\u001b[0m\u001b[0;34m\u001b[0m\u001b[0;34m\u001b[0m\u001b[0m\n\u001b[1;32m    127\u001b[0m                 \u001b[0mself\u001b[0m\u001b[0;34m.\u001b[0m\u001b[0mvalue\u001b[0m \u001b[0;34m=\u001b[0m \u001b[0mold\u001b[0m\u001b[0;34m\u001b[0m\u001b[0m\n\u001b[0;32m--> 128\u001b[0;31m                 \u001b[0;32mraise\u001b[0m \u001b[0mKeyError\u001b[0m\u001b[0;34m(\u001b[0m\u001b[0mnew\u001b[0m\u001b[0;34m)\u001b[0m\u001b[0;34m\u001b[0m\u001b[0m\n\u001b[0m\u001b[1;32m    129\u001b[0m             \u001b[0;32mfinally\u001b[0m\u001b[0;34m:\u001b[0m\u001b[0;34m\u001b[0m\u001b[0m\n\u001b[1;32m    130\u001b[0m                 \u001b[0mself\u001b[0m\u001b[0;34m.\u001b[0m\u001b[0mvalue_lock\u001b[0m\u001b[0;34m.\u001b[0m\u001b[0mrelease\u001b[0m\u001b[0;34m(\u001b[0m\u001b[0;34m)\u001b[0m\u001b[0;34m\u001b[0m\u001b[0m\n",
      "\u001b[0;31mKeyError\u001b[0m: 'uniform'"
     ]
    }
   ],
   "source": [
    "x = linspace(-10,10,500)   # Vi laver 500 x-værdier, som bruges til at tegne regressionslinjen.\n",
    "plot_interaktiv_kNN(x)"
   ]
  },
  {
   "cell_type": "markdown",
   "metadata": {},
   "source": [
    "### Opgave 1.1"
   ]
  },
  {
   "cell_type": "markdown",
   "metadata": {},
   "source": [
    "*a)* Hvad sker der, når $k$ er lille? Hvad når $k$ er stor? Giver denne opførsel mening?\n",
    "\n",
    "*b)* Hvilke værdier af $k$ tilpasser for lidt til data? Hvilke tilpasser for meget?"
   ]
  },
  {
   "cell_type": "markdown",
   "metadata": {},
   "source": [
    "### Opgave 1.2"
   ]
  },
  {
   "cell_type": "markdown",
   "metadata": {},
   "source": [
    "Du kan også prøve at ændre den metode, gennemsnittet af naboerne beregnes med. \"`uniform`\" vil bruge et helt almindeligt gennemsnit, mens \"`distance`\" vil vægte gennemsnittet med afstanden til punkterne. \n",
    "\n",
    "*a)* Giver grafen stadig mening, når du ændrer metoden, gennemsnittet beregnes med?\n",
    "\n",
    "*b)* Kan du nævne nogle fordele og ulemper ved de to metoder til at beregne gennemsnittet på? Hvilken metode, synes du, virker som den mest \"rigtige\"?"
   ]
  },
  {
   "cell_type": "markdown",
   "metadata": {},
   "source": [
    "### Opgave 1.3"
   ]
  },
  {
   "cell_type": "markdown",
   "metadata": {},
   "source": [
    "*a)* Nævn nogle fordele ved $k$-NN over \"normale\" tendenslinjer.\n",
    "\n",
    "*b)* Nævn tilsvarende nogle ulemper ved at bruge $k$-NN i forhold til tendenslinjer."
   ]
  },
  {
   "cell_type": "markdown",
   "metadata": {},
   "source": [
    "# Opgave 2"
   ]
  },
  {
   "cell_type": "markdown",
   "metadata": {},
   "source": [
    "Vi kigger nu på en anden type af opgaver, der betegnes *klassifikation*. Dette er en type af opgaver, som ikke kan løses ved brug af tendenslinjer. I klassifikation har man data, hvor alle datapunkterne tilhører en bestemt klasse eller kategori - f.eks. kunne man have en række målinger af patienter samt en indikation af, om en given patient har kræft eller ej. I eksemplet har man derfor to klasser: kræft/ikke kræft, rask/syg eller hvad man nu vil kalde dem.\n",
    "\n",
    "Med klassifikationsmetoder kan man benytte tidligere data til at forudsige klassen for et nyt datapunkt. Vi er så heldige, at $k$-NN også kan bruges til klassifikation, så det vil vi kigge lidt nærmere på herunder.\n",
    "\n",
    "Først genererer vi nogle data og visualiserer dem. Det resulterende plot vil vise datapunkterne i forskellige farver afhængig af deres klasse."
   ]
  },
  {
   "cell_type": "code",
   "execution_count": null,
   "metadata": {
    "collapsed": false
   },
   "outputs": [],
   "source": [
    "# Generer data. X vil være datapunkterne (dem, vi normal skriver (x,y)),\n",
    "# mens y vil være klassen.\n",
    "X, y = make_classification(n_samples=300, n_classes=3, n_features=2, \n",
    "                           n_redundant=0, n_clusters_per_class=1, \n",
    "                           random_state=57)\n",
    "\n",
    "scatter(X[:,0], X[:,1], s=25, c=cm.Set2(y/7), edgecolor=cm.gray(.95), lw=0.5)"
   ]
  },
  {
   "cell_type": "markdown",
   "metadata": {},
   "source": [
    "Vi kan nu prøve at bruge $k$-NN til at lave klassifikation af dette datasæt. Ved at køre nedenstående kodeblok vil du få en interaktiv graf, hvor du igen kan justere antallet af naboer ($k$) og metoden, der bruges til at beregne afstande. Prøv nogle forskellige værdier af $k$ og se, hvordan det påvirker datarummet. Baggrundsfarven vil angive, hvilken klasse område tilhører."
   ]
  },
  {
   "cell_type": "code",
   "execution_count": null,
   "metadata": {
    "collapsed": false
   },
   "outputs": [],
   "source": [
    "plot_interaktiv_kNN_klassifikation(X,y)"
   ]
  },
  {
   "cell_type": "markdown",
   "metadata": {},
   "source": [
    "### Opgave 2.1"
   ]
  },
  {
   "cell_type": "markdown",
   "metadata": {},
   "source": [
    "Den bedste værdi af $k$ vil være den, der laver færrest misklassifikationer (en misklassifikation er et datapunkt, der har en anden farve end baggrunden). \n",
    "Hvilken værdi af $k$, mener du, vil give færrest misklassifikationer?"
   ]
  },
  {
   "cell_type": "markdown",
   "metadata": {},
   "source": [
    "Den bedste værdi af $k$ kan bestemmes lidt mere objektivt ved at bruge cross-validation (CV). Dette er gjort herunder. Idéen er at vi tester en lang række af værdier for $k$ og bruger CV til at tjekke, hvor godt værdierne fungerer. I CV-delen deler vi datasættet op i fem lige store dele, bruger fire til at træne og tester på den sidste del. Til sidst gemmes fejlraten (dvs. hvor mange procent af test-datapunkterne, der blev misklassificeret).\n",
    "\n",
    "Koden herunder definerer en funktion (ikke en funktion i matematisk forstand), som kan gøre det hele for os. Det er ikke nødvendigt at lave en funktion - vi kunne sagtens bare have skrevet koden for sig selv - men på denne måde kan vi enormt let genbruge koden med et nyt datasæt og en ny række af $k$-værdier."
   ]
  },
  {
   "cell_type": "code",
   "execution_count": null,
   "metadata": {
    "collapsed": false
   },
   "outputs": [],
   "source": [
    "def kNNCV(X, y, k_liste):\n",
    "    \"\"\"\n",
    "    Denne funktion laver en 5-fold CV af k-NN. Input er data (X) og \n",
    "    klasser (y), samt listen af k-værdier, der ønskes testet.\n",
    "    \n",
    "    Funktionen returnerer den gennemsnitlige fejlrate for hvert k og \n",
    "    usikkerheden på gennemsnittet.\n",
    "    \"\"\"\n",
    "\n",
    "    # To lister til at gemme de gennemsnitlige fejlrater og \n",
    "    # usikkerheden på gennemsnittene oprettes.\n",
    "    fejl = []\n",
    "    usikkerhed = []\n",
    "\n",
    "    for k in k_liste:\n",
    "\n",
    "        # Vi laver en 5 fold cross-validation.\n",
    "        cv = StratifiedKFold(y, n_folds=5)\n",
    "\n",
    "        # En liste til at gemme de fem fejlrater laves:\n",
    "        cv_fejl = []\n",
    "\n",
    "        for train_index, test_index in cv:\n",
    "            # Vi opretter og træner k-NN med det valgte k:\n",
    "            knn = KNeighborsClassifier(k, weights=\"uniform\")\n",
    "            knn.fit(X[train_index], y[train_index])\n",
    "\n",
    "            # Vi tester k-NN på testsættet:\n",
    "            pred = knn.predict(X[test_index])\n",
    "\n",
    "            # Fejlraten for hver fold gemmes.\n",
    "            cv_fejl.append(sum(pred != y[test_index])/len(test_index)*100)\n",
    "\n",
    "        # Den gennemsnitlige fejlrate over alle fold og usikkerheden \n",
    "        # (spredningen) på denne beregnes og gemmes:\n",
    "        fejl.append(mean(cv_fejl))\n",
    "        usikkerhed.append(std(cv_fejl)/sqrt(5))\n",
    "        \n",
    "    return fejl, usikkerhed   "
   ]
  },
  {
   "cell_type": "markdown",
   "metadata": {},
   "source": [
    "Vi kan nu bruges vores nye funktion til let at teste en lang række $k$-værdier. Lad os teste alle $k$ i intervallet $[1,50[$:"
   ]
  },
  {
   "cell_type": "code",
   "execution_count": null,
   "metadata": {
    "collapsed": false
   },
   "outputs": [],
   "source": [
    "k_liste = arange(1,50)\n",
    "\n",
    "fejl, usikkerhed = kNNCV(X, y, k_liste)"
   ]
  },
  {
   "cell_type": "markdown",
   "metadata": {},
   "source": [
    "Vi kan nu udskrive fejlraterne og prøve at finde den mindste:"
   ]
  },
  {
   "cell_type": "code",
   "execution_count": null,
   "metadata": {
    "collapsed": false
   },
   "outputs": [],
   "source": [
    "print(fejl)"
   ]
  },
  {
   "cell_type": "markdown",
   "metadata": {},
   "source": [
    "Det blev vi jo ikke så meget klogere af... I stedet for at kigge på tallene, som er meget uoverskuelige, kunne vi prøve at visualisere fejlraterne. Det kunne sagtens tænkes, at vi ville gøre dette flere gange, så lad os igen lave en funktion, som vi kan genbruge:"
   ]
  },
  {
   "cell_type": "code",
   "execution_count": null,
   "metadata": {
    "collapsed": false
   },
   "outputs": [],
   "source": [
    "def plot_fejl(fejl, usikkerhed, k_liste):\n",
    "\n",
    "    # Plot fejl med usikkerheder:\n",
    "    errorbar(k_liste, fejl, usikkerhed, fmt=\"o\", markeredgecolor=cseq[0], capsize=0)\n",
    "\n",
    "    # Ovenstående linje er i princippet alt, hvad vi behøver, men lad os også\n",
    "    # få markeret de bedste værdier med en pil - bare fordi vi kan!\n",
    "    # Først bestemmer vi de(t) bedste k:\n",
    "    bedste_k = k_liste[argwhere(fejl == min(fejl))]\n",
    "\n",
    "    # Hvis der kun er en enkelt god værdi ('bedste_k' er et heltal), laver vi\n",
    "    # en enkelt pil. Hvis ikke, er 'bedste_k' en liste af værdier, der er lige \n",
    "    # gode, så vi laver en pil for hver.\n",
    "    if type(bedste_k) == int:\n",
    "        arrow(bedste_k, fejl[bedste_k-1] + 0.1, 0, -.04, width=.1, \n",
    "        head_width=.9, head_length=.015, overhang=.2, color=cseq[1])\n",
    "        \n",
    "    else:\n",
    "        for k in bedste_k:\n",
    "            arrow(k, fejl[k-1] + 3, 0, -1, width=.1, \n",
    "                  head_width=.5, head_length=.8, overhang=.2, color=cseq[1])\n",
    "            \n",
    "    # y-aksens udstrækning:\n",
    "    ylim(0,30)\n",
    "\n",
    "    # \"Enheder\" på akserne:\n",
    "    xlabel(\"$k$\")\n",
    "    ylabel(\"Fejl (procent)\")"
   ]
  },
  {
   "cell_type": "markdown",
   "metadata": {},
   "source": [
    "Vi kan nu bruge vores funktion til at lave et plot af alle fejlraterne:"
   ]
  },
  {
   "cell_type": "code",
   "execution_count": null,
   "metadata": {
    "collapsed": false
   },
   "outputs": [],
   "source": [
    "plot_fejl(fejl, usikkerhed, k_liste)"
   ]
  },
  {
   "cell_type": "markdown",
   "metadata": {},
   "source": [
    "### Opgave 2.2"
   ]
  },
  {
   "cell_type": "markdown",
   "metadata": {},
   "source": [
    "*a)* Hvilke værdier af $k$ ser generelt ud til at være de bedste? Små eller store værdier?\n",
    "\n",
    "*b)* Kan du overbevise dig selv om, hvorfor disse værdier er de bedste? (Du kan evt. gå tilbage til det interaktive plot og prøve forskellige værdier igen)."
   ]
  },
  {
   "cell_type": "markdown",
   "metadata": {},
   "source": [
    "# Opgave 3"
   ]
  },
  {
   "cell_type": "markdown",
   "metadata": {},
   "source": [
    "Lad os gentage ovenstående eksempel, bare med et nyt datasæt. Datasættet er igen syntetisk, så vi starter med at generere og visualisere det:"
   ]
  },
  {
   "cell_type": "code",
   "execution_count": null,
   "metadata": {
    "collapsed": false
   },
   "outputs": [],
   "source": [
    "X, y = make_moons(n_samples=300, noise=.15, random_state=11)\n",
    "\n",
    "scatter(X[:,0], X[:,1], s=25, c=cm.Set2(y/7), edgecolor=cm.gray(.95), lw=0.5)"
   ]
  },
  {
   "cell_type": "markdown",
   "metadata": {},
   "source": [
    "Lad os se, hvordan k-NN klarer sig på dette datasæt. Prøv at teste nogle forskellige værdier for $k$ herunder."
   ]
  },
  {
   "cell_type": "code",
   "execution_count": null,
   "metadata": {
    "collapsed": false
   },
   "outputs": [],
   "source": [
    "plot_interaktiv_kNN_klassifikation(X,y)"
   ]
  },
  {
   "cell_type": "markdown",
   "metadata": {},
   "source": [
    "### Opgave 3.1"
   ]
  },
  {
   "cell_type": "markdown",
   "metadata": {},
   "source": [
    "Hvilke værdier af $k$, mener du, giver færrest misklassifikationer?"
   ]
  },
  {
   "cell_type": "markdown",
   "metadata": {},
   "source": [
    "Lad os igen prøve at bruge CV og se, hvilke værdier af $k$, der er de bedste. Fordi vi før lavede funktioner til både at lave CV og visualisere fejlraterne, kan vi gøre begge dele med kun to linjer kode - smart, ikke? :)"
   ]
  },
  {
   "cell_type": "code",
   "execution_count": null,
   "metadata": {
    "collapsed": false
   },
   "outputs": [],
   "source": [
    "fejl, usikkerhed = kNNCV(X, y, k_liste)\n",
    "plot_fejl(fejl, usikkerhed, k_liste)"
   ]
  },
  {
   "cell_type": "markdown",
   "metadata": {},
   "source": [
    "### Opgave 3.2"
   ]
  },
  {
   "cell_type": "markdown",
   "metadata": {},
   "source": [
    "*a)* Hvilke værdier af $k$ ser generelt ud til at være de bedste? Små eller store værdier?\n",
    "\n",
    "*b)* Kan du overbevise dig selv om, hvorfor disse værdier er de bedste?"
   ]
  },
  {
   "cell_type": "markdown",
   "metadata": {},
   "source": [
    "Når du sammenligner de bedste værdier for $k$ i opgave 2 med dem i opgave 3, vil du se, at de er grundlæggende forskellige: I opgave 2 var høje værdier af $k$ generelt bedst, mens de små værdier var bedre i opgave 3. Man kan derfor ikke lave tommelfingerregler om, hvilke værdier for $k$, der virker bedst. Det kommer helt an på datasættet, og netop af denne grund er det vigtigt, at man altid tester en masse værdier med CV."
   ]
  }
 ],
 "metadata": {
  "kernelspec": {
   "display_name": "Python 2",
   "language": "python",
   "name": "python2"
  },
  "language_info": {
   "codemirror_mode": {
    "name": "ipython",
    "version": 2
   },
   "file_extension": ".py",
   "mimetype": "text/x-python",
   "name": "python",
   "nbconvert_exporter": "python",
   "pygments_lexer": "ipython2",
   "version": "2.7.9"
  }
 },
 "nbformat": 4,
 "nbformat_minor": 0
}
