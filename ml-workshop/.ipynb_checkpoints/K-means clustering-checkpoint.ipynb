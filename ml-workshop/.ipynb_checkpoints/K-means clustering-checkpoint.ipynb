{
 "metadata": {
  "name": "",
  "signature": "sha256:23609b6b5e8ee2ccd95e01ff946afa2c7f14cf4e144f2380b5cb29fc938e422e"
 },
 "nbformat": 3,
 "nbformat_minor": 0,
 "worksheets": [
  {
   "cells": [
    {
     "cell_type": "code",
     "collapsed": false,
     "input": [
      "%pylab inline\n",
      "from ekstra_funktioner import *\n",
      "\n",
      "from sklearn.datasets import make_blobs, make_moons\n",
      "\n",
      "# F\u00f8lgende s\u00e6tter st\u00f8rrelsen af figurene (i tommer).\n",
      "# Du kan pr\u00f8ve at \u00e6ndre st\u00f8rrelsen, hvis figurene er for sm\u00e5 eller for store.\n",
      "pylab.rcParams['figure.figsize'] = (10.0, 6.0)"
     ],
     "language": "python",
     "metadata": {},
     "outputs": []
    },
    {
     "cell_type": "heading",
     "level": 1,
     "metadata": {},
     "source": [
      "$K$-means clustering"
     ]
    },
    {
     "cell_type": "markdown",
     "metadata": {},
     "source": [
      "Der er andre m\u00e5der, man kan beskrive sine data p\u00e5, end blot ved at fitte end funktion til dem. Nogle gange vil man f.eks. gerne finde grupperinger eller klynger af data.\n",
      "\n",
      "*$K$-means clustering* er en machine learning-metode, der netop pr\u00f8ver at finde klynger af datapunkter. Metoden er ret simpel, men virker ofte overraskende godt - faktisk er det ofte den metode, der bliver brugt, n\u00e5r f.eks. store virksomheder vil finde bestemte typer af kunder. Desv\u00e6rre er metoden ikke intelligent nok til at selv at finde det \"rigtige\" antal klynger, s\u00e5 det m\u00e5 man hj\u00e6lpe den med selv. N\u00e5r det er gjort, finder metoden til geng\u00e6ld klyngerne alene.\n"
     ]
    },
    {
     "cell_type": "heading",
     "level": 1,
     "metadata": {},
     "source": [
      "Opgave 1"
     ]
    },
    {
     "cell_type": "markdown",
     "metadata": {},
     "source": [
      "Vi starter med at pr\u00f8ve at forst\u00e5, hvordan $K$-means clustering fungerer. Vi vil her bruge et kunstigt lavet datas\u00e6t:"
     ]
    },
    {
     "cell_type": "code",
     "collapsed": false,
     "input": [
      "# Generer data:\n",
      "X, y = make_blobs(n_samples=100, cluster_std=3, random_state=42)\n",
      "\n",
      "#Plot data:\n",
      "scatter(X[:,0], X[:,1], s=25, c='gray', edgecolor=cm.gray(.95), lw=0.5)"
     ],
     "language": "python",
     "metadata": {},
     "outputs": []
    },
    {
     "cell_type": "markdown",
     "metadata": {},
     "source": [
      "Funktionen herunder fors\u00f8ger at illustrere, hvordan $K$-means-algoritmen finder frem til klyngecentrene. F\u00f8rste argument til funktionen er datas\u00e6ttet, mens andet argument er antallet af klynger, man vil finde. N\u00e5r du k\u00f8rer funktionen, vil du f\u00e5 mulighed for at g\u00e5 frem og tilbage i iterationsprocessen og se, hvordan klyngerne langsomt finder sig til rette.\n",
      "\n",
      "Du kan k\u00f8re funktionen flere gange - hver gang vil klyngecentrene starte et nyt sted. Du kan ogs\u00e5 pr\u00f8ve at lave et nyt datas\u00e6t ved at \u00e6ndre variablen `random_state` i forrige kodeblok (eller helt fjerne den)."
     ]
    },
    {
     "cell_type": "code",
     "collapsed": false,
     "input": [
      "plot_interaktiv_Kmeans(X, klynger=3)"
     ],
     "language": "python",
     "metadata": {},
     "outputs": []
    },
    {
     "cell_type": "heading",
     "level": 3,
     "metadata": {},
     "source": [
      "Opgave 1.1"
     ]
    },
    {
     "cell_type": "markdown",
     "metadata": {},
     "source": [
      "Leg med funktionen ovenfor indtil du har en god forst\u00e5else for, hvordan $K$-means clustering fungerer."
     ]
    },
    {
     "cell_type": "heading",
     "level": 1,
     "metadata": {},
     "source": [
      "Opgave 2"
     ]
    },
    {
     "cell_type": "markdown",
     "metadata": {},
     "source": [
      "Vi vil nu kigge p\u00e5 et rigtigt dataset. Datas\u00e6ttet best\u00e5r af masserne og baneradierne for alle kendte exoplaneter (dvs. planeter om andre stjerner end Solen), hvor disse v\u00e6rdier er kendt."
     ]
    },
    {
     "cell_type": "markdown",
     "metadata": {},
     "source": [
      "Lad os f\u00f8rst indl\u00e6se dataene og visualisere dem, s\u00e5 vi f\u00e5r et overblik. Hvert punkt i plottet svarer til en exoplanet."
     ]
    },
    {
     "cell_type": "code",
     "collapsed": false,
     "input": [
      "# Dataene indl\u00e6ses:\n",
      "planeter = pd.DataFrame.from_csv(\"data/exoplaneter.csv\")\n",
      "\n",
      "# Dataene plottes:\n",
      "subplots()    # Figuren ops\u00e6ttes\n",
      "\n",
      "xscale(\"log\") # x-aksen s\u00e6ttes til logaritmisk visning\n",
      "yscale(\"log\") # y-aksen s\u00e6ttes til logaritmisk visning\n",
      "\n",
      "scatter(planeter['semimajoraxis'],planeter['mass'], s=25, c='gray', edgecolor=cm.gray(.95), lw=0.5)\n",
      "\n",
      "# Husk altid enheder p\u00e5 akserne! :)\n",
      "xlabel(\"Baneradius (AU)\")\n",
      "ylabel(r\"Masse ($M_{\\mathrm{Jupiter}}$)\")"
     ],
     "language": "python",
     "metadata": {},
     "outputs": []
    },
    {
     "cell_type": "heading",
     "level": 3,
     "metadata": {},
     "source": [
      "Opgave 2.1"
     ]
    },
    {
     "cell_type": "markdown",
     "metadata": {},
     "source": [
      "*a)* Der ses nogle tydelige klynger i plottet ovenfor. Hvor mange mener du, der er?\n",
      "\n",
      "*b)* Hvad tror du \u00e5rsagen til disse klynger kan v\u00e6re? (Hint: overvej evt. hvad akserne viser.)"
     ]
    },
    {
     "cell_type": "markdown",
     "metadata": {},
     "source": [
      "Angiv hvor mange klynger, du mener der er, herunder:"
     ]
    },
    {
     "cell_type": "code",
     "collapsed": false,
     "input": [
      "antal_klynger = "
     ],
     "language": "python",
     "metadata": {},
     "outputs": []
    },
    {
     "cell_type": "markdown",
     "metadata": {},
     "source": [
      "Lad os pr\u00f8ve at lave $K$-means clustering og se, hvad resultatet bliver:"
     ]
    },
    {
     "cell_type": "code",
     "collapsed": false,
     "input": [
      "kmeans = KMeans(n_clusters = antal_klynger)\n",
      "kmeans.fit(np.log10(planeter[[\"semimajoraxis\",\"mass\"]])) # Vi tager logaritmen af datav\u00e6rdierne \n",
      "                                                         # for at hj\u00e6lpe algoritmen med at finde\n",
      "                                                         # brugbare v\u00e6rdier. \n",
      "centre = 10**(kmeans.cluster_centers_)  # Her gemmes klyngecentrene.\n",
      "klynger = kmeans.labels_                # Her gemmes informationen om, hvilken klynge de enkelte datapunkter tilh\u00f8rer."
     ],
     "language": "python",
     "metadata": {},
     "outputs": []
    },
    {
     "cell_type": "markdown",
     "metadata": {},
     "source": [
      "$K$-means-algoritmen har nu fundet klyngecentrene. Vi kan visualisere resultatet ved at farve datapunkterne efter hvilken klynge, de tilh\u00f8rer. Dette er gjort herunder. De r\u00f8de krydser angiver klyngecentrene."
     ]
    },
    {
     "cell_type": "code",
     "collapsed": false,
     "input": [
      "subplots()    # Figuren ops\u00e6ttes\n",
      "\n",
      "xscale('log')\n",
      "yscale('log')\n",
      "\n",
      "# Vi plotter nu klyngerne en ad gangen, s\u00e5 de f\u00e5r forskellige farver.\n",
      "for k in range(antal_klynger):\n",
      "    p = planeter[klynger == k]\n",
      "    sc = scatter(p['semimajoraxis'], p['mass'], \n",
      "                 s=25, label=k,\n",
      "                 c=cm.Set2(k/7), edgecolor=cm.gray(.95), lw=.5, vmin=0, vmax=1)\n",
      "\n",
      "# Klyngecentrene vises. Udkommenter de f\u00f8lgende to linjer, hvis du ikke vil se dem.\n",
      "scatter(centre[:,0], centre[:,1], marker='x', s=50,\n",
      "        linewidths=3, color=plt.cm.Reds(.75), zorder=15)\n",
      "\n",
      "legend(loc='lower right', fontsize=14)\n",
      "\n",
      "xlabel(\"Baneradius (AU)\")\n",
      "ylabel(r\"Masse ($M_{\\mathrm{Jupiter}}$)\")"
     ],
     "language": "python",
     "metadata": {},
     "outputs": []
    },
    {
     "cell_type": "heading",
     "level": 3,
     "metadata": {},
     "source": [
      "Opgave 2.2"
     ]
    },
    {
     "cell_type": "markdown",
     "metadata": {},
     "source": [
      "*a)* Passer klyngerne med dem, du selv havde forestillet dig?\n",
      "\n",
      "Man bruger forskellige metoder til at detektere exoplaneter, f.eks. m\u00e5linger af stjernens bev\u00e6gelse eller \u00e6ndringer i dens lysstyrke, n\u00e5r planeten bev\u00e6ger sig ind foran den.\n",
      "\n",
      "*b)* Hvordan passer denne information med din tidligere tolkning af klyngerne? Vil du \u00e6ndre din tolkning p\u00e5 baggrund af denne nye information?"
     ]
    },
    {
     "cell_type": "markdown",
     "metadata": {},
     "source": [
      "Man kunne forestille sig, at klyngerne indikerer, at planeterne er blevet opdaget med forskellige metoder, og at hver klynge kunne svare til en bestemt metode. Her til sidst kan vi pr\u00f8ve at kigge p\u00e5 hvilke metoder, planeterne rent faktisk blev opdaget med."
     ]
    },
    {
     "cell_type": "code",
     "collapsed": false,
     "input": [
      "subplots()    # Figuren ops\u00e6ttes\n",
      "\n",
      "xscale('log')\n",
      "yscale('log')\n",
      "\n",
      "# Plot datapunkterne med en farve, der svarer til deres opdagelsesmetode:\n",
      "for i,m in enumerate(unique(planeter[\"method\"].values)):\n",
      "    p = planeter[planeter[\"method\"] == m]\n",
      "    sc = scatter(p['semimajoraxis'], p['mass'], \n",
      "                 s=25, label=m,\n",
      "                 c=cm.Set2(i/7), edgecolor=cm.gray(.95), lw=.5, vmin=0, vmax=1)\n",
      "\n",
      "legend(loc='lower right', fontsize=14)\n",
      "\n",
      "xlabel(\"Baneradius (AU)\")\n",
      "ylabel(r\"Masse ($M_{\\mathrm{Jupiter}}$)\")"
     ],
     "language": "python",
     "metadata": {},
     "outputs": []
    },
    {
     "cell_type": "heading",
     "level": 3,
     "metadata": {},
     "source": [
      "Opgave 2.3"
     ]
    },
    {
     "cell_type": "markdown",
     "metadata": {},
     "source": [
      "I ovenst\u00e5ende plot kan vi se, at der planeterne er blevet opdaget med en ud af fem mulige metoder.\n",
      "\n",
      "*a)* Hvordan passer dette med din tidligere tolkning af plottet?\n",
      "\n",
      "*b)* Tror du, at man overhovedet kan f\u00e5 noget fornuftigt ud af at finde klynger i dette datas\u00e6t?"
     ]
    },
    {
     "cell_type": "markdown",
     "metadata": {},
     "source": [
      "Moralen med opgaven kan derfor siges at v\u00e6re, at man skal passe *meget* p\u00e5 med at tolke p\u00e5 resultatet af en algoritme. Det er skr\u00e6mmende let at se ting, som slet ikke er der. :)"
     ]
    },
    {
     "cell_type": "heading",
     "level": 1,
     "metadata": {},
     "source": [
      "Opgave 3"
     ]
    },
    {
     "cell_type": "markdown",
     "metadata": {},
     "source": [
      "Som et sidste, og lidt mere abstrakt, eksempel ser vi p\u00e5 et billede. Et digitalt billede best\u00e5r af pixels, som hver har tre tal-v\u00e6rdier, der indikerer farven af pixlen. De tre v\u00e6rdier g\u00e5r typisk fra 0 til og med 255 og angiver intensiteten af farverne r\u00f8d, gr\u00f8n og bl\u00e5. \n",
      "\n",
      "Man kan derfor t\u00e6nkte p\u00e5 en pixel som et punkt i et tredimensionalt rum, hvor akserne angiver intensiteten af r\u00f8d, gr\u00f8n og bl\u00e5. Punktet vil da have koordinats\u00e6ttet (r\u00f8d, gr\u00f8n, bl\u00e5) eller, hvad man oftere bruger, $(r,g,b)$.\n",
      "\n",
      "Et billede kan derfor repr\u00e6senteres ved en masse punkter i et s\u00e5dant farve-rum. Hvis der er visse farver, der ofte g\u00e5r igen i lidt forskellige nuancer, forventer vi, at disse danner klynger i farverummet."
     ]
    },
    {
     "cell_type": "markdown",
     "metadata": {},
     "source": [
      "Lad os pr\u00f8ve at finde klynger i farverne i f\u00f8lgende billede:"
     ]
    },
    {
     "cell_type": "code",
     "collapsed": false,
     "input": [
      "billede = Billede(\"http://th02.deviantart.net/fs71/PRE/f/2014/264/b/5/after_the_storm_by_joelbelessa-d801fsx.jpg\")\n",
      "\n",
      "# Hvis ovenst\u00e5ende linje ikke virker, kan du pr\u00f8ve nedenst\u00e5ende i stedet.\n",
      "#billede = Billede(\"data/billede.png\")\n",
      "\n",
      "imshow(billede.billede)"
     ],
     "language": "python",
     "metadata": {},
     "outputs": []
    },
    {
     "cell_type": "markdown",
     "metadata": {},
     "source": [
      "Umiddelbart vil vi nok forvente at finde nogle klynger, der representerer gr\u00f8n, bl\u00e5 og gul (som er en blanding af r\u00f8d og gr\u00f8n).\n",
      "\n",
      "Lad os pr\u00f8ve at plotte de enkelte pixels' farver mod hinanden, s\u00e5 vi kan se hvordan farverne ligger fordelt. Da hver pixel best\u00e5r af tre farver (r\u00f8d, gr\u00f8n og bl\u00e5), skal vi bruge et 3D-plot for at kunne vise punkterne. Dog har billedet s\u00e5 mange pixels, at computeren vil f\u00e5 sv\u00e6rt ved at tegne dem, s\u00e5 vi plotter i stedet farvne mod hinanden med intensitetsplots (bem\u00e6rk at farveskalaen er logaritmisk, da man ellers ikke ville kunne se farver, der kun tilh\u00f8rte nogle f\u00e5 pixels).\n",
      "V\u00e6rdierne p\u00e5 akserne angiver hvor \"m\u00e6ttet\", farverne er. 0 betyder at farven slet ikke er der, mens 255 er fuldt m\u00e6ttet. Sort vil v\u00e6re $(r,g,b) = (0,0,0)$, mens hvid vil v\u00e6re $(r,g,b) = (255,255,255)$."
     ]
    },
    {
     "cell_type": "code",
     "collapsed": false,
     "input": [
      "plot_farver(billede)"
     ],
     "language": "python",
     "metadata": {},
     "outputs": []
    },
    {
     "cell_type": "heading",
     "level": 3,
     "metadata": {},
     "source": [
      "Opgave 3.1"
     ]
    },
    {
     "cell_type": "markdown",
     "metadata": {},
     "source": [
      "Hvor mange klynger synes du, du kan se i de tre ovenst\u00e5ende plots?"
     ]
    },
    {
     "cell_type": "markdown",
     "metadata": {},
     "source": [
      "F\u00f8lgende kode vil lave en $K$-means clustering af det tre-dimensionelle farverum (dimensionerne er \"r\u00f8d\", \"gr\u00f8n\" og \"bl\u00e5\") og derefter vise de fundne klyngecentre ved r\u00f8de krydser.\n",
      "\n",
      "Pr\u00f8v at angive nogle forskellige antal klynger og se hvilke centre, metoden finder. (Computeren laver en hel del beregninger, s\u00e5 der kan godt g\u00e5 nogle sekunder, f\u00f8r du ser noget)."
     ]
    },
    {
     "cell_type": "code",
     "collapsed": false,
     "input": [
      "kmeans = kMeans(billede, antal_klynger=5)\n",
      "plot_kMeans(billede, kmeans)"
     ],
     "language": "python",
     "metadata": {},
     "outputs": []
    },
    {
     "cell_type": "heading",
     "level": 3,
     "metadata": {},
     "source": [
      "Opgave 3.2"
     ]
    },
    {
     "cell_type": "markdown",
     "metadata": {},
     "source": [
      "*a)* Giver de fundne klynger mening?\n",
      "\n",
      "*b)* Har $K$-means-algoritmen fundet klynger, du ikke selv ville have udpeget?"
     ]
    },
    {
     "cell_type": "markdown",
     "metadata": {},
     "source": [
      "Det er derfor vigtigt, at man er p\u00e5passelig med at tolke p\u00e5 resultatet fra $K$-means, idet algoritmen altid vil finde det antal klynger, vi har bedt den om, uanset om klyngerne er \"reelle\" eller ej."
     ]
    },
    {
     "cell_type": "heading",
     "level": 3,
     "metadata": {},
     "source": [
      "Bonusopgave"
     ]
    },
    {
     "cell_type": "markdown",
     "metadata": {},
     "source": [
      "De fundne klynger representerer de mest gennemg\u00e5ende farver i billedet. Hvis vi derfor \u00e6ndrer farven for hver enkelt pixel til farven af den klynge, pixlen ligger t\u00e6ttest p\u00e5, vil effekten v\u00e6re at reducere antallet af farver i billedet. Nedenst\u00e5ende kode vil g\u00f8re lige pr\u00e6cis dette, og vise dig det resulterende billede. Pr\u00f8v at teste med et forskelligt antal klynger."
     ]
    },
    {
     "cell_type": "code",
     "collapsed": false,
     "input": [
      "plot_reducerede_farver(billede, kmeans)"
     ],
     "language": "python",
     "metadata": {},
     "outputs": []
    },
    {
     "cell_type": "markdown",
     "metadata": {},
     "source": [
      "Pr\u00f8v at sammenligne med det originale billede. Ligner de fundne farve-klynger virkelig de gennemg\u00e5ende farver i billedet?"
     ]
    },
    {
     "cell_type": "heading",
     "level": 1,
     "metadata": {},
     "source": [
      "Opgave 4"
     ]
    },
    {
     "cell_type": "markdown",
     "metadata": {},
     "source": [
      "Lad os kigge p\u00e5 det sidste datas\u00e6t, vi brugte i opgaverne om $k$ nearest neighbours. "
     ]
    },
    {
     "cell_type": "code",
     "collapsed": false,
     "input": [
      "X, y = make_moons(n_samples=300, noise=.15, random_state=11)\n",
      "\n",
      "scatter(X[:,0], X[:,1], s=25, c=cm.Set2(y/7), edgecolor=cm.gray(.95), lw=0.5)"
     ],
     "language": "python",
     "metadata": {},
     "outputs": []
    },
    {
     "cell_type": "markdown",
     "metadata": {},
     "source": [
      "Der er en helt klar struktur i disse data, men sp\u00f8rgsm\u00e5let er, om $K$-means kan finde den? Lad os gentage proceduren fra opgave 2:"
     ]
    },
    {
     "cell_type": "code",
     "collapsed": false,
     "input": [
      "antal_klynger = 2\n",
      "\n",
      "kmeans = KMeans(n_clusters = antal_klynger)\n",
      "kmeans.fit(X)\n",
      "\n",
      "centre = kmeans.cluster_centers_ \n",
      "klynger = kmeans.labels_"
     ],
     "language": "python",
     "metadata": {},
     "outputs": []
    },
    {
     "cell_type": "code",
     "collapsed": false,
     "input": [
      "subplots()    # Figuren ops\u00e6ttes\n",
      "\n",
      "# Vi plotter nu klyngerne en ad gangen, s\u00e5 de f\u00e5r forskellige farver.\n",
      "for k in range(antal_klynger):\n",
      "    x = X[klynger == k]\n",
      "    scatter(x[:,0], x[:,1], s=25, label=k,\n",
      "            c=cm.Set2(k/7), edgecolor=cm.gray(.95), lw=.5, vmin=0, vmax=1)\n",
      "\n",
      "# Klyngecentrene vises. Udkommenter de f\u00f8lgende to linjer, hvis du ikke vil se dem.\n",
      "scatter(centre[:,0], centre[:,1], marker='x', s=50,\n",
      "        linewidths=3, color=plt.cm.Reds(.75), zorder=15)\n",
      "\n",
      "legend(loc='lower right', fontsize=14)"
     ],
     "language": "python",
     "metadata": {},
     "outputs": []
    },
    {
     "cell_type": "heading",
     "level": 3,
     "metadata": {},
     "source": [
      "Opgave 4.1"
     ]
    },
    {
     "cell_type": "markdown",
     "metadata": {},
     "source": [
      "$K$ means kan tydeligvis ikke finde de rigtige klynger i dette datas\u00e6t.\n",
      "\n",
      "*a)* Kan du forklare, hvad der g\u00e5r galt? (Hint: t\u00e6nk p\u00e5, hvordan $K$-means bestemmer, hvilken klynge et givent datapunkt tilh\u00f8rer).\n",
      "\n",
      "*b)* Kan du p\u00e5 baggrund af dit svar i *a)* komme med en tommelfingerregel om, i hvilke tilf\u00e6lde $K$-means i hvert fald ikke vil virke s\u00e6rlig godt?"
     ]
    },
    {
     "cell_type": "markdown",
     "metadata": {},
     "source": [
      "Ligesom i opgave 2 har vi alts\u00e5 her et eksempel p\u00e5 et datas\u00e6t, hvor $K$-means ikke fungerer s\u00e6rlig godt. Selv hvis vi ikke kendte de rigtige klasser i dette datas\u00e6t, ville vi nok kunne se en form for struktur alligevel, men et datas\u00e6t med s\u00e5 tydelig struktur i kun to dimensioner h\u00f8rer til sj\u00e6ldenhederne. Typisk arbejder man med data med langt flere variable, og man kan derfor ikke visualisere dem let. Lad os derfor til sidst minde os selv om, at man skal v\u00e6re meget forsigtig med at fortolke resultatet af en klyngeanalyse."
     ]
    }
   ],
   "metadata": {}
  }
 ]
}