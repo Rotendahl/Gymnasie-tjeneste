{
 "cells": [
  {
   "cell_type": "markdown",
   "metadata": {},
   "source": [
    "#  Øvelser til Uge 2\n",
    "##  Introduktion til Python"
   ]
  },
  {
   "cell_type": "markdown",
   "metadata": {},
   "source": [
    "Ved at skrive print kan du se resultatet af en kommando\n",
    "Hvad tror du der sker efter du kører følgende kommando?"
   ]
  },
  {
   "cell_type": "code",
   "execution_count": 1,
   "metadata": {
    "collapsed": false
   },
   "outputs": [
    {
     "name": "stdout",
     "output_type": "stream",
     "text": [
      "4\n",
      "5\n",
      "YOYOYO\n"
     ]
    }
   ],
   "source": [
    "print 22+2+2+2\n",
    "print 10/2\n",
    "print \"YOYOYO\""
   ]
  },
  {
   "cell_type": "markdown",
   "metadata": {},
   "source": [
    "Hvis vi vil gemme et resultat, kan vi skrive det ind i et variabel"
   ]
  },
  {
   "cell_type": "code",
   "execution_count": 2,
   "metadata": {
    "collapsed": false
   },
   "outputs": [
    {
     "name": "stdout",
     "output_type": "stream",
     "text": [
      "Hej, Preben\n",
      "Preben er 1.25 år gammel\n"
     ]
    }
   ],
   "source": [
    "navn   = \"Preben\"\n",
    "hilsen = \"Hej, \"\n",
    "print hilsen + navn\n",
    "sad\n",
    "ALDER    = 5.0 / 4.0\n",
    "print navn, \"er\", ALDER, \"år gammel\""
   ]
  },
  {
   "cell_type": "markdown",
   "metadata": {},
   "source": [
    "Hvis man vil styre hvad der skal ske kan det gøres med \"if\" udtryk\n",
    "Prøv at ændre hvad der bliver printet ved at ændre tal1 og tal2"
   ]
  },
  {
   "cell_type": "code",
   "execution_count": 3,
   "metadata": {
    "collapsed": false
   },
   "outputs": [
    {
     "name": "stdout",
     "output_type": "stream",
     "text": [
      "Tal 1 er mindre end tal 2\n"
     ]
    }
   ],
   "source": [
    "tal1 = 2\n",
    "tal2 = 3\n",
    "if(tal1 < tal2):\n",
    "    print \"Tal 1222 er mindre end tal 2\"\n",
    "else:\n",
    "    print \"Tal 1 er større eller lig med tal 2\""
   ]
  },
  {
   "cell_type": "markdown",
   "metadata": {},
   "source": [
    "Hvis vi vil gentage nogesadsadt et bestemt antal gange kan vi bruge en \"for\" løkke\n",
    "\n",
    "Erstat \"n\" med antal gange det skal køres."
   ]
  },
  {
   "cell_type": "code",
   "execution_count": 4,
   "metadata": {
    "collapsed": false
   },
   "outputs": [
    {
     "name": "stdout",
     "output_type": "stream",
     "text": [
      "Jeg har kørt 1 gange\n",
      "Jeg har kørt 2 gange\n",
      "Jeg har kørt 3 gange\n",
      "Jeg har kørt 4 gange\n",
      "Jeg har kørt 5 gange\n"
     ]
    }
   ],
   "source": [
    "n = 5\n",
    "for i in range(n):\n",
    "    print \"Jeg har kørt\", i+1, \"gange\""
   ]
  },
  {
   "cell_type": "markdown",
   "metadata": {},
   "source": [
    "Man kan også definere funktioner med 'def:' kommandoen"
   ]
  },
  {
   "cell_type": "code",
   "execution_count": 5,
   "metadata": {
    "collapsed": false
   },
   "outputs": [
    {
     "name": "stdout",
     "output_type": "stream",
     "text": [
      "11\n"
     ]
    }
   ],
   "source": [
    "def prikProd(v1, v2, u1, u2):\n",
    "    return v1 * u1 + v2 * u2\n",
    "\n",
    "print prikProd(1, 2, 3, 4)"
   ]
  },
  {
   "cell_type": "markdown",
   "metadata": {},
   "source": [
    "Lister er en samling af elementer\n",
    "Prøv at sætte dig selv ind og print dig selv"
   ]
  },
  {
   "cell_type": "code",
   "execution_count": 6,
   "metadata": {
    "collapsed": false
   },
   "outputs": [
    {
     "name": "stdout",
     "output_type": "stream",
     "text": [
      "Benjamin\n"
     ]
    }
   ],
   "source": [
    "undervisere = [\"Arinbjorn\", \"Benjamin\", \"Mathias\"]\n",
    "#Hvis man vil tilgå en værdi i en liste, gør man således:\n",
    "print undervisere[1]"
   ]
  },
  {
   "cell_type": "code",
   "execution_count": null,
   "metadata": {
    "collapsed": true
   },
   "outputs": [],
   "source": []
  }
 ],
 "metadata": {
  "kernelspec": {
   "display_name": "Python 2",
   "language": "python",
   "name": "python2"
  },
  "language_info": {
   "codemirror_mode": {
    "name": "ipython",
    "version": 2
   },
   "file_extension": ".py",
   "mimetype": "text/x-python",
   "name": "python",
   "nbconvert_exporter": "python",
   "pygments_lexer": "ipython2",
   "version": "2.7.10"
  }
 },
 "nbformat": 4,
 "nbformat_minor": 0
}
