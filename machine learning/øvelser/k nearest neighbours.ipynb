{
 "cells": [
  {
   "cell_type": "code",
   "execution_count": 1,
   "metadata": {
    "collapsed": False
   },
   "outputs": [
    {
     "name": "stdout",
     "output_type": "stream",
     "text": [
      "Populating the interactive namespace from numpy and matplotlib\n"
     ]
    },
    {
     "name": "stderr",
     "output_type": "stream",
     "text": [
      ":0: FutureWarning: IPython widgets are experimental and may change in the future.\n"
     ]
    }
   ],
   "source": [
    "%pylab inline\n",
    "from ekstra_funktioner import *\n",
    "\n",
    "from sklearn.cross_validation import StratifiedKFold\n",
    "from sklearn.datasets import make_classification, make_moons\n",
    "\n",
    "# Følgende sætter størrelsen af figurene (i tommer).\n",
    "# Du kan prøve at ændre størrelsen, hvis figurene er for små eller for store.\n",
    "pylab.rcParams['figure.figsize'] = (10.0, 6.0)"
   ]
  },
  {
   "cell_type": "markdown",
   "metadata": {},
   "source": [
    "# $k$ nearest neighbours"
   ]
  },
  {
   "cell_type": "markdown",
   "metadata": {},
   "source": [
    "Metoden, vi ser på her, kaldes *$k$ nearest neighbours* (eller bare $k$-NN). Navnet kommer af, at metoden bruger de $k$ nærmeste datapunkter (\"naboer\") til at bestemme, hvad værdien i et givent punkt bør være. Man kan bruge disse $k$ naboer på forskellige måder, når man skal bestemme en værdi. Den mest simple måde er blot at tage gennemsnittet af naboernes værdier, men man kan f.eks. også bruge et vægtet gennemsnit, hvor punkter, der ligger længere væk, vil tælle mindre."
   ]
  },
  {
   "cell_type": "markdown",
   "metadata": {},
   "source": [
    "# Opgave 1"
   ]
  },
  {
   "cell_type": "markdown",
   "metadata": {},
   "source": [
    "Vi starter med at se på en type af opgaver, der betegnes *regression*. I regressionsanalyse prøver man at finde en sammenhæng mellem datapunkter. Det lyder måske lidt teknisk, men det er præcis det, man gør, når man finder en tendenslinje: her finder man netop en funktion, der beskriver en sammenhæng mellem datapunkter. Men i modsætning til at finde en tendenslinje, skal man med $k$-NN ikke specificere en funktion, man vil fitte til dataene.\n",
    "\n",
    "Først ser vi på nogle ukendte data:"
   ]
  },
  {
   "cell_type": "code",
   "execution_count": 2,
   "metadata": {
    "collapsed": False
   },
   "outputs": [
    {
     "data": {
      "image/png": "iVBORw0KGgoAAAANSUhEUgAAAmsAAAGCCAYAAAC/74QzAAAABHNCSVQICAgIfAhkiAAAAAlwSFlz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\nAADU2P8H2QJHfHMPHxMAAAAASUVORK5CYII=\n",
      "text/plain": [
       "<matplotlib.figure.Figure at 0x10677fe50>"
      ]
     },
     "metadata": {},
     "output_type": "display_data"
    }
   ],
   "source": [
    "x,y = ukendte_data()\n",
    "plot_data(x,y)"
   ]
  },
  {
   "cell_type": "markdown",
   "metadata": {},
   "source": [
    "For at finde den underliggende sammenhæng disse datapunkter (dvs. for at kunne lave regression) kunne vi f.eks. vælge at fitte en tendenslinje til dataene. Men for at undgå at skulle specificere en bestemt funktion, som vi dybest set ikke ved om er den rigtige, vælger vi i stedet at bruge $k$-NN.\n",
    "\n",
    "$k$-NN har dog én parameter, der skal vælges: antallet af naboer, $k$. Med koden herunder kan du afprøve forskellige værdier af $k$ og se, hvad der sker."
   ]
  },
  {
   "cell_type": "code",
   "execution_count": 3,
   "metadata": {
    "collapsed": False
   },
   "outputs": [
    {
     "ename": "KeyError",
     "evalue": "'uniform'",
     "output_type": "error",
     "traceback": [
      "\u001b[0;31m---------------------------------------------------------------------------\u001b[0m",
      "\u001b[0;31mKeyError\u001b[0m                                  Traceback (most recent call last)",
      "\u001b[0;32m<ipython-input-3-cee66158b981>\u001b[0m in \u001b[0;36m<module>\u001b[0;34m()\u001b[0m\n\u001b[1;32m      1\u001b[0m \u001b[0mx\u001b[0m \u001b[0;34m=\u001b[0m \u001b[0mlinspace\u001b[0m\u001b[0;34m(\u001b[0m\u001b[0;34m-\u001b[0m\u001b[0;36m10\u001b[0m\u001b[0;34m,\u001b[0m\u001b[0;36m10\u001b[0m\u001b[0;34m,\u001b[0m\u001b[0;36m500\u001b[0m\u001b[0;34m)\u001b[0m   \u001b[0;31m# Vi laver 500 x-værdier, som bruges til at tegne regressionslinjen.\u001b[0m\u001b[0;34m\u001b[0m\u001b[0m\n\u001b[0;32m----> 2\u001b[0;31m \u001b[0mplot_interaktiv_kNN\u001b[0m\u001b[0;34m(\u001b[0m\u001b[0mx\u001b[0m\u001b[0;34m)\u001b[0m\u001b[0;34m\u001b[0m\u001b[0m\n\u001b[0m",
      "\u001b[0;32m/Users/Rotendahl/GDrive/gymnasie-tjenste/Materiale/ml-workshop/ekstra_funktioner.py\u001b[0m in \u001b[0;36mplot_interaktiv_kNN\u001b[0;34m(x, naboer)\u001b[0m\n\u001b[1;32m    146\u001b[0m \u001b[0;34m\u001b[0m\u001b[0m\n\u001b[1;32m    147\u001b[0m     m_widget=widgets.RadioButtonsWidget(values=[\"uniform\", \"distance\"],\n\u001b[0;32m--> 148\u001b[0;31m                                       value=\"uniform\")\n\u001b[0m\u001b[1;32m    149\u001b[0m \u001b[0;34m\u001b[0m\u001b[0m\n\u001b[1;32m    150\u001b[0m     \u001b[0m_\u001b[0m \u001b[0;34m=\u001b[0m \u001b[0mwidgets\u001b[0m\u001b[0;34m.\u001b[0m\u001b[0minteract\u001b[0m\u001b[0;34m(\u001b[0m\u001b[0mf\u001b[0m\u001b[0;34m,\u001b[0m \u001b[0mk\u001b[0m\u001b[0;34m=\u001b[0m\u001b[0mk_widget\u001b[0m\u001b[0;34m,\u001b[0m\u001b[0mmetode\u001b[0m\u001b[0;34m=\u001b[0m\u001b[0mm_widget\u001b[0m\u001b[0;34m)\u001b[0m\u001b[0;34m\u001b[0m\u001b[0m\n",
      "\u001b[0;32m/opt/local/Library/Frameworks/Python.framework/Versions/2.7/lib/python2.7/site-packages/IPython/utils/warn.pyc\u001b[0m in \u001b[0;36minit_hook\u001b[0;34m(self, *pargs, **kwargs)\u001b[0m\n\u001b[1;32m     71\u001b[0m     \u001b[0;31m# Hook the init method of the base class.\u001b[0m\u001b[0;34m\u001b[0m\u001b[0;34m\u001b[0m\u001b[0m\n\u001b[1;32m     72\u001b[0m     \u001b[0;32mdef\u001b[0m \u001b[0minit_hook\u001b[0m\u001b[0;34m(\u001b[0m\u001b[0mself\u001b[0m\u001b[0;34m,\u001b[0m \u001b[0;34m*\u001b[0m\u001b[0mpargs\u001b[0m\u001b[0;34m,\u001b[0m \u001b[0;34m**\u001b[0m\u001b[0mkwargs\u001b[0m\u001b[0;34m)\u001b[0m\u001b[0;34m:\u001b[0m\u001b[0;34m\u001b[0m\u001b[0m\n\u001b[0;32m---> 73\u001b[0;31m         \u001b[0mbase\u001b[0m\u001b[0;34m.\u001b[0m\u001b[0m__init__\u001b[0m\u001b[0;34m(\u001b[0m\u001b[0mself\u001b[0m\u001b[0;34m,\u001b[0m \u001b[0;34m*\u001b[0m\u001b[0mpargs\u001b[0m\u001b[0;34m,\u001b[0m \u001b[0;34m**\u001b[0m\u001b[0mkwargs\u001b[0m\u001b[0;34m)\u001b[0m\u001b[0;34m\u001b[0m\u001b[0m\n\u001b[0m\u001b[1;32m     74\u001b[0m \u001b[0;34m\u001b[0m\u001b[0m\n\u001b[1;32m     75\u001b[0m         \u001b[0;31m# Warn once per class.\u001b[0m\u001b[0;34m\u001b[0m\u001b[0;34m\u001b[0m\u001b[0m\n",
      "\u001b[0;32m/opt/local/Library/Frameworks/Python.framework/Versions/2.7/lib/python2.7/site-packages/IPython/html/widgets/widget_selection.pyc\u001b[0m in \u001b[0;36m__init__\u001b[0;34m(self, *args, **kwargs)\u001b[0m\n\u001b[1;32m     66\u001b[0m         \u001b[0;32mif\u001b[0m \u001b[0;34m'options'\u001b[0m \u001b[0;32min\u001b[0m \u001b[0mkwargs\u001b[0m\u001b[0;34m:\u001b[0m\u001b[0;34m\u001b[0m\u001b[0m\n\u001b[1;32m     67\u001b[0m             \u001b[0mself\u001b[0m\u001b[0;34m.\u001b[0m\u001b[0moptions\u001b[0m \u001b[0;34m=\u001b[0m \u001b[0mkwargs\u001b[0m\u001b[0;34m.\u001b[0m\u001b[0mpop\u001b[0m\u001b[0;34m(\u001b[0m\u001b[0;34m'options'\u001b[0m\u001b[0;34m)\u001b[0m\u001b[0;34m\u001b[0m\u001b[0m\n\u001b[0;32m---> 68\u001b[0;31m         \u001b[0mDOMWidget\u001b[0m\u001b[0;34m.\u001b[0m\u001b[0m__init__\u001b[0m\u001b[0;34m(\u001b[0m\u001b[0mself\u001b[0m\u001b[0;34m,\u001b[0m \u001b[0;34m*\u001b[0m\u001b[0margs\u001b[0m\u001b[0;34m,\u001b[0m \u001b[0;34m**\u001b[0m\u001b[0mkwargs\u001b[0m\u001b[0;34m)\u001b[0m\u001b[0;34m\u001b[0m\u001b[0m\n\u001b[0m\u001b[1;32m     69\u001b[0m         \u001b[0mself\u001b[0m\u001b[0;34m.\u001b[0m\u001b[0m_value_in_options\u001b[0m\u001b[0;34m(\u001b[0m\u001b[0;34m)\u001b[0m\u001b[0;34m\u001b[0m\u001b[0m\n\u001b[1;32m     70\u001b[0m \u001b[0;34m\u001b[0m\u001b[0m\n",
      "\u001b[0;32m/opt/local/Library/Frameworks/Python.framework/Versions/2.7/lib/python2.7/site-packages/IPython/html/widgets/widget.pyc\u001b[0m in \u001b[0;36m__init__\u001b[0;34m(self, *pargs, **kwargs)\u001b[0m\n\u001b[1;32m    479\u001b[0m \u001b[0;34m\u001b[0m\u001b[0m\n\u001b[1;32m    480\u001b[0m     \u001b[0;32mdef\u001b[0m \u001b[0m__init__\u001b[0m\u001b[0;34m(\u001b[0m\u001b[0mself\u001b[0m\u001b[0;34m,\u001b[0m \u001b[0;34m*\u001b[0m\u001b[0mpargs\u001b[0m\u001b[0;34m,\u001b[0m \u001b[0;34m**\u001b[0m\u001b[0mkwargs\u001b[0m\u001b[0;34m)\u001b[0m\u001b[0;34m:\u001b[0m\u001b[0;34m\u001b[0m\u001b[0m\n\u001b[0;32m--> 481\u001b[0;31m         \u001b[0msuper\u001b[0m\u001b[0;34m(\u001b[0m\u001b[0mDOMWidget\u001b[0m\u001b[0;34m,\u001b[0m \u001b[0mself\u001b[0m\u001b[0;34m)\u001b[0m\u001b[0;34m.\u001b[0m\u001b[0m__init__\u001b[0m\u001b[0;34m(\u001b[0m\u001b[0;34m*\u001b[0m\u001b[0mpargs\u001b[0m\u001b[0;34m,\u001b[0m \u001b[0;34m**\u001b[0m\u001b[0mkwargs\u001b[0m\u001b[0;34m)\u001b[0m\u001b[0;34m\u001b[0m\u001b[0m\n\u001b[0m\u001b[1;32m    482\u001b[0m \u001b[0;34m\u001b[0m\u001b[0m\n\u001b[1;32m    483\u001b[0m         \u001b[0;32mdef\u001b[0m \u001b[0m_validate_border\u001b[0m\u001b[0;34m(\u001b[0m\u001b[0mname\u001b[0m\u001b[0;34m,\u001b[0m \u001b[0mold\u001b[0m\u001b[0;34m,\u001b[0m \u001b[0mnew\u001b[0m\u001b[0;34m)\u001b[0m\u001b[0;34m:\u001b[0m\u001b[0;34m\u001b[0m\u001b[0m\n",
      "\u001b[0;32m/opt/local/Library/Frameworks/Python.framework/Versions/2.7/lib/python2.7/site-packages/IPython/html/widgets/widget.pyc\u001b[0m in \u001b[0;36m__init__\u001b[0;34m(self, **kwargs)\u001b[0m\n\u001b[1;32m    151\u001b[0m         \u001b[0;34m\"\"\"Public constructor\"\"\"\u001b[0m\u001b[0;34m\u001b[0m\u001b[0m\n\u001b[1;32m    152\u001b[0m         \u001b[0mself\u001b[0m\u001b[0;34m.\u001b[0m\u001b[0m_model_id\u001b[0m \u001b[0;34m=\u001b[0m \u001b[0mkwargs\u001b[0m\u001b[0;34m.\u001b[0m\u001b[0mpop\u001b[0m\u001b[0;34m(\u001b[0m\u001b[0;34m'model_id'\u001b[0m\u001b[0;34m,\u001b[0m \u001b[0mNone\u001b[0m\u001b[0;34m)\u001b[0m\u001b[0;34m\u001b[0m\u001b[0m\n\u001b[0;32m--> 153\u001b[0;31m         \u001b[0msuper\u001b[0m\u001b[0;34m(\u001b[0m\u001b[0mWidget\u001b[0m\u001b[0;34m,\u001b[0m \u001b[0mself\u001b[0m\u001b[0;34m)\u001b[0m\u001b[0;34m.\u001b[0m\u001b[0m__init__\u001b[0m\u001b[0;34m(\u001b[0m\u001b[0;34m**\u001b[0m\u001b[0mkwargs\u001b[0m\u001b[0;34m)\u001b[0m\u001b[0;34m\u001b[0m\u001b[0m\n\u001b[0m\u001b[1;32m    154\u001b[0m \u001b[0;34m\u001b[0m\u001b[0m\n\u001b[1;32m    155\u001b[0m         \u001b[0mWidget\u001b[0m\u001b[0;34m.\u001b[0m\u001b[0m_call_widget_constructed\u001b[0m\u001b[0;34m(\u001b[0m\u001b[0mself\u001b[0m\u001b[0;34m)\u001b[0m\u001b[0;34m\u001b[0m\u001b[0m\n",
      "\u001b[0;32m/opt/local/Library/Frameworks/Python.framework/Versions/2.7/lib/python2.7/site-packages/IPython/config/configurable.pyc\u001b[0m in \u001b[0;36m__init__\u001b[0;34m(self, **kwargs)\u001b[0m\n\u001b[1;32m     84\u001b[0m         \u001b[0;31m# This should go second so individual keyword arguments override\u001b[0m\u001b[0;34m\u001b[0m\u001b[0;34m\u001b[0m\u001b[0m\n\u001b[1;32m     85\u001b[0m         \u001b[0;31m# the values in config.\u001b[0m\u001b[0;34m\u001b[0m\u001b[0;34m\u001b[0m\u001b[0m\n\u001b[0;32m---> 86\u001b[0;31m         \u001b[0msuper\u001b[0m\u001b[0;34m(\u001b[0m\u001b[0mConfigurable\u001b[0m\u001b[0;34m,\u001b[0m \u001b[0mself\u001b[0m\u001b[0;34m)\u001b[0m\u001b[0;34m.\u001b[0m\u001b[0m__init__\u001b[0m\u001b[0;34m(\u001b[0m\u001b[0;34m**\u001b[0m\u001b[0mkwargs\u001b[0m\u001b[0;34m)\u001b[0m\u001b[0;34m\u001b[0m\u001b[0m\n\u001b[0m\u001b[1;32m     87\u001b[0m \u001b[0;34m\u001b[0m\u001b[0m\n\u001b[1;32m     88\u001b[0m     \u001b[0;31m#-------------------------------------------------------------------------\u001b[0m\u001b[0;34m\u001b[0m\u001b[0;34m\u001b[0m\u001b[0m\n",
      "\u001b[0;32m/opt/local/Library/Frameworks/Python.framework/Versions/2.7/lib/python2.7/site-packages/IPython/utils/traitlets.pyc\u001b[0m in \u001b[0;36m__init__\u001b[0;34m(self, *args, **kw)\u001b[0m\n\u001b[1;32m    563\u001b[0m         \u001b[0;31m# notifications.\u001b[0m\u001b[0;34m\u001b[0m\u001b[0;34m\u001b[0m\u001b[0m\n\u001b[1;32m    564\u001b[0m         \u001b[0;32mfor\u001b[0m \u001b[0mkey\u001b[0m\u001b[0;34m,\u001b[0m \u001b[0mvalue\u001b[0m \u001b[0;32min\u001b[0m \u001b[0miteritems\u001b[0m\u001b[0;34m(\u001b[0m\u001b[0mkw\u001b[0m\u001b[0;34m)\u001b[0m\u001b[0;34m:\u001b[0m\u001b[0;34m\u001b[0m\u001b[0m\n\u001b[0;32m--> 565\u001b[0;31m             \u001b[0msetattr\u001b[0m\u001b[0;34m(\u001b[0m\u001b[0mself\u001b[0m\u001b[0;34m,\u001b[0m \u001b[0mkey\u001b[0m\u001b[0;34m,\u001b[0m \u001b[0mvalue\u001b[0m\u001b[0;34m)\u001b[0m\u001b[0;34m\u001b[0m\u001b[0m\n\u001b[0m\u001b[1;32m    566\u001b[0m \u001b[0;34m\u001b[0m\u001b[0m\n\u001b[1;32m    567\u001b[0m     \u001b[0;32mdef\u001b[0m \u001b[0m_notify_trait\u001b[0m\u001b[0;34m(\u001b[0m\u001b[0mself\u001b[0m\u001b[0;34m,\u001b[0m \u001b[0mname\u001b[0m\u001b[0;34m,\u001b[0m \u001b[0mold_value\u001b[0m\u001b[0;34m,\u001b[0m \u001b[0mnew_value\u001b[0m\u001b[0;34m)\u001b[0m\u001b[0;34m:\u001b[0m\u001b[0;34m\u001b[0m\u001b[0m\n",
      "\u001b[0;32m/opt/local/Library/Frameworks/Python.framework/Versions/2.7/lib/python2.7/site-packages/IPython/utils/traitlets.pyc\u001b[0m in \u001b[0;36m__set__\u001b[0;34m(self, obj, value)\u001b[0m\n\u001b[1;32m    443\u001b[0m             \u001b[0;31m# we explicitly compare silent to True just in case the equality\u001b[0m\u001b[0;34m\u001b[0m\u001b[0;34m\u001b[0m\u001b[0m\n\u001b[1;32m    444\u001b[0m             \u001b[0;31m# comparison above returns something other than True/False\u001b[0m\u001b[0;34m\u001b[0m\u001b[0;34m\u001b[0m\u001b[0m\n\u001b[0;32m--> 445\u001b[0;31m             \u001b[0mobj\u001b[0m\u001b[0;34m.\u001b[0m\u001b[0m_notify_trait\u001b[0m\u001b[0;34m(\u001b[0m\u001b[0mself\u001b[0m\u001b[0;34m.\u001b[0m\u001b[0mname\u001b[0m\u001b[0;34m,\u001b[0m \u001b[0mold_value\u001b[0m\u001b[0;34m,\u001b[0m \u001b[0mnew_value\u001b[0m\u001b[0;34m)\u001b[0m\u001b[0;34m\u001b[0m\u001b[0m\n\u001b[0m\u001b[1;32m    446\u001b[0m \u001b[0;34m\u001b[0m\u001b[0m\n\u001b[1;32m    447\u001b[0m     \u001b[0;32mdef\u001b[0m \u001b[0m_validate\u001b[0m\u001b[0;34m(\u001b[0m\u001b[0mself\u001b[0m\u001b[0;34m,\u001b[0m \u001b[0mobj\u001b[0m\u001b[0;34m,\u001b[0m \u001b[0mvalue\u001b[0m\u001b[0;34m)\u001b[0m\u001b[0;34m:\u001b[0m\u001b[0;34m\u001b[0m\u001b[0m\n",
      "\u001b[0;32m/opt/local/Library/Frameworks/Python.framework/Versions/2.7/lib/python2.7/site-packages/IPython/html/widgets/widget.pyc\u001b[0m in \u001b[0;36m_notify_trait\u001b[0;34m(self, name, old_value, new_value)\u001b[0m\n\u001b[1;32m    371\u001b[0m         \u001b[0;31m# registered validation to be processed prior to allowing the widget\u001b[0m\u001b[0;34m\u001b[0m\u001b[0;34m\u001b[0m\u001b[0m\n\u001b[1;32m    372\u001b[0m         \u001b[0;31m# machinery to handle the state.\u001b[0m\u001b[0;34m\u001b[0m\u001b[0;34m\u001b[0m\u001b[0m\n\u001b[0;32m--> 373\u001b[0;31m         \u001b[0mLoggingConfigurable\u001b[0m\u001b[0;34m.\u001b[0m\u001b[0m_notify_trait\u001b[0m\u001b[0;34m(\u001b[0m\u001b[0mself\u001b[0m\u001b[0;34m,\u001b[0m \u001b[0mname\u001b[0m\u001b[0;34m,\u001b[0m \u001b[0mold_value\u001b[0m\u001b[0;34m,\u001b[0m \u001b[0mnew_value\u001b[0m\u001b[0;34m)\u001b[0m\u001b[0;34m\u001b[0m\u001b[0m\n\u001b[0m\u001b[1;32m    374\u001b[0m \u001b[0;34m\u001b[0m\u001b[0m\n\u001b[1;32m    375\u001b[0m         \u001b[0;31m# Send the state after the user registered callbacks for trait changes\u001b[0m\u001b[0;34m\u001b[0m\u001b[0;34m\u001b[0m\u001b[0m\n",
      "\u001b[0;32m/opt/local/Library/Frameworks/Python.framework/Versions/2.7/lib/python2.7/site-packages/IPython/utils/traitlets.pyc\u001b[0m in \u001b[0;36m_notify_trait\u001b[0;34m(self, name, old_value, new_value)\u001b[0m\n\u001b[1;32m    600\u001b[0m                     \u001b[0mc\u001b[0m\u001b[0;34m(\u001b[0m\u001b[0mname\u001b[0m\u001b[0;34m,\u001b[0m \u001b[0mnew_value\u001b[0m\u001b[0;34m)\u001b[0m\u001b[0;34m\u001b[0m\u001b[0m\n\u001b[1;32m    601\u001b[0m                 \u001b[0;32melif\u001b[0m \u001b[0mnargs\u001b[0m \u001b[0;34m+\u001b[0m \u001b[0moffset\u001b[0m \u001b[0;34m==\u001b[0m \u001b[0;36m3\u001b[0m\u001b[0;34m:\u001b[0m\u001b[0;34m\u001b[0m\u001b[0m\n\u001b[0;32m--> 602\u001b[0;31m                     \u001b[0mc\u001b[0m\u001b[0;34m(\u001b[0m\u001b[0mname\u001b[0m\u001b[0;34m,\u001b[0m \u001b[0mold_value\u001b[0m\u001b[0;34m,\u001b[0m \u001b[0mnew_value\u001b[0m\u001b[0;34m)\u001b[0m\u001b[0;34m\u001b[0m\u001b[0m\n\u001b[0m\u001b[1;32m    603\u001b[0m                 \u001b[0;32melse\u001b[0m\u001b[0;34m:\u001b[0m\u001b[0;34m\u001b[0m\u001b[0m\n\u001b[1;32m    604\u001b[0m                     raise TraitError('a trait changed callback '\n",
      "\u001b[0;32m/opt/local/Library/Frameworks/Python.framework/Versions/2.7/lib/python2.7/site-packages/IPython/html/widgets/widget_selection.pyc\u001b[0m in \u001b[0;36m_value_changed\u001b[0;34m(self, name, old, new)\u001b[0m\n\u001b[1;32m    126\u001b[0m                 \u001b[0;31m# undo the change, and raise KeyError\u001b[0m\u001b[0;34m\u001b[0m\u001b[0;34m\u001b[0m\u001b[0m\n\u001b[1;32m    127\u001b[0m                 \u001b[0mself\u001b[0m\u001b[0;34m.\u001b[0m\u001b[0mvalue\u001b[0m \u001b[0;34m=\u001b[0m \u001b[0mold\u001b[0m\u001b[0;34m\u001b[0m\u001b[0m\n\u001b[0;32m--> 128\u001b[0;31m                 \u001b[0;32mraise\u001b[0m \u001b[0mKeyError\u001b[0m\u001b[0;34m(\u001b[0m\u001b[0mnew\u001b[0m\u001b[0;34m)\u001b[0m\u001b[0;34m\u001b[0m\u001b[0m\n\u001b[0m\u001b[1;32m    129\u001b[0m             \u001b[0;32mfinally\u001b[0m\u001b[0;34m:\u001b[0m\u001b[0;34m\u001b[0m\u001b[0m\n\u001b[1;32m    130\u001b[0m                 \u001b[0mself\u001b[0m\u001b[0;34m.\u001b[0m\u001b[0mvalue_lock\u001b[0m\u001b[0;34m.\u001b[0m\u001b[0mrelease\u001b[0m\u001b[0;34m(\u001b[0m\u001b[0;34m)\u001b[0m\u001b[0;34m\u001b[0m\u001b[0m\n",
      "\u001b[0;31mKeyError\u001b[0m: 'uniform'"
     ]
    }
   ],
   "source": [
    "x = linspace(-10,10,500)   # Vi laver 500 x-værdier, som bruges til at tegne regressionslinjen.\n",
    "plot_interaktiv_kNN(x)"
   ]
  },
  {
   "cell_type": "markdown",
   "metadata": {},
   "source": [
    "### Opgave 1.1"
   ]
  },
  {
   "cell_type": "markdown",
   "metadata": {},
   "source": [
    "*a)* Hvad sker der, når $k$ er lille? Hvad når $k$ er stor? Giver denne opførsel mening?\n",
    "\n",
    "*b)* Hvilke værdier af $k$ tilpasser for lidt til data? Hvilke tilpasser for meget?"
   ]
  },
  {
   "cell_type": "markdown",
   "metadata": {},
   "source": [
    "### Opgave 1.2"
   ]
  },
  {
   "cell_type": "markdown",
   "metadata": {},
   "source": [
    "Du kan også prøve at ændre den metode, gennemsnittet af naboerne beregnes med. \"`uniform`\" vil bruge et helt almindeligt gennemsnit, mens \"`distance`\" vil vægte gennemsnittet med afstanden til punkterne. \n",
    "\n",
    "*a)* Giver grafen stadig mening, når du ændrer metoden, gennemsnittet beregnes med?\n",
    "\n",
    "*b)* Kan du nævne nogle fordele og ulemper ved de to metoder til at beregne gennemsnittet på? Hvilken metode, synes du, virker som den mest \"rigtige\"?"
   ]
  },
  {
   "cell_type": "markdown",
   "metadata": {},
   "source": [
    "### Opgave 1.3"
   ]
  },
  {
   "cell_type": "markdown",
   "metadata": {},
   "source": [
    "*a)* Nævn nogle fordele ved $k$-NN over \"normale\" tendenslinjer.\n",
    "\n",
    "*b)* Nævn tilsvarende nogle ulemper ved at bruge $k$-NN i forhold til tendenslinjer."
   ]
  },
  {
   "cell_type": "markdown",
   "metadata": {},
   "source": [
    "# Opgave 2"
   ]
  },
  {
   "cell_type": "markdown",
   "metadata": {},
   "source": [
    "Vi kigger nu på en anden type af opgaver, der betegnes *klassifikation*. Dette er en type af opgaver, som ikke kan løses ved brug af tendenslinjer. I klassifikation har man data, hvor alle datapunkterne tilhører en bestemt klasse eller kategori - f.eks. kunne man have en række målinger af patienter samt en indikation af, om en given patient har kræft eller ej. I eksemplet har man derfor to klasser: kræft/ikke kræft, rask/syg eller hvad man nu vil kalde dem.\n",
    "\n",
    "Med klassifikationsmetoder kan man benytte tidligere data til at forudsige klassen for et nyt datapunkt. Vi er så heldige, at $k$-NN også kan bruges til klassifikation, så det vil vi kigge lidt nærmere på herunder.\n",
    "\n",
    "Først genererer vi nogle data og visualiserer dem. Det resulterende plot vil vise datapunkterne i forskellige farver afhængig af deres klasse."
   ]
  },
  {
   "cell_type": "code",
   "execution_count": 4,
   "metadata": {
    "collapsed": False
   },
   "outputs": [
    {
     "data": {
      "text/plain": [
       "<matplotlib.collections.PathCollection at 0x10bd2eb50>"
      ]
     },
     "execution_count": 4,
     "metadata": {},
     "output_type": "execute_result"
    },
    {
     "data": {
      "image/png": "iVBORw0KGgoAAAANSUhEUgAAAk8AAAFwCAYAAAChA5+LAAAABHNCSVQICAgIfAhkiAAAAAlwSFlz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\n",
      "text/plain": [
       "<matplotlib.figure.Figure at 0x10bcf0650>"
      ]
     },
     "metadata": {},
     "output_type": "display_data"
    }
   ],
   "source": [
    "# Generer data. X vil være datapunkterne (dem, vi normal skriver (x,y)),\n",
    "# mens y vil være klassen.\n",
    "X, y = make_classification(n_samples=300, n_classes=3, n_features=2, \n",
    "                           n_redundant=0, n_clusters_per_class=1, \n",
    "                           random_state=57)\n",
    "\n",
    "scatter(X[:,0], X[:,1], s=25, c=cm.Set2(y/7), edgecolor=cm.gray(.95), lw=0.5)"
   ]
  },
  {
   "cell_type": "markdown",
   "metadata": {},
   "source": [
    "Vi kan nu prøve at bruge $k$-NN til at lave klassifikation af dette datasæt. Ved at køre nedenstående kodeblok vil du få en interaktiv graf, hvor du igen kan justere antallet af naboer ($k$) og metoden, der bruges til at beregne afstande. Prøv nogle forskellige værdier af $k$ og se, hvordan det påvirker datarummet. Baggrundsfarven vil angive, hvilken klasse område tilhører."
   ]
  },
  {
   "cell_type": "code",
   "execution_count": 5,
   "metadata": {
    "collapsed": False
   },
   "outputs": [
    {
     "name": "stderr",
     "output_type": "stream",
     "text": [
      "WARNING: \"IntSliderWidget\" is deprecated, please use \"IntSlider\" instead.\n"
     ]
    },
    {
     "ename": "KeyError",
     "evalue": "'uniform'",
     "output_type": "error",
     "traceback": [
      "\u001b[0;31m---------------------------------------------------------------------------\u001b[0m",
      "\u001b[0;31mKeyError\u001b[0m                                  Traceback (most recent call last)",
      "\u001b[0;32m<ipython-input-5-ef0da51e20a3>\u001b[0m in \u001b[0;36m<module>\u001b[0;34m()\u001b[0m\n\u001b[0;32m----> 1\u001b[0;31m \u001b[0mplot_interaktiv_kNN_klassifikation\u001b[0m\u001b[0;34m(\u001b[0m\u001b[0mX\u001b[0m\u001b[0;34m,\u001b[0m\u001b[0my\u001b[0m\u001b[0;34m)\u001b[0m\u001b[0;34m\u001b[0m\u001b[0m\n\u001b[0m",
      "\u001b[0;32m/Users/Rotendahl/GDrive/gymnasie-tjenste/Materiale/ml-workshop/ekstra_funktioner.py\u001b[0m in \u001b[0;36mplot_interaktiv_kNN_klassifikation\u001b[0;34m(X, y, naboer, res)\u001b[0m\n\u001b[1;32m    204\u001b[0m \u001b[0;34m\u001b[0m\u001b[0m\n\u001b[1;32m    205\u001b[0m     m_widget=widgets.RadioButtonsWidget(values=[\"uniform\", \"distance\"],\n\u001b[0;32m--> 206\u001b[0;31m                                       value=\"uniform\")\n\u001b[0m\u001b[1;32m    207\u001b[0m \u001b[0;34m\u001b[0m\u001b[0m\n\u001b[1;32m    208\u001b[0m     \u001b[0m_\u001b[0m \u001b[0;34m=\u001b[0m \u001b[0mwidgets\u001b[0m\u001b[0;34m.\u001b[0m\u001b[0minteract\u001b[0m\u001b[0;34m(\u001b[0m\u001b[0mf\u001b[0m\u001b[0;34m,\u001b[0m \u001b[0mk\u001b[0m\u001b[0;34m=\u001b[0m\u001b[0mk_widget\u001b[0m\u001b[0;34m,\u001b[0m\u001b[0mmetode\u001b[0m\u001b[0;34m=\u001b[0m\u001b[0mm_widget\u001b[0m\u001b[0;34m)\u001b[0m\u001b[0;34m\u001b[0m\u001b[0m\n",
      "\u001b[0;32m/opt/local/Library/Frameworks/Python.framework/Versions/2.7/lib/python2.7/site-packages/IPython/utils/warn.pyc\u001b[0m in \u001b[0;36minit_hook\u001b[0;34m(self, *pargs, **kwargs)\u001b[0m\n\u001b[1;32m     71\u001b[0m     \u001b[0;31m# Hook the init method of the base class.\u001b[0m\u001b[0;34m\u001b[0m\u001b[0;34m\u001b[0m\u001b[0m\n\u001b[1;32m     72\u001b[0m     \u001b[0;32mdef\u001b[0m \u001b[0minit_hook\u001b[0m\u001b[0;34m(\u001b[0m\u001b[0mself\u001b[0m\u001b[0;34m,\u001b[0m \u001b[0;34m*\u001b[0m\u001b[0mpargs\u001b[0m\u001b[0;34m,\u001b[0m \u001b[0;34m**\u001b[0m\u001b[0mkwargs\u001b[0m\u001b[0;34m)\u001b[0m\u001b[0;34m:\u001b[0m\u001b[0;34m\u001b[0m\u001b[0m\n\u001b[0;32m---> 73\u001b[0;31m         \u001b[0mbase\u001b[0m\u001b[0;34m.\u001b[0m\u001b[0m__init__\u001b[0m\u001b[0;34m(\u001b[0m\u001b[0mself\u001b[0m\u001b[0;34m,\u001b[0m \u001b[0;34m*\u001b[0m\u001b[0mpargs\u001b[0m\u001b[0;34m,\u001b[0m \u001b[0;34m**\u001b[0m\u001b[0mkwargs\u001b[0m\u001b[0;34m)\u001b[0m\u001b[0;34m\u001b[0m\u001b[0m\n\u001b[0m\u001b[1;32m     74\u001b[0m \u001b[0;34m\u001b[0m\u001b[0m\n\u001b[1;32m     75\u001b[0m         \u001b[0;31m# Warn once per class.\u001b[0m\u001b[0;34m\u001b[0m\u001b[0;34m\u001b[0m\u001b[0m\n",
      "\u001b[0;32m/opt/local/Library/Frameworks/Python.framework/Versions/2.7/lib/python2.7/site-packages/IPython/html/widgets/widget_selection.pyc\u001b[0m in \u001b[0;36m__init__\u001b[0;34m(self, *args, **kwargs)\u001b[0m\n\u001b[1;32m     66\u001b[0m         \u001b[0;32mif\u001b[0m \u001b[0;34m'options'\u001b[0m \u001b[0;32min\u001b[0m \u001b[0mkwargs\u001b[0m\u001b[0;34m:\u001b[0m\u001b[0;34m\u001b[0m\u001b[0m\n\u001b[1;32m     67\u001b[0m             \u001b[0mself\u001b[0m\u001b[0;34m.\u001b[0m\u001b[0moptions\u001b[0m \u001b[0;34m=\u001b[0m \u001b[0mkwargs\u001b[0m\u001b[0;34m.\u001b[0m\u001b[0mpop\u001b[0m\u001b[0;34m(\u001b[0m\u001b[0;34m'options'\u001b[0m\u001b[0;34m)\u001b[0m\u001b[0;34m\u001b[0m\u001b[0m\n\u001b[0;32m---> 68\u001b[0;31m         \u001b[0mDOMWidget\u001b[0m\u001b[0;34m.\u001b[0m\u001b[0m__init__\u001b[0m\u001b[0;34m(\u001b[0m\u001b[0mself\u001b[0m\u001b[0;34m,\u001b[0m \u001b[0;34m*\u001b[0m\u001b[0margs\u001b[0m\u001b[0;34m,\u001b[0m \u001b[0;34m**\u001b[0m\u001b[0mkwargs\u001b[0m\u001b[0;34m)\u001b[0m\u001b[0;34m\u001b[0m\u001b[0m\n\u001b[0m\u001b[1;32m     69\u001b[0m         \u001b[0mself\u001b[0m\u001b[0;34m.\u001b[0m\u001b[0m_value_in_options\u001b[0m\u001b[0;34m(\u001b[0m\u001b[0;34m)\u001b[0m\u001b[0;34m\u001b[0m\u001b[0m\n\u001b[1;32m     70\u001b[0m \u001b[0;34m\u001b[0m\u001b[0m\n",
      "\u001b[0;32m/opt/local/Library/Frameworks/Python.framework/Versions/2.7/lib/python2.7/site-packages/IPython/html/widgets/widget.pyc\u001b[0m in \u001b[0;36m__init__\u001b[0;34m(self, *pargs, **kwargs)\u001b[0m\n\u001b[1;32m    479\u001b[0m \u001b[0;34m\u001b[0m\u001b[0m\n\u001b[1;32m    480\u001b[0m     \u001b[0;32mdef\u001b[0m \u001b[0m__init__\u001b[0m\u001b[0;34m(\u001b[0m\u001b[0mself\u001b[0m\u001b[0;34m,\u001b[0m \u001b[0;34m*\u001b[0m\u001b[0mpargs\u001b[0m\u001b[0;34m,\u001b[0m \u001b[0;34m**\u001b[0m\u001b[0mkwargs\u001b[0m\u001b[0;34m)\u001b[0m\u001b[0;34m:\u001b[0m\u001b[0;34m\u001b[0m\u001b[0m\n\u001b[0;32m--> 481\u001b[0;31m         \u001b[0msuper\u001b[0m\u001b[0;34m(\u001b[0m\u001b[0mDOMWidget\u001b[0m\u001b[0;34m,\u001b[0m \u001b[0mself\u001b[0m\u001b[0;34m)\u001b[0m\u001b[0;34m.\u001b[0m\u001b[0m__init__\u001b[0m\u001b[0;34m(\u001b[0m\u001b[0;34m*\u001b[0m\u001b[0mpargs\u001b[0m\u001b[0;34m,\u001b[0m \u001b[0;34m**\u001b[0m\u001b[0mkwargs\u001b[0m\u001b[0;34m)\u001b[0m\u001b[0;34m\u001b[0m\u001b[0m\n\u001b[0m\u001b[1;32m    482\u001b[0m \u001b[0;34m\u001b[0m\u001b[0m\n\u001b[1;32m    483\u001b[0m         \u001b[0;32mdef\u001b[0m \u001b[0m_validate_border\u001b[0m\u001b[0;34m(\u001b[0m\u001b[0mname\u001b[0m\u001b[0;34m,\u001b[0m \u001b[0mold\u001b[0m\u001b[0;34m,\u001b[0m \u001b[0mnew\u001b[0m\u001b[0;34m)\u001b[0m\u001b[0;34m:\u001b[0m\u001b[0;34m\u001b[0m\u001b[0m\n",
      "\u001b[0;32m/opt/local/Library/Frameworks/Python.framework/Versions/2.7/lib/python2.7/site-packages/IPython/html/widgets/widget.pyc\u001b[0m in \u001b[0;36m__init__\u001b[0;34m(self, **kwargs)\u001b[0m\n\u001b[1;32m    151\u001b[0m         \u001b[0;34m\"\"\"Public constructor\"\"\"\u001b[0m\u001b[0;34m\u001b[0m\u001b[0m\n\u001b[1;32m    152\u001b[0m         \u001b[0mself\u001b[0m\u001b[0;34m.\u001b[0m\u001b[0m_model_id\u001b[0m \u001b[0;34m=\u001b[0m \u001b[0mkwargs\u001b[0m\u001b[0;34m.\u001b[0m\u001b[0mpop\u001b[0m\u001b[0;34m(\u001b[0m\u001b[0;34m'model_id'\u001b[0m\u001b[0;34m,\u001b[0m \u001b[0mNone\u001b[0m\u001b[0;34m)\u001b[0m\u001b[0;34m\u001b[0m\u001b[0m\n\u001b[0;32m--> 153\u001b[0;31m         \u001b[0msuper\u001b[0m\u001b[0;34m(\u001b[0m\u001b[0mWidget\u001b[0m\u001b[0;34m,\u001b[0m \u001b[0mself\u001b[0m\u001b[0;34m)\u001b[0m\u001b[0;34m.\u001b[0m\u001b[0m__init__\u001b[0m\u001b[0;34m(\u001b[0m\u001b[0;34m**\u001b[0m\u001b[0mkwargs\u001b[0m\u001b[0;34m)\u001b[0m\u001b[0;34m\u001b[0m\u001b[0m\n\u001b[0m\u001b[1;32m    154\u001b[0m \u001b[0;34m\u001b[0m\u001b[0m\n\u001b[1;32m    155\u001b[0m         \u001b[0mWidget\u001b[0m\u001b[0;34m.\u001b[0m\u001b[0m_call_widget_constructed\u001b[0m\u001b[0;34m(\u001b[0m\u001b[0mself\u001b[0m\u001b[0;34m)\u001b[0m\u001b[0;34m\u001b[0m\u001b[0m\n",
      "\u001b[0;32m/opt/local/Library/Frameworks/Python.framework/Versions/2.7/lib/python2.7/site-packages/IPython/config/configurable.pyc\u001b[0m in \u001b[0;36m__init__\u001b[0;34m(self, **kwargs)\u001b[0m\n\u001b[1;32m     84\u001b[0m         \u001b[0;31m# This should go second so individual keyword arguments override\u001b[0m\u001b[0;34m\u001b[0m\u001b[0;34m\u001b[0m\u001b[0m\n\u001b[1;32m     85\u001b[0m         \u001b[0;31m# the values in config.\u001b[0m\u001b[0;34m\u001b[0m\u001b[0;34m\u001b[0m\u001b[0m\n\u001b[0;32m---> 86\u001b[0;31m         \u001b[0msuper\u001b[0m\u001b[0;34m(\u001b[0m\u001b[0mConfigurable\u001b[0m\u001b[0;34m,\u001b[0m \u001b[0mself\u001b[0m\u001b[0;34m)\u001b[0m\u001b[0;34m.\u001b[0m\u001b[0m__init__\u001b[0m\u001b[0;34m(\u001b[0m\u001b[0;34m**\u001b[0m\u001b[0mkwargs\u001b[0m\u001b[0;34m)\u001b[0m\u001b[0;34m\u001b[0m\u001b[0m\n\u001b[0m\u001b[1;32m     87\u001b[0m \u001b[0;34m\u001b[0m\u001b[0m\n\u001b[1;32m     88\u001b[0m     \u001b[0;31m#-------------------------------------------------------------------------\u001b[0m\u001b[0;34m\u001b[0m\u001b[0;34m\u001b[0m\u001b[0m\n",
      "\u001b[0;32m/opt/local/Library/Frameworks/Python.framework/Versions/2.7/lib/python2.7/site-packages/IPython/utils/traitlets.pyc\u001b[0m in \u001b[0;36m__init__\u001b[0;34m(self, *args, **kw)\u001b[0m\n\u001b[1;32m    563\u001b[0m         \u001b[0;31m# notifications.\u001b[0m\u001b[0;34m\u001b[0m\u001b[0;34m\u001b[0m\u001b[0m\n\u001b[1;32m    564\u001b[0m         \u001b[0;32mfor\u001b[0m \u001b[0mkey\u001b[0m\u001b[0;34m,\u001b[0m \u001b[0mvalue\u001b[0m \u001b[0;32min\u001b[0m \u001b[0miteritems\u001b[0m\u001b[0;34m(\u001b[0m\u001b[0mkw\u001b[0m\u001b[0;34m)\u001b[0m\u001b[0;34m:\u001b[0m\u001b[0;34m\u001b[0m\u001b[0m\n\u001b[0;32m--> 565\u001b[0;31m             \u001b[0msetattr\u001b[0m\u001b[0;34m(\u001b[0m\u001b[0mself\u001b[0m\u001b[0;34m,\u001b[0m \u001b[0mkey\u001b[0m\u001b[0;34m,\u001b[0m \u001b[0mvalue\u001b[0m\u001b[0;34m)\u001b[0m\u001b[0;34m\u001b[0m\u001b[0m\n\u001b[0m\u001b[1;32m    566\u001b[0m \u001b[0;34m\u001b[0m\u001b[0m\n\u001b[1;32m    567\u001b[0m     \u001b[0;32mdef\u001b[0m \u001b[0m_notify_trait\u001b[0m\u001b[0;34m(\u001b[0m\u001b[0mself\u001b[0m\u001b[0;34m,\u001b[0m \u001b[0mname\u001b[0m\u001b[0;34m,\u001b[0m \u001b[0mold_value\u001b[0m\u001b[0;34m,\u001b[0m \u001b[0mnew_value\u001b[0m\u001b[0;34m)\u001b[0m\u001b[0;34m:\u001b[0m\u001b[0;34m\u001b[0m\u001b[0m\n",
      "\u001b[0;32m/opt/local/Library/Frameworks/Python.framework/Versions/2.7/lib/python2.7/site-packages/IPython/utils/traitlets.pyc\u001b[0m in \u001b[0;36m__set__\u001b[0;34m(self, obj, value)\u001b[0m\n\u001b[1;32m    443\u001b[0m             \u001b[0;31m# we explicitly compare silent to True just in case the equality\u001b[0m\u001b[0;34m\u001b[0m\u001b[0;34m\u001b[0m\u001b[0m\n\u001b[1;32m    444\u001b[0m             \u001b[0;31m# comparison above returns something other than True/False\u001b[0m\u001b[0;34m\u001b[0m\u001b[0;34m\u001b[0m\u001b[0m\n\u001b[0;32m--> 445\u001b[0;31m             \u001b[0mobj\u001b[0m\u001b[0;34m.\u001b[0m\u001b[0m_notify_trait\u001b[0m\u001b[0;34m(\u001b[0m\u001b[0mself\u001b[0m\u001b[0;34m.\u001b[0m\u001b[0mname\u001b[0m\u001b[0;34m,\u001b[0m \u001b[0mold_value\u001b[0m\u001b[0;34m,\u001b[0m \u001b[0mnew_value\u001b[0m\u001b[0;34m)\u001b[0m\u001b[0;34m\u001b[0m\u001b[0m\n\u001b[0m\u001b[1;32m    446\u001b[0m \u001b[0;34m\u001b[0m\u001b[0m\n\u001b[1;32m    447\u001b[0m     \u001b[0;32mdef\u001b[0m \u001b[0m_validate\u001b[0m\u001b[0;34m(\u001b[0m\u001b[0mself\u001b[0m\u001b[0;34m,\u001b[0m \u001b[0mobj\u001b[0m\u001b[0;34m,\u001b[0m \u001b[0mvalue\u001b[0m\u001b[0;34m)\u001b[0m\u001b[0;34m:\u001b[0m\u001b[0;34m\u001b[0m\u001b[0m\n",
      "\u001b[0;32m/opt/local/Library/Frameworks/Python.framework/Versions/2.7/lib/python2.7/site-packages/IPython/html/widgets/widget.pyc\u001b[0m in \u001b[0;36m_notify_trait\u001b[0;34m(self, name, old_value, new_value)\u001b[0m\n\u001b[1;32m    371\u001b[0m         \u001b[0;31m# registered validation to be processed prior to allowing the widget\u001b[0m\u001b[0;34m\u001b[0m\u001b[0;34m\u001b[0m\u001b[0m\n\u001b[1;32m    372\u001b[0m         \u001b[0;31m# machinery to handle the state.\u001b[0m\u001b[0;34m\u001b[0m\u001b[0;34m\u001b[0m\u001b[0m\n\u001b[0;32m--> 373\u001b[0;31m         \u001b[0mLoggingConfigurable\u001b[0m\u001b[0;34m.\u001b[0m\u001b[0m_notify_trait\u001b[0m\u001b[0;34m(\u001b[0m\u001b[0mself\u001b[0m\u001b[0;34m,\u001b[0m \u001b[0mname\u001b[0m\u001b[0;34m,\u001b[0m \u001b[0mold_value\u001b[0m\u001b[0;34m,\u001b[0m \u001b[0mnew_value\u001b[0m\u001b[0;34m)\u001b[0m\u001b[0;34m\u001b[0m\u001b[0m\n\u001b[0m\u001b[1;32m    374\u001b[0m \u001b[0;34m\u001b[0m\u001b[0m\n\u001b[1;32m    375\u001b[0m         \u001b[0;31m# Send the state after the user registered callbacks for trait changes\u001b[0m\u001b[0;34m\u001b[0m\u001b[0;34m\u001b[0m\u001b[0m\n",
      "\u001b[0;32m/opt/local/Library/Frameworks/Python.framework/Versions/2.7/lib/python2.7/site-packages/IPython/utils/traitlets.pyc\u001b[0m in \u001b[0;36m_notify_trait\u001b[0;34m(self, name, old_value, new_value)\u001b[0m\n\u001b[1;32m    600\u001b[0m                     \u001b[0mc\u001b[0m\u001b[0;34m(\u001b[0m\u001b[0mname\u001b[0m\u001b[0;34m,\u001b[0m \u001b[0mnew_value\u001b[0m\u001b[0;34m)\u001b[0m\u001b[0;34m\u001b[0m\u001b[0m\n\u001b[1;32m    601\u001b[0m                 \u001b[0;32melif\u001b[0m \u001b[0mnargs\u001b[0m \u001b[0;34m+\u001b[0m \u001b[0moffset\u001b[0m \u001b[0;34m==\u001b[0m \u001b[0;36m3\u001b[0m\u001b[0;34m:\u001b[0m\u001b[0;34m\u001b[0m\u001b[0m\n\u001b[0;32m--> 602\u001b[0;31m                     \u001b[0mc\u001b[0m\u001b[0;34m(\u001b[0m\u001b[0mname\u001b[0m\u001b[0;34m,\u001b[0m \u001b[0mold_value\u001b[0m\u001b[0;34m,\u001b[0m \u001b[0mnew_value\u001b[0m\u001b[0;34m)\u001b[0m\u001b[0;34m\u001b[0m\u001b[0m\n\u001b[0m\u001b[1;32m    603\u001b[0m                 \u001b[0;32melse\u001b[0m\u001b[0;34m:\u001b[0m\u001b[0;34m\u001b[0m\u001b[0m\n\u001b[1;32m    604\u001b[0m                     raise TraitError('a trait changed callback '\n",
      "\u001b[0;32m/opt/local/Library/Frameworks/Python.framework/Versions/2.7/lib/python2.7/site-packages/IPython/html/widgets/widget_selection.pyc\u001b[0m in \u001b[0;36m_value_changed\u001b[0;34m(self, name, old, new)\u001b[0m\n\u001b[1;32m    126\u001b[0m                 \u001b[0;31m# undo the change, and raise KeyError\u001b[0m\u001b[0;34m\u001b[0m\u001b[0;34m\u001b[0m\u001b[0m\n\u001b[1;32m    127\u001b[0m                 \u001b[0mself\u001b[0m\u001b[0;34m.\u001b[0m\u001b[0mvalue\u001b[0m \u001b[0;34m=\u001b[0m \u001b[0mold\u001b[0m\u001b[0;34m\u001b[0m\u001b[0m\n\u001b[0;32m--> 128\u001b[0;31m                 \u001b[0;32mraise\u001b[0m \u001b[0mKeyError\u001b[0m\u001b[0;34m(\u001b[0m\u001b[0mnew\u001b[0m\u001b[0;34m)\u001b[0m\u001b[0;34m\u001b[0m\u001b[0m\n\u001b[0m\u001b[1;32m    129\u001b[0m             \u001b[0;32mfinally\u001b[0m\u001b[0;34m:\u001b[0m\u001b[0;34m\u001b[0m\u001b[0m\n\u001b[1;32m    130\u001b[0m                 \u001b[0mself\u001b[0m\u001b[0;34m.\u001b[0m\u001b[0mvalue_lock\u001b[0m\u001b[0;34m.\u001b[0m\u001b[0mrelease\u001b[0m\u001b[0;34m(\u001b[0m\u001b[0;34m)\u001b[0m\u001b[0;34m\u001b[0m\u001b[0m\n",
      "\u001b[0;31mKeyError\u001b[0m: 'uniform'"
     ]
    }
   ],
   "source": [
    "plot_interaktiv_kNN_klassifikation(X,y)"
   ]
  },
  {
   "cell_type": "markdown",
   "metadata": {},
   "source": [
    "### Opgave 2.1"
   ]
  },
  {
   "cell_type": "markdown",
   "metadata": {},
   "source": [
    "Den bedste værdi af $k$ vil være den, der laver færrest misklassifikationer (en misklassifikation er et datapunkt, der har en anden farve end baggrunden). \n",
    "Hvilken værdi af $k$, mener du, vil give færrest misklassifikationer?"
   ]
  },
  {
   "cell_type": "markdown",
   "metadata": {},
   "source": [
    "Den bedste værdi af $k$ kan bestemmes lidt mere objektivt ved at bruge cross-validation (CV). Dette er gjort herunder. Idéen er at vi tester en lang række af værdier for $k$ og bruger CV til at tjekke, hvor godt værdierne fungerer. I CV-delen deler vi datasættet op i fem lige store dele, bruger fire til at træne og tester på den sidste del. Til sidst gemmes fejlraten (dvs. hvor mange procent af test-datapunkterne, der blev misklassificeret).\n",
    "\n",
    "Koden herunder definerer en funktion (ikke en funktion i matematisk forstand), som kan gøre det hele for os. Det er ikke nødvendigt at lave en funktion - vi kunne sagtens bare have skrevet koden for sig selv - men på denne måde kan vi enormt let genbruge koden med et nyt datasæt og en ny række af $k$-værdier."
   ]
  },
  {
   "cell_type": "code",
   "execution_count": 6,
   "metadata": {
    "collapsed": False
   },
   "outputs": [],
   "source": [
    "def kNNCV(X, y, k_liste):\n",
    "    \"\"\"\n",
    "    Denne funktion laver en 5-fold CV af k-NN. Input er data (X) og \n",
    "    klasser (y), samt listen af k-værdier, der ønskes testet.\n",
    "    \n",
    "    Funktionen returnerer den gennemsnitlige fejlrate for hvert k og \n",
    "    usikkerheden på gennemsnittet.\n",
    "    \"\"\"\n",
    "\n",
    "    # To lister til at gemme de gennemsnitlige fejlrater og \n",
    "    # usikkerheden på gennemsnittene oprettes.\n",
    "    fejl = []\n",
    "    usikkerhed = []\n",
    "\n",
    "    for k in k_liste:\n",
    "\n",
    "        # Vi laver en 5 fold cross-validation.\n",
    "        cv = StratifiedKFold(y, n_folds=5)\n",
    "\n",
    "        # En liste til at gemme de fem fejlrater laves:\n",
    "        cv_fejl = []\n",
    "\n",
    "        for train_index, test_index in cv:\n",
    "            # Vi opretter og træner k-NN med det valgte k:\n",
    "            knn = KNeighborsClassifier(k, weights=\"uniform\")\n",
    "            knn.fit(X[train_index], y[train_index])\n",
    "\n",
    "            # Vi tester k-NN på testsættet:\n",
    "            pred = knn.predict(X[test_index])\n",
    "\n",
    "            # Fejlraten for hver fold gemmes.\n",
    "            cv_fejl.append(sum(pred != y[test_index])/len(test_index)*100)\n",
    "\n",
    "        # Den gennemsnitlige fejlrate over alle fold og usikkerheden \n",
    "        # (spredningen) på denne beregnes og gemmes:\n",
    "        fejl.append(mean(cv_fejl))\n",
    "        usikkerhed.append(std(cv_fejl)/sqrt(5))\n",
    "        \n",
    "    return fejl, usikkerhed   "
   ]
  },
  {
   "cell_type": "markdown",
   "metadata": {},
   "source": [
    "Vi kan nu bruges vores nye funktion til let at teste en lang række $k$-værdier. Lad os teste alle $k$ i intervallet $[1,50[$:"
   ]
  },
  {
   "cell_type": "code",
   "execution_count": 7,
   "metadata": {
    "collapsed": False
   },
   "outputs": [],
   "source": [
    "k_liste = arange(1,50)\n",
    "\n",
    "fejl, usikkerhed = kNNCV(X, y, k_liste)"
   ]
  },
  {
   "cell_type": "markdown",
   "metadata": {},
   "source": [
    "Vi kan nu udskrive fejlraterne og prøve at finde den mindste:"
   ]
  },
  {
   "cell_type": "code",
   "execution_count": 0,
   "metadata": {
    "collapsed": False
   },
   "outputs": [],
   "source": [
    "print(fejl)"
   ]
  },
  {
   "cell_type": "markdown",
   "metadata": {},
   "source": [
    "Det blev vi jo ikke så meget klogere af... I stedet for at kigge på tallene, som er meget uoverskuelige, kunne vi prøve at visualisere fejlraterne. Det kunne sagtens tænkes, at vi ville gøre dette flere gange, så lad os igen lave en funktion, som vi kan genbruge:"
   ]
  },
  {
   "cell_type": "code",
   "execution_count": 0,
   "metadata": {
    "collapsed": False
   },
   "outputs": [],
   "source": [
    "def plot_fejl(fejl, usikkerhed, k_liste):\n",
    "\n",
    "    # Plot fejl med usikkerheder:\n",
    "    errorbar(k_liste, fejl, usikkerhed, fmt=\"o\", markeredgecolor=cseq[0], capsize=0)\n",
    "\n",
    "    # Ovenstående linje er i princippet alt, hvad vi behøver, men lad os også\n",
    "    # få markeret de bedste værdier med en pil - bare fordi vi kan!\n",
    "    # Først bestemmer vi de(t) bedste k:\n",
    "    bedste_k = k_liste[argwhere(fejl == min(fejl))]\n",
    "\n",
    "    # Hvis der kun er en enkelt god værdi ('bedste_k' er et heltal), laver vi\n",
    "    # en enkelt pil. Hvis ikke, er 'bedste_k' en liste af værdier, der er lige \n",
    "    # gode, så vi laver en pil for hver.\n",
    "    if type(bedste_k) == int:\n",
    "        arrow(bedste_k, fejl[bedste_k-1] + 0.1, 0, -.04, width=.1, \n",
    "        head_width=.9, head_length=.015, overhang=.2, color=cseq[1])\n",
    "        \n",
    "    else:\n",
    "        for k in bedste_k:\n",
    "            arrow(k, fejl[k-1] + 3, 0, -1, width=.1, \n",
    "                  head_width=.5, head_length=.8, overhang=.2, color=cseq[1])\n",
    "            \n",
    "    # y-aksens udstrækning:\n",
    "    ylim(0,30)\n",
    "\n",
    "    # \"Enheder\" på akserne:\n",
    "    xlabel(\"$k$\")\n",
    "    ylabel(\"Fejl (procent)\")"
   ]
  },
  {
   "cell_type": "markdown",
   "metadata": {},
   "source": [
    "Vi kan nu bruge vores funktion til at lave et plot af alle fejlraterne:"
   ]
  },
  {
   "cell_type": "code",
   "execution_count": 0,
   "metadata": {
    "collapsed": False
   },
   "outputs": [],
   "source": [
    "plot_fejl(fejl, usikkerhed, k_liste)"
   ]
  },
  {
   "cell_type": "markdown",
   "metadata": {},
   "source": [
    "### Opgave 2.2"
   ]
  },
  {
   "cell_type": "markdown",
   "metadata": {},
   "source": [
    "*a)* Hvilke værdier af $k$ ser generelt ud til at være de bedste? Små eller store værdier?\n",
    "\n",
    "*b)* Kan du overbevise dig selv om, hvorfor disse værdier er de bedste? (Du kan evt. gå tilbage til det interaktive plot og prøve forskellige værdier igen)."
   ]
  },
  {
   "cell_type": "markdown",
   "metadata": {},
   "source": [
    "# Opgave 3"
   ]
  },
  {
   "cell_type": "markdown",
   "metadata": {},
   "source": [
    "Lad os gentage ovenstående eksempel, bare med et nyt datasæt. Datasættet er igen syntetisk, så vi starter med at generere og visualisere det:"
   ]
  },
  {
   "cell_type": "code",
   "execution_count": 0,
   "metadata": {
    "collapsed": False
   },
   "outputs": [],
   "source": [
    "X, y = make_moons(n_samples=300, noise=.15, random_state=11)\n",
    "\n",
    "scatter(X[:,0], X[:,1], s=25, c=cm.Set2(y/7), edgecolor=cm.gray(.95), lw=0.5)"
   ]
  },
  {
   "cell_type": "markdown",
   "metadata": {},
   "source": [
    "Lad os se, hvordan k-NN klarer sig på dette datasæt. Prøv at teste nogle forskellige værdier for $k$ herunder."
   ]
  },
  {
   "cell_type": "code",
   "execution_count": 0,
   "metadata": {
    "collapsed": False
   },
   "outputs": [],
   "source": [
    "plot_interaktiv_kNN_klassifikation(X,y)"
   ]
  },
  {
   "cell_type": "markdown",
   "metadata": {},
   "source": [
    "### Opgave 3.1"
   ]
  },
  {
   "cell_type": "markdown",
   "metadata": {},
   "source": [
    "Hvilke værdier af $k$, mener du, giver færrest misklassifikationer?"
   ]
  },
  {
   "cell_type": "markdown",
   "metadata": {},
   "source": [
    "Lad os igen prøve at bruge CV og se, hvilke værdier af $k$, der er de bedste. Fordi vi før lavede funktioner til både at lave CV og visualisere fejlraterne, kan vi gøre begge dele med kun to linjer kode - smart, ikke? :)"
   ]
  },
  {
   "cell_type": "code",
   "execution_count": 0,
   "metadata": {
    "collapsed": False
   },
   "outputs": [],
   "source": [
    "fejl, usikkerhed = kNNCV(X, y, k_liste)\n",
    "plot_fejl(fejl, usikkerhed, k_liste)"
   ]
  },
  {
   "cell_type": "markdown",
   "metadata": {},
   "source": [
    "### Opgave 3.2"
   ]
  },
  {
   "cell_type": "markdown",
   "metadata": {},
   "source": [
    "*a)* Hvilke værdier af $k$ ser generelt ud til at være de bedste? Små eller store værdier?\n",
    "\n",
    "*b)* Kan du overbevise dig selv om, hvorfor disse værdier er de bedste?"
   ]
  },
  {
   "cell_type": "markdown",
   "metadata": {},
   "source": [
    "Når du sammenligner de bedste værdier for $k$ i opgave 2 med dem i opgave 3, vil du se, at de er grundlæggende forskellige: I opgave 2 var høje værdier af $k$ generelt bedst, mens de små værdier var bedre i opgave 3. Man kan derfor ikke lave tommelfingerregler om, hvilke værdier for $k$, der virker bedst. Det kommer helt an på datasættet, og netop af denne grund er det vigtigt, at man altid tester en masse værdier med CV."
   ]
  }
 ],
 "metadata": {
  "kernelspec": {
   "display_name": "Python 2",
   "language": "python",
   "name": "python2"
  },
  "language_info": {
   "codemirror_mode": {
    "name": "ipython",
    "version": 2
   },
   "file_extension": ".py",
   "mimetype": "text/x-python",
   "name": "python",
   "nbconvert_exporter": "python",
   "pygments_lexer": "ipython2",
   "version": "2.7.9"
  }
 },
 "nbformat": 4,
 "nbformat_minor": 0
}
