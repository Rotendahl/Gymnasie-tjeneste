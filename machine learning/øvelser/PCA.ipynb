{
 "cells": [
  {
   "cell_type": "code",
   "execution_count": 1,
   "metadata": {
    "collapsed": false
   },
   "outputs": [
    {
     "name": "stdout",
     "output_type": "stream",
     "text": [
      "Populating the interactive namespace from numpy and matplotlib\n"
     ]
    },
    {
     "ename": "SyntaxError",
     "evalue": "Non-ASCII character '\\xc3' in file baggrundsting.py on line 98, but no encoding declared; see http://python.org/dev/peps/pep-0263/ for details (baggrundsting.py, line 98)",
     "output_type": "error",
     "traceback": [
      "\u001b[0;36m  File \u001b[0;32m\"baggrundsting.py\"\u001b[0;36m, line \u001b[0;32m98\u001b[0m\n\u001b[0;31m    print(\"De første %i principale komponenter forklarer %f %% af dataens varians\" % (pca.n_components_, 100*np.sum(pca.explained_variance_ratio_)))\u001b[0m\n\u001b[0m                                                                                                                                                    ^\u001b[0m\n\u001b[0;31mSyntaxError\u001b[0m\u001b[0;31m:\u001b[0m Non-ASCII character '\\xc3' in file baggrundsting.py on line 98, but no encoding declared; see http://python.org/dev/peps/pep-0263/ for details\n"
     ]
    }
   ],
   "source": [
    "%pylab inline\n",
    "from baggrundsting import *\n",
    "\n",
    "pylab.rcParams['figure.figsize'] = (10.0, 6.0)"
   ]
  },
  {
   "cell_type": "markdown",
   "metadata": {},
   "source": [
    "# Dimensionsreduktion med PCA"
   ]
  },
  {
   "cell_type": "markdown",
   "metadata": {},
   "source": [
    "Når man arbejder med machine learning, ser man ofte på datasæt med mange attributter (målinger). Derfor bliver det nødvendigt at kunne skabe overblik over data og finde relevante dele. Hertil kan vi bruge dimensionsreduktion.\n",
    "\n",
    "Metoden der bruges kaldes PCA (Principal Component Analysis) og går ud på at beskrive punkter i et alternativt koordinatsystem der defineres af de såkaldte principale komponenter. \n",
    "\n",
    "De principale komponenter er vektorer der er konstrueret således at det meste af spredningen i punkterne ligger langs den første principale komponent, næstmest langs den anden o.s.v. Man kan så nøjes med at angive punkters position med hensyn til de vigtigste principale komponenter og derved reducere antallet af dimensioner i sættet. \n",
    "\n",
    "Her vil vi ikke gå ind i hvordan man finder principale komponenter, men kun se på hvordan de opfører sig."
   ]
  },
  {
   "cell_type": "markdown",
   "metadata": {},
   "source": [
    "## \"Forståelig\" data"
   ]
  },
  {
   "cell_type": "markdown",
   "metadata": {},
   "source": [
    "Vi starter med punkter, der ligger i tre dimensioner så vi stadig er i stand til at visualisere dem. Nedenfor genereres et sæt punkter der \"næsten\" ligger i planet $z=-x+2y+5$. "
   ]
  },
  {
   "cell_type": "markdown",
   "metadata": {},
   "source": [
    "### Spørgsmål 1"
   ]
  },
  {
   "cell_type": "markdown",
   "metadata": {},
   "source": [
    "Man kan ud fra datasættet finde tre principale komponenter (her kaldet $\\vec v_1$, $\\vec v_2$ og $\\vec v_3$). Hvorfor tre? husk at de definerer et koordinatsystem.\n",
    "\n",
    "På plottet der fremkommer ved at kører næste kodelinje er de angivet i rød og deres koordinater angivet under plottet. Derudover er de indtegnet med længde afhængig af hvor stor en del af punkternes varians de \"forklarer\", deres reelle længde er 1."
   ]
  },
  {
   "cell_type": "markdown",
   "metadata": {},
   "source": [
    "### Spørgsmål 2"
   ]
  },
  {
   "cell_type": "markdown",
   "metadata": {},
   "source": [
    "Stemmer længder og retninger overens med hvad vi kunne forvente, når punkter ligger omtrent i samme plan?"
   ]
  },
  {
   "cell_type": "code",
   "execution_count": null,
   "metadata": {
    "collapsed": false
   },
   "outputs": [],
   "source": [
    "pca, projektion = pcaplot(0.5)"
   ]
  },
  {
   "cell_type": "markdown",
   "metadata": {},
   "source": [
    "Når den ene af komponenterne forklarer så meget mindre varians end de andre, kan det forstås som at den forklarer mindre af punkternes position. Derfor kan vi men en hvis rimelighed \"nøjes\" med at angive punkternes placering i forhold til de to første principale komponenter. Punkterne kan altså skrives $\\vec P=a\\vec v_1+b\\vec v_2$. Da de nu kun har to koordinater $a$ og $b$ kan vi tegne dem i to dimensioner."
   ]
  },
  {
   "cell_type": "markdown",
   "metadata": {},
   "source": [
    "### Spørgsmål 3"
   ]
  },
  {
   "cell_type": "markdown",
   "metadata": {},
   "source": [
    "Overvej hvad vi kunne bruge dette til, hvis vi var startet med punkter i flere dimensioner."
   ]
  },
  {
   "cell_type": "code",
   "execution_count": null,
   "metadata": {
    "collapsed": false
   },
   "outputs": [],
   "source": [
    "inversplot(pca,projektion)"
   ]
  },
  {
   "cell_type": "markdown",
   "metadata": {},
   "source": [
    "### Spørgsmål 4"
   ]
  },
  {
   "cell_type": "markdown",
   "metadata": {},
   "source": [
    "Tallet i _pcaplot(0.5)_ i kodelinjen længere oppe styrer hvor tæt punkterne er på at ligge på planet. Hvis der er tid, så prøv at se på hvilken effekt det har på de principale komponenter. Giver det mening?"
   ]
  },
  {
   "cell_type": "markdown",
   "metadata": {},
   "source": [
    "## Billeder som punkter"
   ]
  },
  {
   "cell_type": "markdown",
   "metadata": {},
   "source": [
    "Det kan sagtens være vanskeligt at overskue tre dimensioner, men ofte har man mange flere. Vi skal derfor se på \"punkter\" med mange flere dimensioner. \n",
    "\n",
    "Datasættet er 400 billeder af ansigter, hvor hvert billede har $64\\times64$ pixels. For at beskrive billedet skal altså bruges $64^2=4096$ værdier, men med PCA kan det måske reduceres. Nedenfor ses otte af dem.\n",
    "\n",
    "Billederne er taget mellem '92 og '94 af AT&T Laboratories Cambridge. "
   ]
  },
  {
   "cell_type": "code",
   "execution_count": null,
   "metadata": {
    "collapsed": false
   },
   "outputs": [],
   "source": [
    "plotbilleder()"
   ]
  },
  {
   "cell_type": "markdown",
   "metadata": {},
   "source": [
    "Da hver af de principale komponenter har lige så mange koordinater som portrætterne, kan man vælge at opfatte dem som billeder. Man kunne kalde dem en slags grundbilleder (og det vil jeg gøre) og se dem som en slags byggesten for de andre billeder. Nogle af dem kan ses nedenfor. \n",
    "\n",
    "Datasættet kan give op til 400 af dem, hvor mange der hhv. regnes og vises kan ændres ved at justere tallene _n_ og _show_."
   ]
  },
  {
   "cell_type": "markdown",
   "metadata": {},
   "source": [
    "### Spørgsmål 5"
   ]
  },
  {
   "cell_type": "markdown",
   "metadata": {},
   "source": [
    "Hvorfor kan vi lave 400 af dem selvom vi har 4096 dimensioner? Udover at \"bygge ansigter\" af dem, hvad kunne man forestille sig at de kunne bruges til?"
   ]
  },
  {
   "cell_type": "code",
   "execution_count": null,
   "metadata": {
    "collapsed": false
   },
   "outputs": [],
   "source": [
    "grundansigter(n=17, vis=17)"
   ]
  },
  {
   "cell_type": "markdown",
   "metadata": {},
   "source": [
    "Ligesom med punkterne kan man rekonstruere billeder ud fra vilkårligt antal af de principale komponenter. Prøv at vælge et ansigt og se på hvilken effekt det har når man ændrer antallet der bruges til at rekonstruere et billede."
   ]
  },
  {
   "cell_type": "markdown",
   "metadata": {},
   "source": [
    "### Spørgsmål 6"
   ]
  },
  {
   "cell_type": "markdown",
   "metadata": {},
   "source": [
    "Hvor mange komponenter skal vi bruge for tilfredsstillende at kunne reproducere billeder? Hvad kunne vi f. eks. bruge PCA til i forhold til billeder?"
   ]
  },
  {
   "cell_type": "code",
   "execution_count": null,
   "metadata": {
    "collapsed": false
   },
   "outputs": [],
   "source": [
    "projektionplot()"
   ]
  },
  {
   "cell_type": "code",
   "execution_count": null,
   "metadata": {
    "collapsed": false
   },
   "outputs": [],
   "source": []
  }
 ],
 "metadata": {
  "kernelspec": {
   "display_name": "Python 2",
   "language": "python",
   "name": "python2"
  },
  "language_info": {
   "codemirror_mode": {
    "name": "ipython",
    "version": 2
   },
   "file_extension": ".py",
   "mimetype": "text/x-python",
   "name": "python",
   "nbconvert_exporter": "python",
   "pygments_lexer": "ipython2",
   "version": "2.7.9"
  }
 },
 "nbformat": 4,
 "nbformat_minor": 0
}
