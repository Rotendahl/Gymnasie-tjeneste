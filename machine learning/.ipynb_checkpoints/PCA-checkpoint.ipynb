{
 "metadata": {
  "name": "",
  "signature": "sha256:b9fdfe230a4bfc243efc7157999dabc177724fe3af68fd31ade0a5d556d5aae5"
 },
 "nbformat": 3,
 "nbformat_minor": 0,
 "worksheets": [
  {
   "cells": [
    {
     "cell_type": "code",
     "collapsed": false,
     "input": [
      "%pylab inline\n",
      "from baggrundsting import *\n",
      "\n",
      "pylab.rcParams['figure.figsize'] = (10.0, 6.0)"
     ],
     "language": "python",
     "metadata": {},
     "outputs": []
    },
    {
     "cell_type": "heading",
     "level": 1,
     "metadata": {},
     "source": [
      "Dimensionsreduktion med PCA"
     ]
    },
    {
     "cell_type": "markdown",
     "metadata": {},
     "source": [
      "N\u00e5r man arbejder med machine learning, ser man ofte p\u00e5 datas\u00e6t med mange attributter (m\u00e5linger). Derfor bliver det n\u00f8dvendigt at kunne skabe overblik over data og finde relevante dele. Hertil kan vi bruge dimensionsreduktion.\n",
      "\n",
      "Metoden der bruges kaldes PCA (Principal Component Analysis) og g\u00e5r ud p\u00e5 at beskrive punkter i et alternativt koordinatsystem der defineres af de s\u00e5kaldte principale komponenter. \n",
      "\n",
      "De principale komponenter er vektorer der er konstrueret s\u00e5ledes at det meste af spredningen i punkterne ligger langs den f\u00f8rste principale komponent, n\u00e6stmest langs den anden o.s.v. Man kan s\u00e5 n\u00f8jes med at angive punkters position med hensyn til de vigtigste principale komponenter og derved reducere antallet af dimensioner i s\u00e6ttet. \n",
      "\n",
      "Her vil vi ikke g\u00e5 ind i hvordan man finder principale komponenter, men kun se p\u00e5 hvordan de opf\u00f8rer sig."
     ]
    },
    {
     "cell_type": "heading",
     "level": 2,
     "metadata": {},
     "source": [
      "\"Forst\u00e5elig\" data"
     ]
    },
    {
     "cell_type": "markdown",
     "metadata": {},
     "source": [
      "Vi starter med punkter, der ligger i tre dimensioner s\u00e5 vi stadig er i stand til at visualisere dem. Nedenfor genereres et s\u00e6t punkter der \"n\u00e6sten\" ligger i planet $z=-x+2y+5$. "
     ]
    },
    {
     "cell_type": "heading",
     "level": 3,
     "metadata": {},
     "source": [
      "Sp\u00f8rgsm\u00e5l 1"
     ]
    },
    {
     "cell_type": "markdown",
     "metadata": {},
     "source": [
      "Man kan ud fra datas\u00e6ttet finde tre principale komponenter (her kaldet $\\vec v_1$, $\\vec v_2$ og $\\vec v_3$). Hvorfor tre? husk at de definerer et koordinatsystem.\n",
      "\n",
      "P\u00e5 plottet der fremkommer ved at k\u00f8rer n\u00e6ste kodelinje er de angivet i r\u00f8d og deres koordinater angivet under plottet. Derudover er de indtegnet med l\u00e6ngde afh\u00e6ngig af hvor stor en del af punkternes varians de \"forklarer\", deres reelle l\u00e6ngde er 1."
     ]
    },
    {
     "cell_type": "heading",
     "level": 3,
     "metadata": {},
     "source": [
      "Sp\u00f8rgsm\u00e5l 2"
     ]
    },
    {
     "cell_type": "markdown",
     "metadata": {},
     "source": [
      "Stemmer l\u00e6ngder og retninger overens med hvad vi kunne forvente, n\u00e5r punkter ligger omtrent i samme plan?"
     ]
    },
    {
     "cell_type": "code",
     "collapsed": false,
     "input": [
      "pca, projektion = pcaplot(0.5)"
     ],
     "language": "python",
     "metadata": {},
     "outputs": []
    },
    {
     "cell_type": "markdown",
     "metadata": {},
     "source": [
      "N\u00e5r den ene af komponenterne forklarer s\u00e5 meget mindre varians end de andre, kan det forst\u00e5s som at den forklarer mindre af punkternes position. Derfor kan vi men en hvis rimelighed \"n\u00f8jes\" med at angive punkternes placering i forhold til de to f\u00f8rste principale komponenter. Punkterne kan alts\u00e5 skrives $\\vec P=a\\vec v_1+b\\vec v_2$. Da de nu kun har to koordinater $a$ og $b$ kan vi tegne dem i to dimensioner."
     ]
    },
    {
     "cell_type": "heading",
     "level": 3,
     "metadata": {},
     "source": [
      "Sp\u00f8rgsm\u00e5l 3"
     ]
    },
    {
     "cell_type": "markdown",
     "metadata": {},
     "source": [
      "Overvej hvad vi kunne bruge dette til, hvis vi var startet med punkter i flere dimensioner."
     ]
    },
    {
     "cell_type": "code",
     "collapsed": false,
     "input": [
      "inversplot(pca,projektion)"
     ],
     "language": "python",
     "metadata": {},
     "outputs": []
    },
    {
     "cell_type": "heading",
     "level": 3,
     "metadata": {},
     "source": [
      "Sp\u00f8rgsm\u00e5l 4"
     ]
    },
    {
     "cell_type": "markdown",
     "metadata": {},
     "source": [
      "Tallet i _pcaplot(0.5)_ i kodelinjen l\u00e6ngere oppe styrer hvor t\u00e6t punkterne er p\u00e5 at ligge p\u00e5 planet. Hvis der er tid, s\u00e5 pr\u00f8v at se p\u00e5 hvilken effekt det har p\u00e5 de principale komponenter. Giver det mening?"
     ]
    },
    {
     "cell_type": "heading",
     "level": 2,
     "metadata": {},
     "source": [
      "Billeder som punkter"
     ]
    },
    {
     "cell_type": "markdown",
     "metadata": {},
     "source": [
      "Det kan sagtens v\u00e6re vanskeligt at overskue tre dimensioner, men ofte har man mange flere. Vi skal derfor se p\u00e5 \"punkter\" med mange flere dimensioner. \n",
      "\n",
      "Datas\u00e6ttet er 400 billeder af ansigter, hvor hvert billede har $64\\times64$ pixels. For at beskrive billedet skal alts\u00e5 bruges $64^2=4096$ v\u00e6rdier, men med PCA kan det m\u00e5ske reduceres. Nedenfor ses otte af dem.\n",
      "\n",
      "Billederne er taget mellem '92 og '94 af AT&T Laboratories Cambridge. "
     ]
    },
    {
     "cell_type": "code",
     "collapsed": false,
     "input": [
      "plotbilleder()"
     ],
     "language": "python",
     "metadata": {},
     "outputs": []
    },
    {
     "cell_type": "markdown",
     "metadata": {},
     "source": [
      "Da hver af de principale komponenter har lige s\u00e5 mange koordinater som portr\u00e6tterne, kan man v\u00e6lge at opfatte dem som billeder. Man kunne kalde dem en slags grundbilleder (og det vil jeg g\u00f8re) og se dem som en slags byggesten for de andre billeder. Nogle af dem kan ses nedenfor. \n",
      "\n",
      "Datas\u00e6ttet kan give op til 400 af dem, hvor mange der hhv. regnes og vises kan \u00e6ndres ved at justere tallene _n_ og _show_."
     ]
    },
    {
     "cell_type": "heading",
     "level": 3,
     "metadata": {},
     "source": [
      "Sp\u00f8rgsm\u00e5l 5"
     ]
    },
    {
     "cell_type": "markdown",
     "metadata": {},
     "source": [
      "Hvorfor kan vi lave 400 af dem selvom vi har 4096 dimensioner? Udover at \"bygge ansigter\" af dem, hvad kunne man forestille sig at de kunne bruges til?"
     ]
    },
    {
     "cell_type": "code",
     "collapsed": false,
     "input": [
      "grundansigter(n=17, vis=17)"
     ],
     "language": "python",
     "metadata": {},
     "outputs": []
    },
    {
     "cell_type": "markdown",
     "metadata": {},
     "source": [
      "Ligesom med punkterne kan man rekonstruere billeder ud fra vilk\u00e5rligt antal af de principale komponenter. Pr\u00f8v at v\u00e6lge et ansigt og se p\u00e5 hvilken effekt det har n\u00e5r man \u00e6ndrer antallet der bruges til at rekonstruere et billede."
     ]
    },
    {
     "cell_type": "heading",
     "level": 3,
     "metadata": {},
     "source": [
      "Sp\u00f8rgsm\u00e5l 6"
     ]
    },
    {
     "cell_type": "markdown",
     "metadata": {},
     "source": [
      "Hvor mange komponenter skal vi bruge for tilfredsstillende at kunne reproducere billeder? Hvad kunne vi f. eks. bruge PCA til i forhold til billeder?"
     ]
    },
    {
     "cell_type": "code",
     "collapsed": false,
     "input": [
      "projektionplot()"
     ],
     "language": "python",
     "metadata": {},
     "outputs": []
    },
    {
     "cell_type": "code",
     "collapsed": false,
     "input": [],
     "language": "python",
     "metadata": {},
     "outputs": []
    }
   ],
   "metadata": {}
  }
 ]
}